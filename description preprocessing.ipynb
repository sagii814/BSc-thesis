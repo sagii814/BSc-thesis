{
 "cells": [
  {
   "cell_type": "code",
   "execution_count": 1,
   "metadata": {},
   "outputs": [],
   "source": [
    "import pandas as pd\n",
    "import numpy as np\n",
    "import re"
   ]
  },
  {
   "cell_type": "code",
   "execution_count": 2,
   "metadata": {},
   "outputs": [
    {
     "name": "stdout",
     "output_type": "stream",
     "text": [
      "<class 'pandas.core.frame.DataFrame'>\n",
      "Int64Index: 580 entries, 0 to 579\n",
      "Data columns (total 20 columns):\n",
      " #   Column           Non-Null Count  Dtype  \n",
      "---  ------           --------------  -----  \n",
      " 0   Location         580 non-null    object \n",
      " 1   School           580 non-null    object \n",
      " 2   Course           580 non-null    object \n",
      " 3   Degree_type      580 non-null    object \n",
      " 4   Pace             451 non-null    object \n",
      " 5   Duration         406 non-null    object \n",
      " 6   Language         580 non-null    object \n",
      " 7   Mode             555 non-null    object \n",
      " 8   Description      580 non-null    object \n",
      " 9   Link             580 non-null    object \n",
      " 10  Country          580 non-null    object \n",
      " 11  City             580 non-null    object \n",
      " 12  Continent        580 non-null    object \n",
      " 13  Duration_years   580 non-null    float64\n",
      " 14  InEnglish        580 non-null    bool   \n",
      " 15  Lang_primary     580 non-null    object \n",
      " 16  Introduction     580 non-null    object \n",
      " 17  Curriculum       153 non-null    object \n",
      " 18  Careers          175 non-null    object \n",
      " 19  Program_outcome  56 non-null     object \n",
      "dtypes: bool(1), float64(1), object(18)\n",
      "memory usage: 91.2+ KB\n"
     ]
    }
   ],
   "source": [
    "df1 = pd.read_csv('df1_final_business_data_information.csv', index_col=0)\n",
    "df1.info()"
   ]
  },
  {
   "cell_type": "code",
   "execution_count": 3,
   "metadata": {},
   "outputs": [
    {
     "name": "stdout",
     "output_type": "stream",
     "text": [
      "<class 'pandas.core.frame.DataFrame'>\n",
      "Int64Index: 469 entries, 0 to 468\n",
      "Data columns (total 20 columns):\n",
      " #   Column           Non-Null Count  Dtype  \n",
      "---  ------           --------------  -----  \n",
      " 0   Location         469 non-null    object \n",
      " 1   School           469 non-null    object \n",
      " 2   Course           469 non-null    object \n",
      " 3   Degree_type      469 non-null    object \n",
      " 4   Pace             307 non-null    object \n",
      " 5   Duration         280 non-null    object \n",
      " 6   Language         469 non-null    object \n",
      " 7   Mode             443 non-null    object \n",
      " 8   Description      469 non-null    object \n",
      " 9   Link             469 non-null    object \n",
      " 10  Country          469 non-null    object \n",
      " 11  City             469 non-null    object \n",
      " 12  Continent        469 non-null    object \n",
      " 13  Duration_years   469 non-null    float64\n",
      " 14  InEnglish        469 non-null    bool   \n",
      " 15  Lang_primary     469 non-null    object \n",
      " 16  Introduction     469 non-null    object \n",
      " 17  Curriculum       119 non-null    object \n",
      " 18  Careers          101 non-null    object \n",
      " 19  Program_outcome  40 non-null     object \n",
      "dtypes: bool(1), float64(1), object(18)\n",
      "memory usage: 73.7+ KB\n"
     ]
    }
   ],
   "source": [
    "df2 = pd.read_csv('df1_dev_final.csv', index_col=0)\n",
    "df2.info()"
   ]
  },
  {
   "cell_type": "code",
   "execution_count": 4,
   "metadata": {},
   "outputs": [],
   "source": [
    "df = pd.concat([df1,df2])"
   ]
  },
  {
   "cell_type": "code",
   "execution_count": 5,
   "metadata": {},
   "outputs": [],
   "source": [
    "df.reset_index(drop = True, inplace = True)"
   ]
  },
  {
   "cell_type": "code",
   "execution_count": 6,
   "metadata": {},
   "outputs": [
    {
     "data": {
      "text/plain": [
       "126"
      ]
     },
     "execution_count": 6,
     "metadata": {},
     "output_type": "execute_result"
    }
   ],
   "source": [
    "df.duplicated().sum()"
   ]
  },
  {
   "cell_type": "code",
   "execution_count": 7,
   "metadata": {},
   "outputs": [
    {
     "name": "stdout",
     "output_type": "stream",
     "text": [
      "<class 'pandas.core.frame.DataFrame'>\n",
      "RangeIndex: 923 entries, 0 to 922\n",
      "Data columns (total 20 columns):\n",
      " #   Column           Non-Null Count  Dtype  \n",
      "---  ------           --------------  -----  \n",
      " 0   Location         923 non-null    object \n",
      " 1   School           923 non-null    object \n",
      " 2   Course           923 non-null    object \n",
      " 3   Degree_type      923 non-null    object \n",
      " 4   Pace             660 non-null    object \n",
      " 5   Duration         595 non-null    object \n",
      " 6   Language         923 non-null    object \n",
      " 7   Mode             877 non-null    object \n",
      " 8   Description      923 non-null    object \n",
      " 9   Link             923 non-null    object \n",
      " 10  Country          923 non-null    object \n",
      " 11  City             923 non-null    object \n",
      " 12  Continent        923 non-null    object \n",
      " 13  Duration_years   923 non-null    float64\n",
      " 14  InEnglish        923 non-null    bool   \n",
      " 15  Lang_primary     923 non-null    object \n",
      " 16  Introduction     923 non-null    object \n",
      " 17  Curriculum       244 non-null    object \n",
      " 18  Careers          247 non-null    object \n",
      " 19  Program_outcome  87 non-null     object \n",
      "dtypes: bool(1), float64(1), object(18)\n",
      "memory usage: 138.0+ KB\n"
     ]
    }
   ],
   "source": [
    "df.drop_duplicates(keep = 'first', inplace = True, ignore_index = True)\n",
    "df.info()"
   ]
  },
  {
   "cell_type": "code",
   "execution_count": 8,
   "metadata": {},
   "outputs": [
    {
     "data": {
      "text/plain": [
       "28"
      ]
     },
     "execution_count": 8,
     "metadata": {},
     "output_type": "execute_result"
    }
   ],
   "source": [
    "df['Link'].duplicated().sum()"
   ]
  },
  {
   "cell_type": "code",
   "execution_count": 9,
   "metadata": {},
   "outputs": [
    {
     "data": {
      "text/html": [
       "<div>\n",
       "<style scoped>\n",
       "    .dataframe tbody tr th:only-of-type {\n",
       "        vertical-align: middle;\n",
       "    }\n",
       "\n",
       "    .dataframe tbody tr th {\n",
       "        vertical-align: top;\n",
       "    }\n",
       "\n",
       "    .dataframe thead th {\n",
       "        text-align: right;\n",
       "    }\n",
       "</style>\n",
       "<table border=\"1\" class=\"dataframe\">\n",
       "  <thead>\n",
       "    <tr style=\"text-align: right;\">\n",
       "      <th></th>\n",
       "      <th>Location</th>\n",
       "      <th>School</th>\n",
       "      <th>Course</th>\n",
       "      <th>Degree_type</th>\n",
       "      <th>Pace</th>\n",
       "      <th>Duration</th>\n",
       "      <th>Language</th>\n",
       "      <th>Mode</th>\n",
       "      <th>Description</th>\n",
       "      <th>Link</th>\n",
       "      <th>Country</th>\n",
       "      <th>City</th>\n",
       "      <th>Continent</th>\n",
       "      <th>Duration_years</th>\n",
       "      <th>InEnglish</th>\n",
       "      <th>Lang_primary</th>\n",
       "      <th>Introduction</th>\n",
       "      <th>Curriculum</th>\n",
       "      <th>Careers</th>\n",
       "      <th>Program_outcome</th>\n",
       "    </tr>\n",
       "  </thead>\n",
       "  <tbody>\n",
       "    <tr>\n",
       "      <th>0</th>\n",
       "      <td>Bad Honnef, Germany +1 More</td>\n",
       "      <td>IU International University of Applied Science...</td>\n",
       "      <td>B.Eng. Industrial Engineering and Management</td>\n",
       "      <td>Bachelor</td>\n",
       "      <td>Full-time</td>\n",
       "      <td>36 months</td>\n",
       "      <td>English</td>\n",
       "      <td>Online &amp; Campus Combined</td>\n",
       "      <td>Looking for a study programme that trains you ...</td>\n",
       "      <td>https://www.bachelorstudies.com//B.Eng.-Indust...</td>\n",
       "      <td>Germany</td>\n",
       "      <td>Bad Honnef</td>\n",
       "      <td>Europe</td>\n",
       "      <td>3.0</td>\n",
       "      <td>True</td>\n",
       "      <td>English</td>\n",
       "      <td>Looking for a study programme that trains you ...</td>\n",
       "      <td>NaN</td>\n",
       "      <td>### Career OpportunitiesAfter completing their...</td>\n",
       "      <td>NaN</td>\n",
       "    </tr>\n",
       "    <tr>\n",
       "      <th>1</th>\n",
       "      <td>Emmen, Netherlands</td>\n",
       "      <td>NHL Stenden University of Applied Sciences</td>\n",
       "      <td>Bachelor in Information Technology (IT)</td>\n",
       "      <td>Bachelor</td>\n",
       "      <td>Full-time</td>\n",
       "      <td>4 years</td>\n",
       "      <td>English</td>\n",
       "      <td>Campus</td>\n",
       "      <td>Work in a challenging and exciting field, whil...</td>\n",
       "      <td>https://www.bachelorstudies.com/Bachelor-in-In...</td>\n",
       "      <td>Netherlands</td>\n",
       "      <td>Emmen</td>\n",
       "      <td>Europe</td>\n",
       "      <td>4.0</td>\n",
       "      <td>True</td>\n",
       "      <td>English</td>\n",
       "      <td>Work in a challenging and exciting field, whil...</td>\n",
       "      <td>### CurriculumThe curriculum is based on our D...</td>\n",
       "      <td>### Career OpportunitiesThis 4-year bachelor p...</td>\n",
       "      <td>NaN</td>\n",
       "    </tr>\n",
       "    <tr>\n",
       "      <th>2</th>\n",
       "      <td>Berlin, Germany</td>\n",
       "      <td>GISMA University of Applied Science</td>\n",
       "      <td>BSc Data Science, AI &amp; Digital Business</td>\n",
       "      <td>BSc</td>\n",
       "      <td>Full-time</td>\n",
       "      <td>36 months</td>\n",
       "      <td>English</td>\n",
       "      <td>Campus</td>\n",
       "      <td>This unique combination of business and techno...</td>\n",
       "      <td>https://www.bachelorstudies.com/BSc-Data-Scien...</td>\n",
       "      <td>Germany</td>\n",
       "      <td>Berlin</td>\n",
       "      <td>Europe</td>\n",
       "      <td>3.0</td>\n",
       "      <td>True</td>\n",
       "      <td>English</td>\n",
       "      <td>Apply Now This unique combination of business ...</td>\n",
       "      <td>### Curriculum#### How will you study?GISMA Bu...</td>\n",
       "      <td>NaN</td>\n",
       "      <td>NaN</td>\n",
       "    </tr>\n",
       "    <tr>\n",
       "      <th>3</th>\n",
       "      <td>Berlin, Germany</td>\n",
       "      <td>GISMA University of Applied Science</td>\n",
       "      <td>BSc Data Science, AI &amp; Digital Business</td>\n",
       "      <td>BSc</td>\n",
       "      <td>Full-time</td>\n",
       "      <td>36 months</td>\n",
       "      <td>English</td>\n",
       "      <td>Campus</td>\n",
       "      <td>This unique combination of business and techno...</td>\n",
       "      <td>https://www.bachelorstudies.com/BSc-Data-Scien...</td>\n",
       "      <td>Germany</td>\n",
       "      <td>Berlin</td>\n",
       "      <td>Europe</td>\n",
       "      <td>3.0</td>\n",
       "      <td>True</td>\n",
       "      <td>English</td>\n",
       "      <td>Apply Now This unique combination of business ...</td>\n",
       "      <td>### Curriculum#### How will you study?GISMA Bu...</td>\n",
       "      <td>NaN</td>\n",
       "      <td>### Program Outcome#### **What will you learn?...</td>\n",
       "    </tr>\n",
       "  </tbody>\n",
       "</table>\n",
       "</div>"
      ],
      "text/plain": [
       "                      Location  \\\n",
       "0  Bad Honnef, Germany +1 More   \n",
       "1           Emmen, Netherlands   \n",
       "2              Berlin, Germany   \n",
       "3              Berlin, Germany   \n",
       "\n",
       "                                              School  \\\n",
       "0  IU International University of Applied Science...   \n",
       "1         NHL Stenden University of Applied Sciences   \n",
       "2                GISMA University of Applied Science   \n",
       "3                GISMA University of Applied Science   \n",
       "\n",
       "                                         Course Degree_type       Pace  \\\n",
       "0  B.Eng. Industrial Engineering and Management    Bachelor  Full-time   \n",
       "1       Bachelor in Information Technology (IT)    Bachelor  Full-time   \n",
       "2       BSc Data Science, AI & Digital Business         BSc  Full-time   \n",
       "3       BSc Data Science, AI & Digital Business         BSc  Full-time   \n",
       "\n",
       "    Duration Language                      Mode  \\\n",
       "0  36 months  English  Online & Campus Combined   \n",
       "1    4 years  English                    Campus   \n",
       "2  36 months  English                    Campus   \n",
       "3  36 months  English                    Campus   \n",
       "\n",
       "                                         Description  \\\n",
       "0  Looking for a study programme that trains you ...   \n",
       "1  Work in a challenging and exciting field, whil...   \n",
       "2  This unique combination of business and techno...   \n",
       "3  This unique combination of business and techno...   \n",
       "\n",
       "                                                Link      Country        City  \\\n",
       "0  https://www.bachelorstudies.com//B.Eng.-Indust...      Germany  Bad Honnef   \n",
       "1  https://www.bachelorstudies.com/Bachelor-in-In...  Netherlands       Emmen   \n",
       "2  https://www.bachelorstudies.com/BSc-Data-Scien...      Germany      Berlin   \n",
       "3  https://www.bachelorstudies.com/BSc-Data-Scien...      Germany      Berlin   \n",
       "\n",
       "  Continent  Duration_years  InEnglish Lang_primary  \\\n",
       "0    Europe             3.0       True      English   \n",
       "1    Europe             4.0       True      English   \n",
       "2    Europe             3.0       True      English   \n",
       "3    Europe             3.0       True      English   \n",
       "\n",
       "                                        Introduction  \\\n",
       "0  Looking for a study programme that trains you ...   \n",
       "1  Work in a challenging and exciting field, whil...   \n",
       "2  Apply Now This unique combination of business ...   \n",
       "3  Apply Now This unique combination of business ...   \n",
       "\n",
       "                                          Curriculum  \\\n",
       "0                                                NaN   \n",
       "1  ### CurriculumThe curriculum is based on our D...   \n",
       "2  ### Curriculum#### How will you study?GISMA Bu...   \n",
       "3  ### Curriculum#### How will you study?GISMA Bu...   \n",
       "\n",
       "                                             Careers  \\\n",
       "0  ### Career OpportunitiesAfter completing their...   \n",
       "1  ### Career OpportunitiesThis 4-year bachelor p...   \n",
       "2                                                NaN   \n",
       "3                                                NaN   \n",
       "\n",
       "                                     Program_outcome  \n",
       "0                                                NaN  \n",
       "1                                                NaN  \n",
       "2                                                NaN  \n",
       "3  ### Program Outcome#### **What will you learn?...  "
      ]
     },
     "execution_count": 9,
     "metadata": {},
     "output_type": "execute_result"
    }
   ],
   "source": [
    "df.head(4)"
   ]
  },
  {
   "cell_type": "code",
   "execution_count": 10,
   "metadata": {},
   "outputs": [],
   "source": [
    "for i in range(0,len(df)):\n",
    "    if df['Curriculum'].isna()[i]:\n",
    "        for j in range(0,len(df)):\n",
    "            if df['Link'][j] == df['Link'][i] and df['Curriculum'].isna()[j] == False:\n",
    "                 df.loc[[i],'Curriculum'] = df['Curriculum'][j]"
   ]
  },
  {
   "cell_type": "code",
   "execution_count": 11,
   "metadata": {},
   "outputs": [],
   "source": [
    "for i in range(0,len(df)):\n",
    "    if df['Careers'].isna()[i] == False and len(df['Careers'][i])<30:\n",
    "        df.loc[[i],'Careers'] = np.nan"
   ]
  },
  {
   "cell_type": "code",
   "execution_count": 12,
   "metadata": {},
   "outputs": [],
   "source": [
    "for i in range(0,len(df)):\n",
    "    if df['Careers'].isna()[i]:\n",
    "        for j in range(0,len(df)):\n",
    "            if df['Link'][j] == df['Link'][i] and df['Careers'].isna()[j] == False:\n",
    "                df.loc[[i],'Careers'] = df['Careers'][j]"
   ]
  },
  {
   "cell_type": "code",
   "execution_count": 13,
   "metadata": {},
   "outputs": [],
   "source": [
    "for i in range(0,len(df)):\n",
    "    if df['Program_outcome'].isna()[i]:\n",
    "        for j in range(0,len(df)):\n",
    "            if df['Link'][j] == df['Link'][i] and df['Program_outcome'].isna()[j] == False:\n",
    "                df.loc[[i],'Program_outcome'] = df['Program_outcome'][j]"
   ]
  },
  {
   "cell_type": "code",
   "execution_count": 14,
   "metadata": {},
   "outputs": [
    {
     "data": {
      "text/html": [
       "<div>\n",
       "<style scoped>\n",
       "    .dataframe tbody tr th:only-of-type {\n",
       "        vertical-align: middle;\n",
       "    }\n",
       "\n",
       "    .dataframe tbody tr th {\n",
       "        vertical-align: top;\n",
       "    }\n",
       "\n",
       "    .dataframe thead th {\n",
       "        text-align: right;\n",
       "    }\n",
       "</style>\n",
       "<table border=\"1\" class=\"dataframe\">\n",
       "  <thead>\n",
       "    <tr style=\"text-align: right;\">\n",
       "      <th></th>\n",
       "      <th>Location</th>\n",
       "      <th>School</th>\n",
       "      <th>Course</th>\n",
       "      <th>Degree_type</th>\n",
       "      <th>Pace</th>\n",
       "      <th>Duration</th>\n",
       "      <th>Language</th>\n",
       "      <th>Mode</th>\n",
       "      <th>Description</th>\n",
       "      <th>Link</th>\n",
       "      <th>Country</th>\n",
       "      <th>City</th>\n",
       "      <th>Continent</th>\n",
       "      <th>Duration_years</th>\n",
       "      <th>InEnglish</th>\n",
       "      <th>Lang_primary</th>\n",
       "      <th>Introduction</th>\n",
       "      <th>Curriculum</th>\n",
       "      <th>Careers</th>\n",
       "      <th>Program_outcome</th>\n",
       "    </tr>\n",
       "  </thead>\n",
       "  <tbody>\n",
       "    <tr>\n",
       "      <th>0</th>\n",
       "      <td>Bad Honnef, Germany +1 More</td>\n",
       "      <td>IU International University of Applied Science...</td>\n",
       "      <td>B.Eng. Industrial Engineering and Management</td>\n",
       "      <td>Bachelor</td>\n",
       "      <td>Full-time</td>\n",
       "      <td>36 months</td>\n",
       "      <td>English</td>\n",
       "      <td>Online &amp; Campus Combined</td>\n",
       "      <td>Looking for a study programme that trains you ...</td>\n",
       "      <td>https://www.bachelorstudies.com//B.Eng.-Indust...</td>\n",
       "      <td>Germany</td>\n",
       "      <td>Bad Honnef</td>\n",
       "      <td>Europe</td>\n",
       "      <td>3.0</td>\n",
       "      <td>True</td>\n",
       "      <td>English</td>\n",
       "      <td>Looking for a study programme that trains you ...</td>\n",
       "      <td>NaN</td>\n",
       "      <td>### Career OpportunitiesAfter completing their...</td>\n",
       "      <td>NaN</td>\n",
       "    </tr>\n",
       "    <tr>\n",
       "      <th>1</th>\n",
       "      <td>Emmen, Netherlands</td>\n",
       "      <td>NHL Stenden University of Applied Sciences</td>\n",
       "      <td>Bachelor in Information Technology (IT)</td>\n",
       "      <td>Bachelor</td>\n",
       "      <td>Full-time</td>\n",
       "      <td>4 years</td>\n",
       "      <td>English</td>\n",
       "      <td>Campus</td>\n",
       "      <td>Work in a challenging and exciting field, whil...</td>\n",
       "      <td>https://www.bachelorstudies.com/Bachelor-in-In...</td>\n",
       "      <td>Netherlands</td>\n",
       "      <td>Emmen</td>\n",
       "      <td>Europe</td>\n",
       "      <td>4.0</td>\n",
       "      <td>True</td>\n",
       "      <td>English</td>\n",
       "      <td>Work in a challenging and exciting field, whil...</td>\n",
       "      <td>### CurriculumThe curriculum is based on our D...</td>\n",
       "      <td>### Career OpportunitiesThis 4-year bachelor p...</td>\n",
       "      <td>NaN</td>\n",
       "    </tr>\n",
       "    <tr>\n",
       "      <th>2</th>\n",
       "      <td>Berlin, Germany</td>\n",
       "      <td>GISMA University of Applied Science</td>\n",
       "      <td>BSc Data Science, AI &amp; Digital Business</td>\n",
       "      <td>BSc</td>\n",
       "      <td>Full-time</td>\n",
       "      <td>36 months</td>\n",
       "      <td>English</td>\n",
       "      <td>Campus</td>\n",
       "      <td>This unique combination of business and techno...</td>\n",
       "      <td>https://www.bachelorstudies.com/BSc-Data-Scien...</td>\n",
       "      <td>Germany</td>\n",
       "      <td>Berlin</td>\n",
       "      <td>Europe</td>\n",
       "      <td>3.0</td>\n",
       "      <td>True</td>\n",
       "      <td>English</td>\n",
       "      <td>Apply Now This unique combination of business ...</td>\n",
       "      <td>### Curriculum#### How will you study?GISMA Bu...</td>\n",
       "      <td>NaN</td>\n",
       "      <td>### Program Outcome#### **What will you learn?...</td>\n",
       "    </tr>\n",
       "    <tr>\n",
       "      <th>3</th>\n",
       "      <td>Berlin, Germany</td>\n",
       "      <td>GISMA University of Applied Science</td>\n",
       "      <td>BSc Data Science, AI &amp; Digital Business</td>\n",
       "      <td>BSc</td>\n",
       "      <td>Full-time</td>\n",
       "      <td>36 months</td>\n",
       "      <td>English</td>\n",
       "      <td>Campus</td>\n",
       "      <td>This unique combination of business and techno...</td>\n",
       "      <td>https://www.bachelorstudies.com/BSc-Data-Scien...</td>\n",
       "      <td>Germany</td>\n",
       "      <td>Berlin</td>\n",
       "      <td>Europe</td>\n",
       "      <td>3.0</td>\n",
       "      <td>True</td>\n",
       "      <td>English</td>\n",
       "      <td>Apply Now This unique combination of business ...</td>\n",
       "      <td>### Curriculum#### How will you study?GISMA Bu...</td>\n",
       "      <td>NaN</td>\n",
       "      <td>### Program Outcome#### **What will you learn?...</td>\n",
       "    </tr>\n",
       "  </tbody>\n",
       "</table>\n",
       "</div>"
      ],
      "text/plain": [
       "                      Location  \\\n",
       "0  Bad Honnef, Germany +1 More   \n",
       "1           Emmen, Netherlands   \n",
       "2              Berlin, Germany   \n",
       "3              Berlin, Germany   \n",
       "\n",
       "                                              School  \\\n",
       "0  IU International University of Applied Science...   \n",
       "1         NHL Stenden University of Applied Sciences   \n",
       "2                GISMA University of Applied Science   \n",
       "3                GISMA University of Applied Science   \n",
       "\n",
       "                                         Course Degree_type       Pace  \\\n",
       "0  B.Eng. Industrial Engineering and Management    Bachelor  Full-time   \n",
       "1       Bachelor in Information Technology (IT)    Bachelor  Full-time   \n",
       "2       BSc Data Science, AI & Digital Business         BSc  Full-time   \n",
       "3       BSc Data Science, AI & Digital Business         BSc  Full-time   \n",
       "\n",
       "    Duration Language                      Mode  \\\n",
       "0  36 months  English  Online & Campus Combined   \n",
       "1    4 years  English                    Campus   \n",
       "2  36 months  English                    Campus   \n",
       "3  36 months  English                    Campus   \n",
       "\n",
       "                                         Description  \\\n",
       "0  Looking for a study programme that trains you ...   \n",
       "1  Work in a challenging and exciting field, whil...   \n",
       "2  This unique combination of business and techno...   \n",
       "3  This unique combination of business and techno...   \n",
       "\n",
       "                                                Link      Country        City  \\\n",
       "0  https://www.bachelorstudies.com//B.Eng.-Indust...      Germany  Bad Honnef   \n",
       "1  https://www.bachelorstudies.com/Bachelor-in-In...  Netherlands       Emmen   \n",
       "2  https://www.bachelorstudies.com/BSc-Data-Scien...      Germany      Berlin   \n",
       "3  https://www.bachelorstudies.com/BSc-Data-Scien...      Germany      Berlin   \n",
       "\n",
       "  Continent  Duration_years  InEnglish Lang_primary  \\\n",
       "0    Europe             3.0       True      English   \n",
       "1    Europe             4.0       True      English   \n",
       "2    Europe             3.0       True      English   \n",
       "3    Europe             3.0       True      English   \n",
       "\n",
       "                                        Introduction  \\\n",
       "0  Looking for a study programme that trains you ...   \n",
       "1  Work in a challenging and exciting field, whil...   \n",
       "2  Apply Now This unique combination of business ...   \n",
       "3  Apply Now This unique combination of business ...   \n",
       "\n",
       "                                          Curriculum  \\\n",
       "0                                                NaN   \n",
       "1  ### CurriculumThe curriculum is based on our D...   \n",
       "2  ### Curriculum#### How will you study?GISMA Bu...   \n",
       "3  ### Curriculum#### How will you study?GISMA Bu...   \n",
       "\n",
       "                                             Careers  \\\n",
       "0  ### Career OpportunitiesAfter completing their...   \n",
       "1  ### Career OpportunitiesThis 4-year bachelor p...   \n",
       "2                                                NaN   \n",
       "3                                                NaN   \n",
       "\n",
       "                                     Program_outcome  \n",
       "0                                                NaN  \n",
       "1                                                NaN  \n",
       "2  ### Program Outcome#### **What will you learn?...  \n",
       "3  ### Program Outcome#### **What will you learn?...  "
      ]
     },
     "execution_count": 14,
     "metadata": {},
     "output_type": "execute_result"
    }
   ],
   "source": [
    "df.head(4)"
   ]
  },
  {
   "cell_type": "code",
   "execution_count": 15,
   "metadata": {},
   "outputs": [
    {
     "data": {
      "text/plain": [
       "27"
      ]
     },
     "execution_count": 15,
     "metadata": {},
     "output_type": "execute_result"
    }
   ],
   "source": [
    "df.duplicated().sum()"
   ]
  },
  {
   "cell_type": "code",
   "execution_count": 16,
   "metadata": {},
   "outputs": [
    {
     "name": "stdout",
     "output_type": "stream",
     "text": [
      "<class 'pandas.core.frame.DataFrame'>\n",
      "RangeIndex: 896 entries, 0 to 895\n",
      "Data columns (total 20 columns):\n",
      " #   Column           Non-Null Count  Dtype  \n",
      "---  ------           --------------  -----  \n",
      " 0   Location         896 non-null    object \n",
      " 1   School           896 non-null    object \n",
      " 2   Course           896 non-null    object \n",
      " 3   Degree_type      896 non-null    object \n",
      " 4   Pace             633 non-null    object \n",
      " 5   Duration         568 non-null    object \n",
      " 6   Language         896 non-null    object \n",
      " 7   Mode             850 non-null    object \n",
      " 8   Description      896 non-null    object \n",
      " 9   Link             896 non-null    object \n",
      " 10  Country          896 non-null    object \n",
      " 11  City             896 non-null    object \n",
      " 12  Continent        896 non-null    object \n",
      " 13  Duration_years   896 non-null    float64\n",
      " 14  InEnglish        896 non-null    bool   \n",
      " 15  Lang_primary     896 non-null    object \n",
      " 16  Introduction     896 non-null    object \n",
      " 17  Curriculum       232 non-null    object \n",
      " 18  Careers          211 non-null    object \n",
      " 19  Program_outcome  84 non-null     object \n",
      "dtypes: bool(1), float64(1), object(18)\n",
      "memory usage: 134.0+ KB\n"
     ]
    }
   ],
   "source": [
    "df.drop_duplicates(keep = 'first', inplace = True, ignore_index = True)\n",
    "df.info()"
   ]
  },
  {
   "cell_type": "code",
   "execution_count": 17,
   "metadata": {},
   "outputs": [
    {
     "data": {
      "text/plain": [
       "1"
      ]
     },
     "execution_count": 17,
     "metadata": {},
     "output_type": "execute_result"
    }
   ],
   "source": [
    "df['Link'].duplicated().sum()"
   ]
  },
  {
   "cell_type": "code",
   "execution_count": 18,
   "metadata": {},
   "outputs": [
    {
     "name": "stdout",
     "output_type": "stream",
     "text": [
      "122 552\n"
     ]
    }
   ],
   "source": [
    "for i in range(0,len(df)):\n",
    "    if df['Link'].duplicated()[i]:\n",
    "        for j in range(0,len(df)):\n",
    "            if df['Link'][i] == df['Link'][j] and i != j:\n",
    "                print(j,i)"
   ]
  },
  {
   "cell_type": "code",
   "execution_count": 19,
   "metadata": {},
   "outputs": [
    {
     "data": {
      "text/plain": [
       "Location                                               New York, USA\n",
       "School             The State University of New York International...\n",
       "Course             Bachelor of Technology in Information Technolo...\n",
       "Degree_type                                                 Bachelor\n",
       "Pace                                                       Full-time\n",
       "Duration                                                     4 years\n",
       "Language                                                     English\n",
       "Mode                                                          Campus\n",
       "Description        Software developers know how to make it work f...\n",
       "Link               https://www.bachelorstudies.com/Bachelor-of-Te...\n",
       "Country                                                          USA\n",
       "City                                                        New York\n",
       "Continent                                              North America\n",
       "Duration_years                                                     4\n",
       "InEnglish                                                       True\n",
       "Lang_primary                                                 English\n",
       "Introduction       Making business work. Software developers know...\n",
       "Curriculum                                                       NaN\n",
       "Careers            ### Career Opportunities#### Labor Market Data...\n",
       "Program_outcome                                                  NaN\n",
       "Name: 122, dtype: object"
      ]
     },
     "execution_count": 19,
     "metadata": {},
     "output_type": "execute_result"
    }
   ],
   "source": [
    "df.iloc[122]"
   ]
  },
  {
   "cell_type": "code",
   "execution_count": 20,
   "metadata": {},
   "outputs": [
    {
     "data": {
      "text/plain": [
       "Location                                               New York, USA\n",
       "School             The State University of New York International...\n",
       "Course             Bachelor of Technology in Information Technolo...\n",
       "Degree_type                                                 Bachelor\n",
       "Pace                                                       Full-time\n",
       "Duration                                                     4 years\n",
       "Language                                                     English\n",
       "Mode                                                          Campus\n",
       "Description        Software developers know how to make it work f...\n",
       "Link               https://www.bachelorstudies.com/Bachelor-of-Te...\n",
       "Country                                                          USA\n",
       "City                                                        New York\n",
       "Continent                                              North America\n",
       "Duration_years                                                     4\n",
       "InEnglish                                                       True\n",
       "Lang_primary                                                 English\n",
       "Introduction       ### Introduction#### Making business work.Soft...\n",
       "Curriculum                                                       NaN\n",
       "Careers            ### Career Opportunities#### Labor Market Data...\n",
       "Program_outcome                                                  NaN\n",
       "Name: 552, dtype: object"
      ]
     },
     "execution_count": 20,
     "metadata": {},
     "output_type": "execute_result"
    }
   ],
   "source": [
    "df.iloc[552]"
   ]
  },
  {
   "cell_type": "code",
   "execution_count": 21,
   "metadata": {},
   "outputs": [],
   "source": [
    "df.drop([552], inplace = True)"
   ]
  },
  {
   "cell_type": "code",
   "execution_count": 22,
   "metadata": {},
   "outputs": [],
   "source": [
    "df.reset_index(drop = True, inplace = True)"
   ]
  },
  {
   "cell_type": "markdown",
   "metadata": {},
   "source": [
    "# Preprocessing textual data"
   ]
  },
  {
   "cell_type": "code",
   "execution_count": 25,
   "metadata": {},
   "outputs": [],
   "source": [
    "text_data = df[['Course','Introduction', 'Curriculum', 'Careers', 'Program_outcome']].copy()"
   ]
  },
  {
   "cell_type": "code",
   "execution_count": 27,
   "metadata": {
    "scrolled": true
   },
   "outputs": [
    {
     "data": {
      "text/html": [
       "<div>\n",
       "<style scoped>\n",
       "    .dataframe tbody tr th:only-of-type {\n",
       "        vertical-align: middle;\n",
       "    }\n",
       "\n",
       "    .dataframe tbody tr th {\n",
       "        vertical-align: top;\n",
       "    }\n",
       "\n",
       "    .dataframe thead th {\n",
       "        text-align: right;\n",
       "    }\n",
       "</style>\n",
       "<table border=\"1\" class=\"dataframe\">\n",
       "  <thead>\n",
       "    <tr style=\"text-align: right;\">\n",
       "      <th></th>\n",
       "      <th>Course</th>\n",
       "      <th>Introduction</th>\n",
       "      <th>Curriculum</th>\n",
       "      <th>Careers</th>\n",
       "      <th>Program_outcome</th>\n",
       "    </tr>\n",
       "  </thead>\n",
       "  <tbody>\n",
       "    <tr>\n",
       "      <th>0</th>\n",
       "      <td>B.Eng. Industrial Engineering and Management</td>\n",
       "      <td>Looking for a study programme that trains you ...</td>\n",
       "      <td></td>\n",
       "      <td>### Career OpportunitiesAfter completing their...</td>\n",
       "      <td></td>\n",
       "    </tr>\n",
       "    <tr>\n",
       "      <th>1</th>\n",
       "      <td>Bachelor in Information Technology (IT)</td>\n",
       "      <td>Work in a challenging and exciting field, whil...</td>\n",
       "      <td>### CurriculumThe curriculum is based on our D...</td>\n",
       "      <td>### Career OpportunitiesThis 4-year bachelor p...</td>\n",
       "      <td></td>\n",
       "    </tr>\n",
       "    <tr>\n",
       "      <th>2</th>\n",
       "      <td>BSc Data Science, AI &amp; Digital Business</td>\n",
       "      <td>Apply Now This unique combination of business ...</td>\n",
       "      <td>### Curriculum#### How will you study?GISMA Bu...</td>\n",
       "      <td></td>\n",
       "      <td>### Program Outcome#### **What will you learn?...</td>\n",
       "    </tr>\n",
       "  </tbody>\n",
       "</table>\n",
       "</div>"
      ],
      "text/plain": [
       "                                         Course  \\\n",
       "0  B.Eng. Industrial Engineering and Management   \n",
       "1       Bachelor in Information Technology (IT)   \n",
       "2       BSc Data Science, AI & Digital Business   \n",
       "\n",
       "                                        Introduction  \\\n",
       "0  Looking for a study programme that trains you ...   \n",
       "1  Work in a challenging and exciting field, whil...   \n",
       "2  Apply Now This unique combination of business ...   \n",
       "\n",
       "                                          Curriculum  \\\n",
       "0                                                      \n",
       "1  ### CurriculumThe curriculum is based on our D...   \n",
       "2  ### Curriculum#### How will you study?GISMA Bu...   \n",
       "\n",
       "                                             Careers  \\\n",
       "0  ### Career OpportunitiesAfter completing their...   \n",
       "1  ### Career OpportunitiesThis 4-year bachelor p...   \n",
       "2                                                      \n",
       "\n",
       "                                     Program_outcome  \n",
       "0                                                     \n",
       "1                                                     \n",
       "2  ### Program Outcome#### **What will you learn?...  "
      ]
     },
     "execution_count": 27,
     "metadata": {},
     "output_type": "execute_result"
    }
   ],
   "source": [
    "text_data.head(3)"
   ]
  },
  {
   "cell_type": "code",
   "execution_count": 28,
   "metadata": {},
   "outputs": [],
   "source": [
    "text_data.fillna('', inplace = True)"
   ]
  },
  {
   "cell_type": "code",
   "execution_count": 29,
   "metadata": {},
   "outputs": [],
   "source": [
    "merged_desc = []\n",
    "for i in range(0, len(text_data)):\n",
    "    merged_desc.append(' '.join([text_data['Introduction'][i], text_data['Curriculum'][i], \n",
    "                                 text_data['Careers'][i], text_data['Program_outcome'][i]]))"
   ]
  },
  {
   "cell_type": "code",
   "execution_count": 30,
   "metadata": {},
   "outputs": [],
   "source": [
    "df['Merged_desc'] = merged_desc"
   ]
  },
  {
   "cell_type": "code",
   "execution_count": 31,
   "metadata": {},
   "outputs": [],
   "source": [
    "def text_cleaner(text):\n",
    "    text = re.sub(\"&rsquo;\", \"'\", str(text))\n",
    "    text = re.sub(\"&\\S+\\s\", \"\", str(text))\n",
    "    text = re.sub(\"[\\(\\[][\\)\\]]\", \"\", str(text))\n",
    "    text = re.sub(\"\\*\", \" \", str(text))\n",
    "    text = re.sub(\"\\#\", \" \", str(text))\n",
    "    text = re.sub(\"\\s+\", \" \", str(text))\n",
    "    return text"
   ]
  },
  {
   "cell_type": "code",
   "execution_count": 32,
   "metadata": {},
   "outputs": [],
   "source": [
    "def missing_space(text):\n",
    "    try:\n",
    "        at = re.search('Curriculum', text).end()\n",
    "        text = ' '.join([text[:at],text[at:]])\n",
    "    except:\n",
    "        pass\n",
    "    \n",
    "    try:\n",
    "        at = re.search('Opportunities', text).end()\n",
    "        text = ' '.join([text[:at],text[at:]])\n",
    "    except:\n",
    "        pass\n",
    "    \n",
    "    try:\n",
    "        at = re.search('Outcome', text).end()\n",
    "        text = ' '.join([text[:at],text[at:]])\n",
    "    except:\n",
    "        pass\n",
    "    \n",
    "    split_at= []\n",
    "    for match in re.finditer(\"[a-zA-Z]\\.[A-z]\",text):\n",
    "        split_at.append(match.span()[0]+2)\n",
    "    for i in range(0, len(split_at)):\n",
    "        at = split_at[i]+i\n",
    "        text = ' '.join([text[:at],text[at:]])\n",
    "    \n",
    "    split_at= []\n",
    "    for match in re.finditer(\"[a-zA-Z]\\?[A-z]\",text):\n",
    "        split_at.append(match.span()[0]+2)\n",
    "    for i in range(0, len(split_at)):\n",
    "        at = split_at[i]+i\n",
    "        text = ' '.join([text[:at],text[at:]])\n",
    "\n",
    "    return text"
   ]
  },
  {
   "cell_type": "code",
   "execution_count": 33,
   "metadata": {},
   "outputs": [],
   "source": [
    "df['Merged_desc'] = df['Merged_desc'].apply(missing_space)\n",
    "df['Merged_desc'] = df['Merged_desc'].apply(text_cleaner)"
   ]
  },
  {
   "cell_type": "code",
   "execution_count": 34,
   "metadata": {},
   "outputs": [],
   "source": [
    "import spacy\n",
    "nlp = spacy.load('en_core_web_sm')"
   ]
  },
  {
   "cell_type": "code",
   "execution_count": 35,
   "metadata": {},
   "outputs": [],
   "source": [
    "from nltk.tokenize import word_tokenize, RegexpTokenizer\n",
    "from nltk.probability import FreqDist\n",
    "from nltk.corpus import stopwords\n",
    "from nltk.tag import pos_tag\n",
    "from nltk.stem import wordnet\n",
    "from nltk.stem import WordNetLemmatizer\n",
    "from nltk.util import bigrams, trigrams, ngrams"
   ]
  },
  {
   "cell_type": "code",
   "execution_count": 36,
   "metadata": {},
   "outputs": [],
   "source": [
    "def preprocessor(text):\n",
    "    text = ''.join([i for i in text if not i.isdigit()])\n",
    "    tokeniser = RegexpTokenizer(r'\\w+')\n",
    "    tokens = tokeniser.tokenize(text)\n",
    "                \n",
    "    tagged = []\n",
    "    for token, tag in pos_tag(tokens):\n",
    "        if tag[:2] == 'NN':\n",
    "            lem_tag = 'n'\n",
    "        elif tag[:2] == 'VB':\n",
    "            lem_tag = 'v'\n",
    "        elif tag[:2] == 'JJ':\n",
    "            lem_tag = 'a'\n",
    "        elif tag[:2] == 'RB':\n",
    "            lem_tag = 'r'\n",
    "        else:\n",
    "            lem_tag = 'n'\n",
    "        tagged.append((token.lower(), lem_tag))\n",
    "        \n",
    "    lem = WordNetLemmatizer()\n",
    "    lemmatized = []\n",
    "    for token, tag in tagged:\n",
    "        lemmatized.append(lem.lemmatize(token,tag))\n",
    "        \n",
    "    wo_stop = []\n",
    "    for w in lemmatized:\n",
    "        if w not in stopwords.words('english'):\n",
    "            wo_stop.append(w)\n",
    "        \n",
    "    return ' '.join(wo_stop)"
   ]
  },
  {
   "cell_type": "code",
   "execution_count": 37,
   "metadata": {},
   "outputs": [],
   "source": [
    "def normalize_sentences(clean_text):\n",
    "    doc = nlp(clean_text)\n",
    "    \n",
    "    sentences = []\n",
    "    for s in doc.sents:\n",
    "        sentences.append(preprocessor(str(s)))\n",
    "        \n",
    "    norm = []\n",
    "    for i in sentences:\n",
    "        if len(i.split())>2:\n",
    "            norm.append(i)\n",
    "            \n",
    "    return norm"
   ]
  },
  {
   "cell_type": "code",
   "execution_count": 38,
   "metadata": {},
   "outputs": [
    {
     "data": {
      "text/plain": [
       "['look study programme train career industry future',\n",
       " 'iu international university applied science online bachelor industrial engineering management develop necessary skill integrate industry sector',\n",
       " 'earn internationally recognise degree explore smart technology incorporate construction assembly line global supply chain',\n",
       " 'prepare management role complex industrial setting gain project management design skill hone ability oversee orchestrate massive industrial engineering project',\n",
       " 'iu international university applied science mystudies model combine study online study germany one campus',\n",
       " 'work student attend live lecture either online person',\n",
       " 'study programme include following benefit teach study material marking end module exam free week trial online tutorial guidance tutor use online campus individual study coach online exam',\n",
       " 'charge extension course duration career coach career opportunity complete beng industrial engineering management ourgraduates often work manufacturing company interface betweenbusiness management technical function',\n",
       " 'management engineeringor consultancy role plenty opportunity talentedprofessionals field',\n",
       " 'solution architect system become increasingly complex much powerful',\n",
       " 'thesame time optimised efficiency reliability safety remain top priority',\n",
       " 'solution architect responsible entire system sdesign order manage increase number machine product thatare connect real time digital age',\n",
       " 'software engineer industry software engineer plan create manage distribute softwaresystems',\n",
       " 'responsible operation maintenance product aswell quality assurance',\n",
       " 'regularly carry system test evaluate result document use knowledge improveexisting system create entirely new one',\n",
       " 'data scientist data scientist creative mind behind algorithm',\n",
       " 'structurelarge amount data compile useful information supervisor withthe goal identify relationship data set',\n",
       " 'also carryout analysis identify new opportunity productivity efficiency']"
      ]
     },
     "execution_count": 38,
     "metadata": {},
     "output_type": "execute_result"
    }
   ],
   "source": [
    "normalize_sentences(df['Merged_desc'][0])"
   ]
  },
  {
   "cell_type": "code",
   "execution_count": 39,
   "metadata": {},
   "outputs": [],
   "source": [
    "df['Norm_sents'] = df['Merged_desc'].apply(normalize_sentences)"
   ]
  },
  {
   "cell_type": "code",
   "execution_count": 40,
   "metadata": {},
   "outputs": [],
   "source": [
    "df.to_csv('merged_df_norm_sents.csv')"
   ]
  },
  {
   "cell_type": "code",
   "execution_count": 48,
   "metadata": {},
   "outputs": [
    {
     "data": {
      "text/plain": [
       "['work challenging exciting field learn thing information communication technology learn computer program language use late technology security internet thing',\n",
       " 'get toof late technology include microsoft surface hub virtual reality equipment robot printer readily available internet thing lab',\n",
       " 'one thisunique feature minor certified ethical hacking oneits kindeurope',\n",
       " 'curriculum base design base education principle',\n",
       " 'meansyou work practical assignment small group pursue owninterests work real life case',\n",
       " 'well connect manyprofessional company student internship asmicrosoft google ibm ing group abn amro',\n",
       " 'year bachelor program offer outstanding job prospect itindustry year come',\n",
       " 'information technology graduate get choosewhere want work',\n",
       " 'thanks increase importance automation anddigitisation able pursue field interest asoftware engineer developer consultant certified ethical hacker']"
      ]
     },
     "execution_count": 48,
     "metadata": {},
     "output_type": "execute_result"
    }
   ],
   "source": [
    "df['Norm_sents'][1]"
   ]
  },
  {
   "cell_type": "code",
   "execution_count": null,
   "metadata": {},
   "outputs": [],
   "source": []
  }
 ],
 "metadata": {
  "kernelspec": {
   "display_name": "Python 3",
   "language": "python",
   "name": "python3"
  },
  "language_info": {
   "codemirror_mode": {
    "name": "ipython",
    "version": 3
   },
   "file_extension": ".py",
   "mimetype": "text/x-python",
   "name": "python",
   "nbconvert_exporter": "python",
   "pygments_lexer": "ipython3",
   "version": "3.8.5"
  }
 },
 "nbformat": 4,
 "nbformat_minor": 4
}
