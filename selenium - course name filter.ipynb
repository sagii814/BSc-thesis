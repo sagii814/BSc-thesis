{
 "cells": [
  {
   "cell_type": "code",
   "execution_count": 3,
   "metadata": {},
   "outputs": [],
   "source": [
    "from selenium import webdriver\n",
    "from webdriver_manager.chrome import ChromeDriverManager\n",
    "from selenium.webdriver.common.by import By\n",
    "import html\n",
    "from html2text import HTML2Text\n",
    "import time"
   ]
  },
  {
   "cell_type": "code",
   "execution_count": 4,
   "metadata": {},
   "outputs": [],
   "source": [
    "import pandas as pd\n",
    "import numpy as np"
   ]
  },
  {
   "cell_type": "code",
   "execution_count": 5,
   "metadata": {},
   "outputs": [
    {
     "data": {
      "text/html": [
       "<div>\n",
       "<style scoped>\n",
       "    .dataframe tbody tr th:only-of-type {\n",
       "        vertical-align: middle;\n",
       "    }\n",
       "\n",
       "    .dataframe tbody tr th {\n",
       "        vertical-align: top;\n",
       "    }\n",
       "\n",
       "    .dataframe thead th {\n",
       "        text-align: right;\n",
       "    }\n",
       "</style>\n",
       "<table border=\"1\" class=\"dataframe\">\n",
       "  <thead>\n",
       "    <tr style=\"text-align: right;\">\n",
       "      <th></th>\n",
       "      <th>Location</th>\n",
       "      <th>School</th>\n",
       "      <th>Course</th>\n",
       "      <th>Degree_type</th>\n",
       "      <th>Pace</th>\n",
       "      <th>Duration</th>\n",
       "      <th>Language</th>\n",
       "      <th>Mode</th>\n",
       "      <th>Description</th>\n",
       "      <th>Link</th>\n",
       "      <th>Country</th>\n",
       "      <th>City</th>\n",
       "      <th>Continent</th>\n",
       "      <th>Duration_years</th>\n",
       "      <th>InEnglish</th>\n",
       "      <th>Lang_primary</th>\n",
       "    </tr>\n",
       "  </thead>\n",
       "  <tbody>\n",
       "    <tr>\n",
       "      <th>0</th>\n",
       "      <td>Barcelona, Spain +1 More</td>\n",
       "      <td>Harbour.Space University</td>\n",
       "      <td>Bachelor of Computer Science</td>\n",
       "      <td>Bachelor</td>\n",
       "      <td>Full-time</td>\n",
       "      <td>3 years</td>\n",
       "      <td>English</td>\n",
       "      <td>Campus</td>\n",
       "      <td>Harbour.Space Computer Science Bachelor progra...</td>\n",
       "      <td>https://www.bachelorstudies.com/Bachelor-of-Co...</td>\n",
       "      <td>Spain</td>\n",
       "      <td>Barcelona</td>\n",
       "      <td>Europe</td>\n",
       "      <td>3.0</td>\n",
       "      <td>True</td>\n",
       "      <td>English</td>\n",
       "    </tr>\n",
       "    <tr>\n",
       "      <th>1</th>\n",
       "      <td>Marbella, Spain</td>\n",
       "      <td>Schellhammer Business School</td>\n",
       "      <td>Bachelor in IT and Computing (Online)</td>\n",
       "      <td>Bachelor</td>\n",
       "      <td>Full-time</td>\n",
       "      <td>3 years</td>\n",
       "      <td>English</td>\n",
       "      <td>Online</td>\n",
       "      <td>This IT and Computing Undergraduate degree off...</td>\n",
       "      <td>https://www.onlinestudies.com/Bachelor-in-IT-a...</td>\n",
       "      <td>Spain</td>\n",
       "      <td>Marbella</td>\n",
       "      <td>Europe</td>\n",
       "      <td>3.0</td>\n",
       "      <td>True</td>\n",
       "      <td>English</td>\n",
       "    </tr>\n",
       "    <tr>\n",
       "      <th>2</th>\n",
       "      <td>Berlin, Germany</td>\n",
       "      <td>IU International University of Applied Science...</td>\n",
       "      <td>B.Sc. Software Development</td>\n",
       "      <td>BSc</td>\n",
       "      <td>Full-time</td>\n",
       "      <td>36 months</td>\n",
       "      <td>English</td>\n",
       "      <td>Online</td>\n",
       "      <td>Learn the skills needed to be a successful sof...</td>\n",
       "      <td>https://www.onlinestudies.com/B.Sc.-Software-D...</td>\n",
       "      <td>Germany</td>\n",
       "      <td>Berlin</td>\n",
       "      <td>Europe</td>\n",
       "      <td>3.0</td>\n",
       "      <td>True</td>\n",
       "      <td>English</td>\n",
       "    </tr>\n",
       "  </tbody>\n",
       "</table>\n",
       "</div>"
      ],
      "text/plain": [
       "                   Location  \\\n",
       "0  Barcelona, Spain +1 More   \n",
       "1           Marbella, Spain   \n",
       "2           Berlin, Germany   \n",
       "\n",
       "                                              School  \\\n",
       "0                           Harbour.Space University   \n",
       "1                       Schellhammer Business School   \n",
       "2  IU International University of Applied Science...   \n",
       "\n",
       "                                  Course Degree_type       Pace   Duration  \\\n",
       "0           Bachelor of Computer Science    Bachelor  Full-time    3 years   \n",
       "1  Bachelor in IT and Computing (Online)    Bachelor  Full-time    3 years   \n",
       "2             B.Sc. Software Development         BSc  Full-time  36 months   \n",
       "\n",
       "  Language    Mode                                        Description  \\\n",
       "0  English  Campus  Harbour.Space Computer Science Bachelor progra...   \n",
       "1  English  Online  This IT and Computing Undergraduate degree off...   \n",
       "2  English  Online  Learn the skills needed to be a successful sof...   \n",
       "\n",
       "                                                Link  Country       City  \\\n",
       "0  https://www.bachelorstudies.com/Bachelor-of-Co...    Spain  Barcelona   \n",
       "1  https://www.onlinestudies.com/Bachelor-in-IT-a...    Spain   Marbella   \n",
       "2  https://www.onlinestudies.com/B.Sc.-Software-D...  Germany     Berlin   \n",
       "\n",
       "  Continent  Duration_years  InEnglish Lang_primary  \n",
       "0    Europe             3.0       True      English  \n",
       "1    Europe             3.0       True      English  \n",
       "2    Europe             3.0       True      English  "
      ]
     },
     "execution_count": 5,
     "metadata": {},
     "output_type": "execute_result"
    }
   ],
   "source": [
    "df = pd.read_csv('unis-tech-cleaned.csv', index_col = 0)\n",
    "df.head(3)"
   ]
  },
  {
   "cell_type": "code",
   "execution_count": 6,
   "metadata": {},
   "outputs": [
    {
     "data": {
      "text/plain": [
       "(1560, 16)"
      ]
     },
     "execution_count": 6,
     "metadata": {},
     "output_type": "execute_result"
    }
   ],
   "source": [
    "df.shape"
   ]
  },
  {
   "cell_type": "code",
   "execution_count": 7,
   "metadata": {},
   "outputs": [
    {
     "data": {
      "text/plain": [
       "0"
      ]
     },
     "execution_count": 7,
     "metadata": {},
     "output_type": "execute_result"
    }
   ],
   "source": [
    "df.duplicated().sum()"
   ]
  },
  {
   "cell_type": "code",
   "execution_count": 8,
   "metadata": {},
   "outputs": [
    {
     "data": {
      "text/plain": [
       "Location            0\n",
       "School              0\n",
       "Course              0\n",
       "Degree_type         0\n",
       "Pace              481\n",
       "Duration          606\n",
       "Language            0\n",
       "Mode              102\n",
       "Description         0\n",
       "Link               12\n",
       "Country             0\n",
       "City                0\n",
       "Continent           0\n",
       "Duration_years      0\n",
       "InEnglish           0\n",
       "Lang_primary        0\n",
       "dtype: int64"
      ]
     },
     "execution_count": 8,
     "metadata": {},
     "output_type": "execute_result"
    }
   ],
   "source": [
    "df.replace(\"Unknown\", np.nan, inplace = True)\n",
    "df.isna().sum()"
   ]
  },
  {
   "cell_type": "code",
   "execution_count": 9,
   "metadata": {},
   "outputs": [],
   "source": [
    "df.dropna(subset=[\"Link\"], axis=0, inplace=True)\n",
    "df.reset_index(drop=True, inplace=True)"
   ]
  },
  {
   "cell_type": "code",
   "execution_count": 10,
   "metadata": {},
   "outputs": [],
   "source": [
    "#accept cookies - manual - not sure if it works without this\n",
    "driver = webdriver.Chrome()\n",
    "driver.get(df['Link'][0])"
   ]
  },
  {
   "cell_type": "code",
   "execution_count": 11,
   "metadata": {},
   "outputs": [
    {
     "name": "stdout",
     "output_type": "stream",
     "text": [
      "(496, 16)\n"
     ]
    },
    {
     "data": {
      "text/html": [
       "<div>\n",
       "<style scoped>\n",
       "    .dataframe tbody tr th:only-of-type {\n",
       "        vertical-align: middle;\n",
       "    }\n",
       "\n",
       "    .dataframe tbody tr th {\n",
       "        vertical-align: top;\n",
       "    }\n",
       "\n",
       "    .dataframe thead th {\n",
       "        text-align: right;\n",
       "    }\n",
       "</style>\n",
       "<table border=\"1\" class=\"dataframe\">\n",
       "  <thead>\n",
       "    <tr style=\"text-align: right;\">\n",
       "      <th></th>\n",
       "      <th>Location</th>\n",
       "      <th>School</th>\n",
       "      <th>Course</th>\n",
       "      <th>Degree_type</th>\n",
       "      <th>Pace</th>\n",
       "      <th>Duration</th>\n",
       "      <th>Language</th>\n",
       "      <th>Mode</th>\n",
       "      <th>Description</th>\n",
       "      <th>Link</th>\n",
       "      <th>Country</th>\n",
       "      <th>City</th>\n",
       "      <th>Continent</th>\n",
       "      <th>Duration_years</th>\n",
       "      <th>InEnglish</th>\n",
       "      <th>Lang_primary</th>\n",
       "    </tr>\n",
       "  </thead>\n",
       "  <tbody>\n",
       "    <tr>\n",
       "      <th>0</th>\n",
       "      <td>Barcelona, Spain +1 More</td>\n",
       "      <td>Harbour.Space University</td>\n",
       "      <td>Bachelor of Computer Science</td>\n",
       "      <td>Bachelor</td>\n",
       "      <td>Full-time</td>\n",
       "      <td>3 years</td>\n",
       "      <td>English</td>\n",
       "      <td>Campus</td>\n",
       "      <td>Harbour.Space Computer Science Bachelor progra...</td>\n",
       "      <td>https://www.bachelorstudies.com/Bachelor-of-Co...</td>\n",
       "      <td>Spain</td>\n",
       "      <td>Barcelona</td>\n",
       "      <td>Europe</td>\n",
       "      <td>3</td>\n",
       "      <td>True</td>\n",
       "      <td>English</td>\n",
       "    </tr>\n",
       "    <tr>\n",
       "      <th>1</th>\n",
       "      <td>Berlin, Germany</td>\n",
       "      <td>IU International University of Applied Science...</td>\n",
       "      <td>B.Sc. Software Development</td>\n",
       "      <td>BSc</td>\n",
       "      <td>Full-time</td>\n",
       "      <td>36 months</td>\n",
       "      <td>English</td>\n",
       "      <td>Online</td>\n",
       "      <td>Learn the skills needed to be a successful sof...</td>\n",
       "      <td>https://www.onlinestudies.com/B.Sc.-Software-D...</td>\n",
       "      <td>Germany</td>\n",
       "      <td>Berlin</td>\n",
       "      <td>Europe</td>\n",
       "      <td>3</td>\n",
       "      <td>True</td>\n",
       "      <td>English</td>\n",
       "    </tr>\n",
       "    <tr>\n",
       "      <th>2</th>\n",
       "      <td>Berlin, Germany</td>\n",
       "      <td>IU International University of Applied Science...</td>\n",
       "      <td>B.Sc. Software Development</td>\n",
       "      <td>BSc</td>\n",
       "      <td>Full-time</td>\n",
       "      <td>36 months</td>\n",
       "      <td>English</td>\n",
       "      <td>Online</td>\n",
       "      <td>Learn the skills needed to be a successful sof...</td>\n",
       "      <td>https://www.onlinestudies.com/B.Sc.-Software-D...</td>\n",
       "      <td>Germany</td>\n",
       "      <td>Berlin</td>\n",
       "      <td>Europe</td>\n",
       "      <td>3</td>\n",
       "      <td>True</td>\n",
       "      <td>English</td>\n",
       "    </tr>\n",
       "  </tbody>\n",
       "</table>\n",
       "</div>"
      ],
      "text/plain": [
       "                   Location  \\\n",
       "0  Barcelona, Spain +1 More   \n",
       "1           Berlin, Germany   \n",
       "2           Berlin, Germany   \n",
       "\n",
       "                                              School  \\\n",
       "0                           Harbour.Space University   \n",
       "1  IU International University of Applied Science...   \n",
       "2  IU International University of Applied Science...   \n",
       "\n",
       "                         Course Degree_type       Pace   Duration Language  \\\n",
       "0  Bachelor of Computer Science    Bachelor  Full-time    3 years  English   \n",
       "1    B.Sc. Software Development         BSc  Full-time  36 months  English   \n",
       "2    B.Sc. Software Development         BSc  Full-time  36 months  English   \n",
       "\n",
       "     Mode                                        Description  \\\n",
       "0  Campus  Harbour.Space Computer Science Bachelor progra...   \n",
       "1  Online  Learn the skills needed to be a successful sof...   \n",
       "2  Online  Learn the skills needed to be a successful sof...   \n",
       "\n",
       "                                                Link  Country       City  \\\n",
       "0  https://www.bachelorstudies.com/Bachelor-of-Co...    Spain  Barcelona   \n",
       "1  https://www.onlinestudies.com/B.Sc.-Software-D...  Germany     Berlin   \n",
       "2  https://www.onlinestudies.com/B.Sc.-Software-D...  Germany     Berlin   \n",
       "\n",
       "  Continent Duration_years InEnglish Lang_primary  \n",
       "0    Europe              3      True      English  \n",
       "1    Europe              3      True      English  \n",
       "2    Europe              3      True      English  "
      ]
     },
     "execution_count": 11,
     "metadata": {},
     "output_type": "execute_result"
    }
   ],
   "source": [
    "#keywords = ['Data','Business', 'Information', 'Analytics', 'Management']\n",
    "keywords = ['Computer Science', 'Software', 'Development', 'Developer']\n",
    "df1 = pd.DataFrame()\n",
    "for i in range(0,len(df)):\n",
    "    for kw in keywords:\n",
    "        if kw in df['Course'][i]:\n",
    "            df1 = pd.concat([df1, df.loc[i]], axis = 1)\n",
    "            \n",
    "df1 = df1.transpose()\n",
    "df1.reset_index(drop = True, inplace = True)\n",
    "print(df1.shape)\n",
    "df1.head(3)"
   ]
  },
  {
   "cell_type": "code",
   "execution_count": 12,
   "metadata": {},
   "outputs": [
    {
     "data": {
      "text/plain": [
       "27"
      ]
     },
     "execution_count": 12,
     "metadata": {},
     "output_type": "execute_result"
    }
   ],
   "source": [
    "df1.duplicated().sum()"
   ]
  },
  {
   "cell_type": "code",
   "execution_count": 13,
   "metadata": {},
   "outputs": [],
   "source": [
    "df1.drop_duplicates(keep = 'first', inplace = True, ignore_index = True)"
   ]
  },
  {
   "cell_type": "code",
   "execution_count": null,
   "metadata": {},
   "outputs": [],
   "source": []
  },
  {
   "cell_type": "code",
   "execution_count": null,
   "metadata": {},
   "outputs": [],
   "source": []
  },
  {
   "cell_type": "code",
   "execution_count": 5,
   "metadata": {},
   "outputs": [],
   "source": [
    "def get_intro(link):\n",
    "    driver = webdriver.Chrome()\n",
    "    driver.get(link)\n",
    "\n",
    "    txt = []\n",
    "    try:\n",
    "        for i in html.unescape(driver.find_element(By.ID, 'introduction').get_attribute('innerHTML')).split('\\n'):\n",
    "            if len(i)>0:\n",
    "                if i[0] != '<' and i[:3] != '   ':\n",
    "                    txt.append(i)\n",
    "        intro = ' '.join(txt)\n",
    "    except:\n",
    "        intro = 'Unknown'\n",
    "            \n",
    "    driver.quit()\n",
    "    if len(intro)<20:\n",
    "        intro = 'Unknown'\n",
    "    \n",
    "    return intro"
   ]
  },
  {
   "cell_type": "code",
   "execution_count": 20,
   "metadata": {},
   "outputs": [
    {
     "name": "stdout",
     "output_type": "stream",
     "text": [
      "[20, 17]\n",
      "[40, 35]\n",
      "[60, 51]\n",
      "[80, 69]\n",
      "[100, 88]\n",
      "[120, 104]\n",
      "[140, 123]\n",
      "[160, 143]\n",
      "[180, 163]\n",
      "[200, 183]\n",
      "[220, 203]\n",
      "[240, 222]\n",
      "[260, 242]\n",
      "[280, 262]\n",
      "[300, 282]\n",
      "[320, 302]\n",
      "[340, 322]\n",
      "[360, 342]\n",
      "[380, 362]\n",
      "[400, 382]\n",
      "[420, 402]\n",
      "[440, 422]\n",
      "[460, 442]\n"
     ]
    }
   ],
   "source": [
    "intros = []\n",
    "c = [0,0] #counter\n",
    "for link in df1['Link']: #add [start:to] somehow?\n",
    "    \n",
    "    #scrape intro\n",
    "    try:\n",
    "        intro = get_intro(link)\n",
    "    except:\n",
    "        intro = 'Unknown' \n",
    "        \n",
    "    intros.append(intro)\n",
    "    \n",
    "    #adjust counter\n",
    "    c[0] += 1\n",
    "    if c[0]%20 == 0:\n",
    "        print(c)\n",
    "    if intro != 'Unknown':\n",
    "        c[1] += 1\n",
    "        \n",
    "    #end of loop\n",
    "        \n",
    "if len(intros) == len(df1):\n",
    "    df1['Introduction'] = intros\n",
    "df1.to_csv('developer-wintros-raw.csv')"
   ]
  },
  {
   "cell_type": "code",
   "execution_count": 6,
   "metadata": {},
   "outputs": [],
   "source": [
    "df1 = pd.read_csv('df1_final_dev.csv', index_col = 0)"
   ]
  },
  {
   "cell_type": "code",
   "execution_count": 36,
   "metadata": {
    "scrolled": true
   },
   "outputs": [
    {
     "name": "stdout",
     "output_type": "stream",
     "text": [
      "<class 'pandas.core.frame.DataFrame'>\n",
      "Int64Index: 469 entries, 0 to 468\n",
      "Data columns (total 20 columns):\n",
      " #   Column           Non-Null Count  Dtype  \n",
      "---  ------           --------------  -----  \n",
      " 0   Location         469 non-null    object \n",
      " 1   School           469 non-null    object \n",
      " 2   Course           469 non-null    object \n",
      " 3   Degree_type      469 non-null    object \n",
      " 4   Pace             307 non-null    object \n",
      " 5   Duration         280 non-null    object \n",
      " 6   Language         469 non-null    object \n",
      " 7   Mode             443 non-null    object \n",
      " 8   Description      469 non-null    object \n",
      " 9   Link             469 non-null    object \n",
      " 10  Country          469 non-null    object \n",
      " 11  City             469 non-null    object \n",
      " 12  Continent        469 non-null    object \n",
      " 13  Duration_years   469 non-null    float64\n",
      " 14  InEnglish        469 non-null    bool   \n",
      " 15  Lang_primary     469 non-null    object \n",
      " 16  Introduction     469 non-null    object \n",
      " 17  Curriculum       119 non-null    object \n",
      " 18  Careers          101 non-null    object \n",
      " 19  Program_outcome  40 non-null     object \n",
      "dtypes: bool(1), float64(1), object(18)\n",
      "memory usage: 93.7+ KB\n"
     ]
    }
   ],
   "source": [
    "df1.replace(\"Unknown\", np.nan, inplace = True)\n",
    "df1.info()"
   ]
  },
  {
   "cell_type": "code",
   "execution_count": 5,
   "metadata": {},
   "outputs": [],
   "source": [
    "df1.dropna(subset = ['Introduction'], inplace = True)\n",
    "df1.reset_index(drop = True, inplace = True)"
   ]
  },
  {
   "cell_type": "code",
   "execution_count": null,
   "metadata": {},
   "outputs": [],
   "source": []
  },
  {
   "cell_type": "code",
   "execution_count": 8,
   "metadata": {},
   "outputs": [],
   "source": [
    "def click_element(element_id,driver):\n",
    "    element = driver.find_element(By.ID, element_id)\n",
    "    driver.execute_script(\"arguments[0].scrollIntoView();\", element)\n",
    "    try:\n",
    "        element.click()\n",
    "        #print('a')\n",
    "    except:\n",
    "        driver.execute_script(\"window.scrollTo(0, window.scrollY + 100)\")\n",
    "        element = driver.find_element(By.ID, element_id)\n",
    "        element.click()\n",
    "        #print('b')\n",
    "    else:\n",
    "        pass\n",
    "        #print(link)"
   ]
  },
  {
   "cell_type": "code",
   "execution_count": 9,
   "metadata": {},
   "outputs": [],
   "source": [
    "def get_section_text(element_id,driver):\n",
    "    h = HTML2Text()\n",
    "    h.ignore_links = True\n",
    "    text = ''\n",
    "    for line in h.handle(driver.find_element(By.ID,element_id).get_attribute('innerHTML')):\n",
    "            # handle() Function only accepts string as parameter            \n",
    "        text += line   \n",
    "    section = ''\n",
    "    for i in text.split('\\n'):\n",
    "        section+=i.strip()        \n",
    "        \n",
    "    return section"
   ]
  },
  {
   "cell_type": "code",
   "execution_count": 21,
   "metadata": {},
   "outputs": [],
   "source": [
    "def get_section(element_id, link):\n",
    "    driver = webdriver.Chrome()\n",
    "    driver.get(link)\n",
    "    \n",
    "    try:\n",
    "        click_element(element_id,driver)\n",
    "        time.sleep(3)\n",
    "        section = get_section_text(element_id,driver)\n",
    "    except:\n",
    "        section = 'Unknown'\n",
    "    \n",
    "    if len(section)<50:\n",
    "        time.sleep(10)\n",
    "        try:\n",
    "            section = get_section_text(element_id)\n",
    "        except:\n",
    "            section = 'Unknown'\n",
    "         \n",
    "    driver.quit()\n",
    "    \n",
    "    return section"
   ]
  },
  {
   "cell_type": "code",
   "execution_count": 22,
   "metadata": {},
   "outputs": [],
   "source": [
    "def get_sections_list(link_list, element_id):\n",
    "    sections = []\n",
    "    c = [0,0]\n",
    "    for link in link_list:\n",
    "        try:\n",
    "            section = get_section(element_id, link)\n",
    "        except:\n",
    "            section = 'Unknown'\n",
    "        sections.append(section)\n",
    "\n",
    "        c[0] += 1\n",
    "        if c[0]%20 == 0:\n",
    "            print(c)\n",
    "        if section != \"Unknown\":\n",
    "            c[1] += 1\n",
    "        \n",
    "    return sections"
   ]
  },
  {
   "cell_type": "code",
   "execution_count": 37,
   "metadata": {
    "collapsed": true
   },
   "outputs": [
    {
     "name": "stdout",
     "output_type": "stream",
     "text": [
      "[10, 9]\n",
      "[20, 19]\n",
      "[30, 29]\n",
      "[40, 39]\n",
      "[50, 49]\n",
      "[60, 59]\n",
      "[70, 69]\n",
      "[80, 79]\n",
      "[90, 89]\n",
      "[100, 99]\n",
      "[110, 109]\n",
      "[120, 119]\n",
      "[130, 129]\n",
      "[140, 139]\n",
      "[150, 149]\n",
      "[160, 159]\n",
      "[170, 169]\n",
      "[180, 179]\n",
      "[190, 189]\n",
      "[200, 199]\n",
      "[210, 209]\n",
      "[220, 219]\n",
      "[230, 229]\n",
      "[240, 239]\n",
      "[250, 249]\n",
      "[260, 259]\n",
      "[270, 269]\n",
      "[280, 279]\n",
      "[290, 289]\n",
      "[300, 299]\n",
      "[310, 309]\n",
      "[320, 319]\n",
      "[330, 329]\n",
      "[340, 339]\n",
      "[350, 349]\n",
      "[360, 359]\n",
      "[370, 369]\n",
      "[380, 379]\n",
      "[390, 389]\n",
      "[400, 399]\n",
      "[410, 409]\n",
      "[420, 419]\n",
      "[430, 429]\n",
      "[440, 439]\n",
      "[450, 449]\n",
      "[460, 459]\n"
     ]
    }
   ],
   "source": [
    "curriculum = get_sections_list(df['Link'], 'curriculum')\n",
    "\n",
    "df['Curriculum'] = curriculum"
   ]
  },
  {
   "cell_type": "code",
   "execution_count": 28,
   "metadata": {},
   "outputs": [
    {
     "name": "stdout",
     "output_type": "stream",
     "text": [
      "[20, 9]\n",
      "[40, 18]\n",
      "[60, 30]\n",
      "[80, 42]\n",
      "[100, 52]\n",
      "[120, 64]\n",
      "[140, 71]\n",
      "[160, 85]\n",
      "[180, 95]\n",
      "[200, 97]\n",
      "[220, 97]\n",
      "[240, 98]\n",
      "[260, 101]\n",
      "[280, 101]\n",
      "[300, 101]\n",
      "[320, 101]\n",
      "[340, 101]\n",
      "[360, 101]\n",
      "[380, 101]\n",
      "[400, 101]\n",
      "[420, 101]\n",
      "[440, 101]\n",
      "[460, 101]\n"
     ]
    }
   ],
   "source": [
    "careers = get_sections_list(df1['Link'], 'career_opportunities')\n",
    "\n",
    "if len(careers) == len(df1):\n",
    "    df1['Careers'] = careers\n",
    "\n",
    "df1.to_csv('developer-wcar-raw.csv')"
   ]
  },
  {
   "cell_type": "code",
   "execution_count": 27,
   "metadata": {
    "collapsed": true
   },
   "outputs": [
    {
     "data": {
      "text/plain": [
       "['Unknown',\n",
       " \"### Career OpportunitiesWith a Bachelor's degree in Software Development, you can expect excellentcareer prospects across all industries, with lucrative opportunities foradvancement and the possibility to work anywhere on the globe. Some of themany career options waiting for you in the future are:**JavaScript Developer**Own and operate all JavaScript applications for a specific project or acrosscompany operations. Develop websites, design the architecture of web-orientedbackend and optimise apps and webpages in order to give users an easy andclear interface and browsing experience.**Frontend Engineer**Enjoy working with HTML, CSS and JavaScript? More interested in the softwareelements that users have direct interaction with? Then a career as a FrontendEngineer is the right choice for you. In this role, you’ll gain experience inthe development of graphic user interfaces, and work on having softwaresystems that run as smoothly as possible from a user’s perspective.**Backend Developer**Backend Developers are responsible for designing and maintaining the complexprocesses that ensure that websites, apps and other software platforms areworking smoothly. As a Backend Developer, you’ll focus on developing server-side software – the parts of the software that users don’t see. You’ll managethe design, implementation and maintenance of software systems, and performregular tests to spot bugs or glitches.\",\n",
       " '### Career Opportunities### Major career opportunities* Front End Developer* Back End Developer* Full-Stack Developer* IT Project Manager* SCRUM Master* Tester* Quality Assurance Specialist* User Experience (UX) Specialist* Project Team Leader* Digital Marketing Specialist* Innovative Solutions Project Manager']"
      ]
     },
     "execution_count": 27,
     "metadata": {},
     "output_type": "execute_result"
    }
   ],
   "source": [
    "careers"
   ]
  },
  {
   "cell_type": "code",
   "execution_count": 32,
   "metadata": {},
   "outputs": [
    {
     "data": {
      "text/plain": [
       "'Unknown'"
      ]
     },
     "execution_count": 32,
     "metadata": {},
     "output_type": "execute_result"
    }
   ],
   "source": [
    "get_section('program_outcome',df1['Link'][1])"
   ]
  },
  {
   "cell_type": "code",
   "execution_count": 35,
   "metadata": {},
   "outputs": [
    {
     "name": "stdout",
     "output_type": "stream",
     "text": [
      "[20, 3]\n",
      "[40, 10]\n",
      "[60, 14]\n",
      "[80, 16]\n",
      "[100, 24]\n",
      "[120, 25]\n",
      "[140, 28]\n",
      "[160, 32]\n",
      "[180, 36]\n",
      "[200, 36]\n",
      "[220, 36]\n",
      "[240, 37]\n",
      "[260, 40]\n",
      "[280, 40]\n",
      "[300, 40]\n",
      "[320, 40]\n",
      "[340, 40]\n",
      "[360, 40]\n",
      "[380, 40]\n",
      "[400, 40]\n",
      "[420, 40]\n",
      "[440, 40]\n",
      "[460, 40]\n"
     ]
    }
   ],
   "source": [
    "outcome = get_sections_list(df1['Link'], 'program_outcome')\n",
    "\n",
    "if len(outcome) == len(df1):\n",
    "    df1['Program_outcome'] = outcome"
   ]
  },
  {
   "cell_type": "code",
   "execution_count": 33,
   "metadata": {},
   "outputs": [
    {
     "data": {
      "text/plain": [
       "0"
      ]
     },
     "execution_count": 33,
     "metadata": {},
     "output_type": "execute_result"
    }
   ],
   "source": [
    "df1['Introduction'].isna().sum()"
   ]
  },
  {
   "cell_type": "code",
   "execution_count": 40,
   "metadata": {},
   "outputs": [
    {
     "name": "stderr",
     "output_type": "stream",
     "text": [
      "<ipython-input-40-e834a2d106db>:6: SettingWithCopyWarning: \n",
      "A value is trying to be set on a copy of a slice from a DataFrame\n",
      "\n",
      "See the caveats in the documentation: https://pandas.pydata.org/pandas-docs/stable/user_guide/indexing.html#returning-a-view-versus-a-copy\n",
      "  df1['Curriculum'][i] = get_section('curriculum', df1['Link'][i])\n"
     ]
    },
    {
     "name": "stdout",
     "output_type": "stream",
     "text": [
      "50\n",
      "100\n",
      "150\n",
      "200\n",
      "250\n",
      "300\n",
      "350\n",
      "400\n",
      "450\n"
     ]
    }
   ],
   "source": [
    "#fillna\n",
    "c = 0\n",
    "for i in range(0,len(df1)):\n",
    "    if df1['Curriculum'].isna()[i]:\n",
    "        try:\n",
    "            df1['Curriculum'][i] = get_section('curriculum', df1['Link'][i])\n",
    "        except:\n",
    "            pass\n",
    "       \n",
    "    c += 1\n",
    "    if c%50 == 0:\n",
    "        print(c)"
   ]
  },
  {
   "cell_type": "code",
   "execution_count": 37,
   "metadata": {},
   "outputs": [],
   "source": [
    "df1.to_csv('df1_dev_final.csv')"
   ]
  },
  {
   "cell_type": "code",
   "execution_count": null,
   "metadata": {},
   "outputs": [],
   "source": [
    "df1.replace(\"Unknown\", np.nan, inplace = True)\n",
    "df1.info()"
   ]
  },
  {
   "cell_type": "code",
   "execution_count": 55,
   "metadata": {},
   "outputs": [],
   "source": [
    "df1_sub = df1.dropna(subset = ['Curriculum', 'Careers'])\n",
    "df1_sub.reset_index(drop = True, inplace = True)"
   ]
  },
  {
   "cell_type": "code",
   "execution_count": 56,
   "metadata": {},
   "outputs": [
    {
     "name": "stdout",
     "output_type": "stream",
     "text": [
      "<class 'pandas.core.frame.DataFrame'>\n",
      "RangeIndex: 115 entries, 0 to 114\n",
      "Data columns (total 20 columns):\n",
      " #   Column           Non-Null Count  Dtype  \n",
      "---  ------           --------------  -----  \n",
      " 0   Location         115 non-null    object \n",
      " 1   School           115 non-null    object \n",
      " 2   Course           115 non-null    object \n",
      " 3   Degree_type      115 non-null    object \n",
      " 4   Pace             115 non-null    object \n",
      " 5   Duration         114 non-null    object \n",
      " 6   Language         115 non-null    object \n",
      " 7   Mode             115 non-null    object \n",
      " 8   Description      115 non-null    object \n",
      " 9   Link             115 non-null    object \n",
      " 10  Country          115 non-null    object \n",
      " 11  City             115 non-null    object \n",
      " 12  Continent        115 non-null    object \n",
      " 13  Duration_years   115 non-null    float64\n",
      " 14  InEnglish        115 non-null    bool   \n",
      " 15  Lang_primary     115 non-null    object \n",
      " 16  Introduction     115 non-null    object \n",
      " 17  Curriculum       115 non-null    object \n",
      " 18  Careers          115 non-null    object \n",
      " 19  Program_outcome  30 non-null     object \n",
      "dtypes: bool(1), float64(1), object(18)\n",
      "memory usage: 17.3+ KB\n"
     ]
    }
   ],
   "source": [
    "df1_sub.info()"
   ]
  },
  {
   "cell_type": "code",
   "execution_count": 58,
   "metadata": {},
   "outputs": [],
   "source": [
    "df1_sub.to_csv('df1_sub.csv')"
   ]
  },
  {
   "cell_type": "code",
   "execution_count": null,
   "metadata": {},
   "outputs": [],
   "source": []
  }
 ],
 "metadata": {
  "kernelspec": {
   "display_name": "Python 3",
   "language": "python",
   "name": "python3"
  },
  "language_info": {
   "codemirror_mode": {
    "name": "ipython",
    "version": 3
   },
   "file_extension": ".py",
   "mimetype": "text/x-python",
   "name": "python",
   "nbconvert_exporter": "python",
   "pygments_lexer": "ipython3",
   "version": "3.8.5"
  }
 },
 "nbformat": 4,
 "nbformat_minor": 4
}
