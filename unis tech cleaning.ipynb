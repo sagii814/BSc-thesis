{
 "cells": [
  {
   "cell_type": "code",
   "execution_count": 1,
   "metadata": {
    "executionInfo": {
     "elapsed": 581,
     "status": "ok",
     "timestamp": 1646917479788,
     "user": {
      "displayName": "Ágnes Sinka",
      "photoUrl": "https://lh3.googleusercontent.com/a-/AOh14GifdgKCep7BMaS_hrSPRQAJwYIqxwU0OJ24OyQviQ=s64",
      "userId": "12266815343355599131"
     },
     "user_tz": -60
    },
    "id": "3Ulnf1ay7DSr"
   },
   "outputs": [],
   "source": [
    "import pandas as pd\n",
    "import numpy as np"
   ]
  },
  {
   "cell_type": "code",
   "execution_count": 2,
   "metadata": {
    "colab": {
     "base_uri": "https://localhost:8080/",
     "height": 358
    },
    "executionInfo": {
     "elapsed": 224,
     "status": "error",
     "timestamp": 1646918330991,
     "user": {
      "displayName": "Ágnes Sinka",
      "photoUrl": "https://lh3.googleusercontent.com/a-/AOh14GifdgKCep7BMaS_hrSPRQAJwYIqxwU0OJ24OyQviQ=s64",
      "userId": "12266815343355599131"
     },
     "user_tz": -60
    },
    "id": "65rQYGtR7DSt",
    "outputId": "15723b5c-f680-49c5-bba9-bbe139113c05"
   },
   "outputs": [
    {
     "data": {
      "text/html": [
       "<div>\n",
       "<style scoped>\n",
       "    .dataframe tbody tr th:only-of-type {\n",
       "        vertical-align: middle;\n",
       "    }\n",
       "\n",
       "    .dataframe tbody tr th {\n",
       "        vertical-align: top;\n",
       "    }\n",
       "\n",
       "    .dataframe thead th {\n",
       "        text-align: right;\n",
       "    }\n",
       "</style>\n",
       "<table border=\"1\" class=\"dataframe\">\n",
       "  <thead>\n",
       "    <tr style=\"text-align: right;\">\n",
       "      <th></th>\n",
       "      <th>Location</th>\n",
       "      <th>School</th>\n",
       "      <th>Course</th>\n",
       "      <th>Degree_type</th>\n",
       "      <th>Pace</th>\n",
       "      <th>Duration</th>\n",
       "      <th>Language</th>\n",
       "      <th>Mode</th>\n",
       "      <th>Start_date</th>\n",
       "      <th>Description</th>\n",
       "      <th>Link</th>\n",
       "    </tr>\n",
       "  </thead>\n",
       "  <tbody>\n",
       "    <tr>\n",
       "      <th>0</th>\n",
       "      <td>Barcelona, Spain +1 More</td>\n",
       "      <td>Harbour.Space University</td>\n",
       "      <td>Bachelor of Computer Science</td>\n",
       "      <td>Bachelor</td>\n",
       "      <td>Full-time</td>\n",
       "      <td>3 years</td>\n",
       "      <td>English</td>\n",
       "      <td>Campus</td>\n",
       "      <td>Unknown</td>\n",
       "      <td>Harbour.Space Computer Science Bachelor progra...</td>\n",
       "      <td>https://www.bachelorstudies.com/Bachelor-of-Co...</td>\n",
       "    </tr>\n",
       "    <tr>\n",
       "      <th>1</th>\n",
       "      <td>Marbella, Spain</td>\n",
       "      <td>Schellhammer Business School</td>\n",
       "      <td>Bachelor in IT and Computing (Online)</td>\n",
       "      <td>Bachelor's</td>\n",
       "      <td>Full-time</td>\n",
       "      <td>3 years</td>\n",
       "      <td>English</td>\n",
       "      <td>Online</td>\n",
       "      <td>Unknown</td>\n",
       "      <td>This IT and Computing Undergraduate degree off...</td>\n",
       "      <td>https://www.onlinestudies.com/Bachelor-in-IT-a...</td>\n",
       "    </tr>\n",
       "    <tr>\n",
       "      <th>2</th>\n",
       "      <td>Berlin, Germany</td>\n",
       "      <td>IU International University of Applied Science...</td>\n",
       "      <td>B.Sc. Software Development</td>\n",
       "      <td>BSc</td>\n",
       "      <td>Full-time</td>\n",
       "      <td>36 months</td>\n",
       "      <td>English</td>\n",
       "      <td>Online</td>\n",
       "      <td>Unknown</td>\n",
       "      <td>Learn the skills needed to be a successful sof...</td>\n",
       "      <td>https://www.onlinestudies.com/B.Sc.-Software-D...</td>\n",
       "    </tr>\n",
       "  </tbody>\n",
       "</table>\n",
       "</div>"
      ],
      "text/plain": [
       "                   Location  \\\n",
       "0  Barcelona, Spain +1 More   \n",
       "1           Marbella, Spain   \n",
       "2           Berlin, Germany   \n",
       "\n",
       "                                              School  \\\n",
       "0                           Harbour.Space University   \n",
       "1                       Schellhammer Business School   \n",
       "2  IU International University of Applied Science...   \n",
       "\n",
       "                                  Course Degree_type       Pace   Duration  \\\n",
       "0           Bachelor of Computer Science    Bachelor  Full-time    3 years   \n",
       "1  Bachelor in IT and Computing (Online)  Bachelor's  Full-time    3 years   \n",
       "2             B.Sc. Software Development         BSc  Full-time  36 months   \n",
       "\n",
       "  Language    Mode Start_date  \\\n",
       "0  English  Campus    Unknown   \n",
       "1  English  Online    Unknown   \n",
       "2  English  Online    Unknown   \n",
       "\n",
       "                                         Description  \\\n",
       "0  Harbour.Space Computer Science Bachelor progra...   \n",
       "1  This IT and Computing Undergraduate degree off...   \n",
       "2  Learn the skills needed to be a successful sof...   \n",
       "\n",
       "                                                Link  \n",
       "0  https://www.bachelorstudies.com/Bachelor-of-Co...  \n",
       "1  https://www.onlinestudies.com/Bachelor-in-IT-a...  \n",
       "2  https://www.onlinestudies.com/B.Sc.-Software-D...  "
      ]
     },
     "execution_count": 2,
     "metadata": {},
     "output_type": "execute_result"
    }
   ],
   "source": [
    "df = pd.read_csv('unis-tech-raw.csv', index_col=0)\n",
    "df.head(3)"
   ]
  },
  {
   "cell_type": "code",
   "execution_count": 3,
   "metadata": {
    "id": "YcfpJT_97DSx"
   },
   "outputs": [],
   "source": [
    "df.replace(\"Unknown\", np.nan, inplace = True)"
   ]
  },
  {
   "cell_type": "code",
   "execution_count": 4,
   "metadata": {
    "id": "m83hD_Tt7DS0",
    "outputId": "891ee743-d9a4-47a6-9735-8942181ad446"
   },
   "outputs": [
    {
     "name": "stdout",
     "output_type": "stream",
     "text": [
      "<class 'pandas.core.frame.DataFrame'>\n",
      "Int64Index: 1662 entries, 0 to 1661\n",
      "Data columns (total 11 columns):\n",
      " #   Column       Non-Null Count  Dtype \n",
      "---  ------       --------------  ----- \n",
      " 0   Location     1647 non-null   object\n",
      " 1   School       1662 non-null   object\n",
      " 2   Course       1662 non-null   object\n",
      " 3   Degree_type  1662 non-null   object\n",
      " 4   Pace         1148 non-null   object\n",
      " 5   Duration     997 non-null    object\n",
      " 6   Language     1582 non-null   object\n",
      " 7   Mode         1552 non-null   object\n",
      " 8   Start_date   398 non-null    object\n",
      " 9   Description  1662 non-null   object\n",
      " 10  Link         1650 non-null   object\n",
      "dtypes: object(11)\n",
      "memory usage: 155.8+ KB\n"
     ]
    }
   ],
   "source": [
    "df.info()"
   ]
  },
  {
   "cell_type": "code",
   "execution_count": 5,
   "metadata": {
    "id": "Kr-mrY-G7DS1",
    "outputId": "61da0c7d-fe0c-48f6-b387-634edd9598e7"
   },
   "outputs": [
    {
     "data": {
      "text/plain": [
       "Location       0.009025\n",
       "School         0.000000\n",
       "Course         0.000000\n",
       "Degree_type    0.000000\n",
       "Pace           0.309266\n",
       "Duration       0.400120\n",
       "Language       0.048135\n",
       "Mode           0.066185\n",
       "Start_date     0.760529\n",
       "Description    0.000000\n",
       "Link           0.007220\n",
       "dtype: float64"
      ]
     },
     "execution_count": 5,
     "metadata": {},
     "output_type": "execute_result"
    }
   ],
   "source": [
    "df.isna().sum()/len(df)"
   ]
  },
  {
   "cell_type": "code",
   "execution_count": 6,
   "metadata": {
    "id": "YuvtV9uk7DS3"
   },
   "outputs": [],
   "source": [
    "df.drop('Start_date', axis = 1, inplace = True)"
   ]
  },
  {
   "cell_type": "code",
   "execution_count": 7,
   "metadata": {
    "id": "skkmxvRZ7DS4",
    "outputId": "3f060095-b6b7-49ab-bfd6-830eac89b370"
   },
   "outputs": [
    {
     "data": {
      "text/plain": [
       "Dubai, United Arab Emirates    27\n",
       "Kuala Lumpur, Malaysia         27\n",
       "Istanbul, Turkey               15\n",
       "Berlin, Germany                15\n",
       "Moscow, Russia                 14\n",
       "                               ..\n",
       "Shizuoka, Japan                 1\n",
       "Cartagena, Colombia             1\n",
       "Birmingham, United Kingdom      1\n",
       "Altoona, USA                    1\n",
       "Varna, Bulgaria                 1\n",
       "Name: Location, Length: 846, dtype: int64"
      ]
     },
     "execution_count": 7,
     "metadata": {},
     "output_type": "execute_result"
    }
   ],
   "source": [
    "df['Location'].value_counts()"
   ]
  },
  {
   "cell_type": "code",
   "execution_count": 9,
   "metadata": {
    "id": "z0u-324T7DS6",
    "outputId": "c9353d98-0945-4f00-c35d-cf114e4321f5"
   },
   "outputs": [
    {
     "data": {
      "text/html": [
       "<div>\n",
       "<style scoped>\n",
       "    .dataframe tbody tr th:only-of-type {\n",
       "        vertical-align: middle;\n",
       "    }\n",
       "\n",
       "    .dataframe tbody tr th {\n",
       "        vertical-align: top;\n",
       "    }\n",
       "\n",
       "    .dataframe thead th {\n",
       "        text-align: right;\n",
       "    }\n",
       "</style>\n",
       "<table border=\"1\" class=\"dataframe\">\n",
       "  <thead>\n",
       "    <tr style=\"text-align: right;\">\n",
       "      <th></th>\n",
       "      <th>0</th>\n",
       "      <th>1</th>\n",
       "      <th>2</th>\n",
       "    </tr>\n",
       "  </thead>\n",
       "  <tbody>\n",
       "    <tr>\n",
       "      <th>0</th>\n",
       "      <td>Barcelona</td>\n",
       "      <td>Spain +1 More</td>\n",
       "      <td>None</td>\n",
       "    </tr>\n",
       "    <tr>\n",
       "      <th>1</th>\n",
       "      <td>Marbella</td>\n",
       "      <td>Spain</td>\n",
       "      <td>None</td>\n",
       "    </tr>\n",
       "    <tr>\n",
       "      <th>2</th>\n",
       "      <td>Berlin</td>\n",
       "      <td>Germany</td>\n",
       "      <td>None</td>\n",
       "    </tr>\n",
       "    <tr>\n",
       "      <th>3</th>\n",
       "      <td>Bad Honnef</td>\n",
       "      <td>Germany +1 More</td>\n",
       "      <td>None</td>\n",
       "    </tr>\n",
       "    <tr>\n",
       "      <th>4</th>\n",
       "      <td>Emmen</td>\n",
       "      <td>Netherlands</td>\n",
       "      <td>None</td>\n",
       "    </tr>\n",
       "    <tr>\n",
       "      <th>...</th>\n",
       "      <td>...</td>\n",
       "      <td>...</td>\n",
       "      <td>...</td>\n",
       "    </tr>\n",
       "    <tr>\n",
       "      <th>1657</th>\n",
       "      <td>Manchester</td>\n",
       "      <td>USA +1 More</td>\n",
       "      <td>None</td>\n",
       "    </tr>\n",
       "    <tr>\n",
       "      <th>1658</th>\n",
       "      <td>Viseu</td>\n",
       "      <td>Portugal</td>\n",
       "      <td>None</td>\n",
       "    </tr>\n",
       "    <tr>\n",
       "      <th>1659</th>\n",
       "      <td>Hebron</td>\n",
       "      <td>Palestinian Territories</td>\n",
       "      <td>None</td>\n",
       "    </tr>\n",
       "    <tr>\n",
       "      <th>1660</th>\n",
       "      <td>Hebron</td>\n",
       "      <td>Palestinian Territories</td>\n",
       "      <td>None</td>\n",
       "    </tr>\n",
       "    <tr>\n",
       "      <th>1661</th>\n",
       "      <td>Trento</td>\n",
       "      <td>Italy</td>\n",
       "      <td>None</td>\n",
       "    </tr>\n",
       "  </tbody>\n",
       "</table>\n",
       "<p>1662 rows × 3 columns</p>\n",
       "</div>"
      ],
      "text/plain": [
       "               0                         1     2\n",
       "0      Barcelona             Spain +1 More  None\n",
       "1       Marbella                     Spain  None\n",
       "2         Berlin                   Germany  None\n",
       "3     Bad Honnef           Germany +1 More  None\n",
       "4          Emmen               Netherlands  None\n",
       "...          ...                       ...   ...\n",
       "1657  Manchester               USA +1 More  None\n",
       "1658       Viseu                  Portugal  None\n",
       "1659      Hebron   Palestinian Territories  None\n",
       "1660      Hebron   Palestinian Territories  None\n",
       "1661      Trento                     Italy  None\n",
       "\n",
       "[1662 rows x 3 columns]"
      ]
     },
     "execution_count": 9,
     "metadata": {},
     "output_type": "execute_result"
    }
   ],
   "source": [
    "df['Location'].str.split(',', expand=True)"
   ]
  },
  {
   "cell_type": "code",
   "execution_count": 10,
   "metadata": {
    "id": "SjxxP3Pz7DS8",
    "outputId": "47dd834a-0a8a-48eb-d290-234c9165d9c2"
   },
   "outputs": [
    {
     "data": {
      "text/plain": [
       "0      15\n",
       "1      26\n",
       "2    1660\n",
       "dtype: int64"
      ]
     },
     "execution_count": 10,
     "metadata": {},
     "output_type": "execute_result"
    }
   ],
   "source": [
    "df['Location'].str.split(',', expand=True).isna().sum()"
   ]
  },
  {
   "cell_type": "code",
   "execution_count": 11,
   "metadata": {
    "id": "217PjntD7DS9"
   },
   "outputs": [
    {
     "data": {
      "text/html": [
       "<div>\n",
       "<style scoped>\n",
       "    .dataframe tbody tr th:only-of-type {\n",
       "        vertical-align: middle;\n",
       "    }\n",
       "\n",
       "    .dataframe tbody tr th {\n",
       "        vertical-align: top;\n",
       "    }\n",
       "\n",
       "    .dataframe thead th {\n",
       "        text-align: right;\n",
       "    }\n",
       "</style>\n",
       "<table border=\"1\" class=\"dataframe\">\n",
       "  <thead>\n",
       "    <tr style=\"text-align: right;\">\n",
       "      <th></th>\n",
       "      <th>0</th>\n",
       "      <th>1</th>\n",
       "      <th>2</th>\n",
       "    </tr>\n",
       "  </thead>\n",
       "  <tbody>\n",
       "    <tr>\n",
       "      <th>0</th>\n",
       "      <td>Barcelona</td>\n",
       "      <td>Spain +1 More</td>\n",
       "      <td>None</td>\n",
       "    </tr>\n",
       "    <tr>\n",
       "      <th>1</th>\n",
       "      <td>Marbella</td>\n",
       "      <td>Spain</td>\n",
       "      <td>None</td>\n",
       "    </tr>\n",
       "    <tr>\n",
       "      <th>2</th>\n",
       "      <td>Berlin</td>\n",
       "      <td>Germany</td>\n",
       "      <td>None</td>\n",
       "    </tr>\n",
       "    <tr>\n",
       "      <th>3</th>\n",
       "      <td>Bad Honnef</td>\n",
       "      <td>Germany +1 More</td>\n",
       "      <td>None</td>\n",
       "    </tr>\n",
       "    <tr>\n",
       "      <th>4</th>\n",
       "      <td>Emmen</td>\n",
       "      <td>Netherlands</td>\n",
       "      <td>None</td>\n",
       "    </tr>\n",
       "  </tbody>\n",
       "</table>\n",
       "</div>"
      ],
      "text/plain": [
       "            0                 1     2\n",
       "0   Barcelona     Spain +1 More  None\n",
       "1    Marbella             Spain  None\n",
       "2      Berlin           Germany  None\n",
       "3  Bad Honnef   Germany +1 More  None\n",
       "4       Emmen       Netherlands  None"
      ]
     },
     "execution_count": 11,
     "metadata": {},
     "output_type": "execute_result"
    }
   ],
   "source": [
    "location = df['Location'].str.split(',', expand=True)\n",
    "location.head()"
   ]
  },
  {
   "cell_type": "code",
   "execution_count": 12,
   "metadata": {},
   "outputs": [
    {
     "data": {
      "text/plain": [
       "0                         Spain \n",
       "1                          Spain\n",
       "2                        Germany\n",
       "3                       Germany \n",
       "4                    Netherlands\n",
       "                  ...           \n",
       "1657                        USA \n",
       "1658                    Portugal\n",
       "1659     Palestinian Territories\n",
       "1660     Palestinian Territories\n",
       "1661                       Italy\n",
       "Name: 0, Length: 1662, dtype: object"
      ]
     },
     "execution_count": 12,
     "metadata": {},
     "output_type": "execute_result"
    }
   ],
   "source": [
    "location[1].str.split('+', expand = True)[0]"
   ]
  },
  {
   "cell_type": "code",
   "execution_count": 13,
   "metadata": {
    "id": "ve1tFtKI7DS-"
   },
   "outputs": [],
   "source": [
    "countries = []\n",
    "for c in location[1].str.split('+', expand = True)[0]:\n",
    "    try:\n",
    "        countries.append(c.strip())\n",
    "    except:\n",
    "        countries.append(c)"
   ]
  },
  {
   "cell_type": "code",
   "execution_count": 14,
   "metadata": {
    "id": "skd1KKu57DTA",
    "outputId": "cec45b7f-9a74-487e-a817-b6dff0758df1"
   },
   "outputs": [
    {
     "data": {
      "text/plain": [
       "1662"
      ]
     },
     "execution_count": 14,
     "metadata": {},
     "output_type": "execute_result"
    }
   ],
   "source": [
    "len(countries)"
   ]
  },
  {
   "cell_type": "code",
   "execution_count": 15,
   "metadata": {
    "id": "dOSAMvFE7DTB"
   },
   "outputs": [],
   "source": [
    "df['Country'] = countries\n",
    "df['City'] = location[0]"
   ]
  },
  {
   "cell_type": "code",
   "execution_count": 16,
   "metadata": {
    "id": "Az_bpYBp7DTC",
    "outputId": "5ad032b5-8a57-4531-a987-eecc77abe4a9"
   },
   "outputs": [
    {
     "data": {
      "text/plain": [
       "USA               476\n",
       "United Kingdom    124\n",
       "Russia             66\n",
       "China              66\n",
       "Germany            62\n",
       "                 ... \n",
       "Kenya               1\n",
       "Zimbabwe            1\n",
       "Afghanistan         1\n",
       "Ghana               1\n",
       "Lesotho             1\n",
       "Name: Country, Length: 92, dtype: int64"
      ]
     },
     "execution_count": 16,
     "metadata": {},
     "output_type": "execute_result"
    }
   ],
   "source": [
    "df['Country'].value_counts()"
   ]
  },
  {
   "cell_type": "code",
   "execution_count": 17,
   "metadata": {},
   "outputs": [],
   "source": [
    "from pycountry_convert import country_alpha2_to_continent_code, country_name_to_country_alpha2\n",
    "\n",
    "continents = []\n",
    "for c in df['Country']:\n",
    "    try: \n",
    "        con = country_alpha2_to_continent_code(country_name_to_country_alpha2(c))\n",
    "    except:\n",
    "        con = np.nan\n",
    "    continents.append(con)\n",
    "    \n",
    "df['Continent'] = continents"
   ]
  },
  {
   "cell_type": "code",
   "execution_count": 18,
   "metadata": {},
   "outputs": [
    {
     "data": {
      "text/plain": [
       "EU    582\n",
       "NA    542\n",
       "AS    395\n",
       "OC     50\n",
       "AF     32\n",
       "SA     30\n",
       "Name: Continent, dtype: int64"
      ]
     },
     "execution_count": 18,
     "metadata": {},
     "output_type": "execute_result"
    }
   ],
   "source": [
    "df['Continent'].value_counts()"
   ]
  },
  {
   "cell_type": "code",
   "execution_count": 23,
   "metadata": {
    "id": "aXFC4n5C7DTD",
    "outputId": "616d4355-618e-4211-bba4-22591ade129e"
   },
   "outputs": [
    {
     "data": {
      "text/plain": [
       "Bachelor    817\n",
       "BSc         737\n",
       "BA           80\n",
       "BBA          28\n",
       "Name: Degree_type, dtype: int64"
      ]
     },
     "execution_count": 23,
     "metadata": {},
     "output_type": "execute_result"
    }
   ],
   "source": [
    "df['Degree_type'].value_counts()"
   ]
  },
  {
   "cell_type": "code",
   "execution_count": 20,
   "metadata": {},
   "outputs": [],
   "source": [
    "df['Degree_type'] = df['Degree_type'].str.split(expand = True)[0]"
   ]
  },
  {
   "cell_type": "code",
   "execution_count": 22,
   "metadata": {
    "id": "d_NxpN0u7DTE"
   },
   "outputs": [],
   "source": [
    "df.replace(\"Bachelor's\", 'Bachelor', inplace = True)"
   ]
  },
  {
   "cell_type": "code",
   "execution_count": 24,
   "metadata": {
    "id": "RZ9danwm7DTF",
    "outputId": "342a769d-258e-4d1f-dcb4-079c3e6ad5bf"
   },
   "outputs": [
    {
     "data": {
      "text/plain": [
       "Full-time    1119\n",
       "Part-time      29\n",
       "Name: Pace, dtype: int64"
      ]
     },
     "execution_count": 24,
     "metadata": {},
     "output_type": "execute_result"
    }
   ],
   "source": [
    "df['Pace'].value_counts()"
   ]
  },
  {
   "cell_type": "code",
   "execution_count": 25,
   "metadata": {
    "id": "wqXgcPOs7DTG",
    "outputId": "4387bb9f-33e6-4b0a-9b8c-df93c4d7b036"
   },
   "outputs": [
    {
     "data": {
      "text/plain": [
       "4 years            445\n",
       "3 years            234\n",
       "3 - 4 years         42\n",
       "8 semesters         34\n",
       "7 semesters         30\n",
       "3 - 6 years         29\n",
       "4 - 5 years         26\n",
       "5 years             17\n",
       "6 semesters         16\n",
       "3 - 5 years         15\n",
       "36 months           13\n",
       "36 - 72 months      12\n",
       "2 years             12\n",
       "48 months            6\n",
       "6 years              5\n",
       "42 months            4\n",
       "2 - 3 years          4\n",
       "2 - 4 years          4\n",
       "9 semesters          3\n",
       "36 - 48 months       3\n",
       "4 - 6 years          3\n",
       "20 months            2\n",
       "8 weeks              2\n",
       "40 months            2\n",
       "4 - 7 years          2\n",
       "20 - 29 months       2\n",
       "18 months            2\n",
       "16 - 20 months       2\n",
       "4 - 8 years          2\n",
       "28 - 36 months       1\n",
       "180 hours            1\n",
       "4 semesters          1\n",
       "8 years              1\n",
       "10 semesters         1\n",
       "136 hours            1\n",
       "122 hours            1\n",
       "5 semesters          1\n",
       "12 months            1\n",
       "30 - 72 months       1\n",
       "2 semesters          1\n",
       "54 months            1\n",
       "42 - 54 months       1\n",
       "7 - 9 semesters      1\n",
       "9 months             1\n",
       "11 semesters         1\n",
       "7 months             1\n",
       "18 - 24 months       1\n",
       "185 hours            1\n",
       "3 semesters          1\n",
       "6 - 16 years         1\n",
       "5 - 6 years          1\n",
       "29 months            1\n",
       "4 - 8 semesters      1\n",
       "Name: Duration, dtype: int64"
      ]
     },
     "execution_count": 25,
     "metadata": {},
     "output_type": "execute_result"
    }
   ],
   "source": [
    "df['Duration'].value_counts()"
   ]
  },
  {
   "cell_type": "code",
   "execution_count": 26,
   "metadata": {
    "id": "2ZT3DFo87DTJ",
    "outputId": "d836356d-74fb-4cf5-f44a-24646af85fc7"
   },
   "outputs": [
    {
     "data": {
      "text/html": [
       "<div>\n",
       "<style scoped>\n",
       "    .dataframe tbody tr th:only-of-type {\n",
       "        vertical-align: middle;\n",
       "    }\n",
       "\n",
       "    .dataframe tbody tr th {\n",
       "        vertical-align: top;\n",
       "    }\n",
       "\n",
       "    .dataframe thead th {\n",
       "        text-align: right;\n",
       "    }\n",
       "</style>\n",
       "<table border=\"1\" class=\"dataframe\">\n",
       "  <thead>\n",
       "    <tr style=\"text-align: right;\">\n",
       "      <th></th>\n",
       "      <th>0</th>\n",
       "      <th>1</th>\n",
       "    </tr>\n",
       "  </thead>\n",
       "  <tbody>\n",
       "    <tr>\n",
       "      <th>0</th>\n",
       "      <td>3</td>\n",
       "      <td>years</td>\n",
       "    </tr>\n",
       "    <tr>\n",
       "      <th>1</th>\n",
       "      <td>3</td>\n",
       "      <td>years</td>\n",
       "    </tr>\n",
       "    <tr>\n",
       "      <th>2</th>\n",
       "      <td>36</td>\n",
       "      <td>months</td>\n",
       "    </tr>\n",
       "    <tr>\n",
       "      <th>3</th>\n",
       "      <td>36</td>\n",
       "      <td>months</td>\n",
       "    </tr>\n",
       "    <tr>\n",
       "      <th>4</th>\n",
       "      <td>4</td>\n",
       "      <td>years</td>\n",
       "    </tr>\n",
       "    <tr>\n",
       "      <th>5</th>\n",
       "      <td>7</td>\n",
       "      <td>semesters</td>\n",
       "    </tr>\n",
       "    <tr>\n",
       "      <th>6</th>\n",
       "      <td>36</td>\n",
       "      <td>months</td>\n",
       "    </tr>\n",
       "    <tr>\n",
       "      <th>7</th>\n",
       "      <td>3</td>\n",
       "      <td>years</td>\n",
       "    </tr>\n",
       "    <tr>\n",
       "      <th>8</th>\n",
       "      <td>4</td>\n",
       "      <td>years</td>\n",
       "    </tr>\n",
       "    <tr>\n",
       "      <th>9</th>\n",
       "      <td>7</td>\n",
       "      <td>semesters</td>\n",
       "    </tr>\n",
       "    <tr>\n",
       "      <th>10</th>\n",
       "      <td>3 - 4</td>\n",
       "      <td>years</td>\n",
       "    </tr>\n",
       "    <tr>\n",
       "      <th>11</th>\n",
       "      <td>4</td>\n",
       "      <td>years</td>\n",
       "    </tr>\n",
       "    <tr>\n",
       "      <th>12</th>\n",
       "      <td>6</td>\n",
       "      <td>semesters</td>\n",
       "    </tr>\n",
       "    <tr>\n",
       "      <th>13</th>\n",
       "      <td>3</td>\n",
       "      <td>years</td>\n",
       "    </tr>\n",
       "    <tr>\n",
       "      <th>14</th>\n",
       "      <td>3</td>\n",
       "      <td>years</td>\n",
       "    </tr>\n",
       "  </tbody>\n",
       "</table>\n",
       "</div>"
      ],
      "text/plain": [
       "        0          1\n",
       "0       3      years\n",
       "1       3      years\n",
       "2      36     months\n",
       "3      36     months\n",
       "4       4      years\n",
       "5       7  semesters\n",
       "6      36     months\n",
       "7       3      years\n",
       "8       4      years\n",
       "9       7  semesters\n",
       "10  3 - 4      years\n",
       "11      4      years\n",
       "12      6  semesters\n",
       "13      3      years\n",
       "14      3      years"
      ]
     },
     "execution_count": 26,
     "metadata": {},
     "output_type": "execute_result"
    }
   ],
   "source": [
    "length = df['Duration'].str.split(' ', expand=True)\n",
    "length[:15]"
   ]
  },
  {
   "cell_type": "code",
   "execution_count": 27,
   "metadata": {
    "id": "NabnROEV7DTK"
   },
   "outputs": [
    {
     "data": {
      "text/plain": [
       "0    0.40012\n",
       "1    0.40012\n",
       "dtype: float64"
      ]
     },
     "execution_count": 27,
     "metadata": {},
     "output_type": "execute_result"
    }
   ],
   "source": [
    "length.isna().sum()/len(df)"
   ]
  },
  {
   "cell_type": "code",
   "execution_count": 28,
   "metadata": {
    "id": "lQZRfnh-7DTN"
   },
   "outputs": [],
   "source": [
    "for i in range(0,len(length)):\n",
    "    try:\n",
    "        if len(str(length[0][i])) > 3:\n",
    "            if length[0][i].split()[1] == '-':\n",
    "                length[0][i] = (int(length[0][i].split()[0])+int(length[0][i].split()[2]))/2\n",
    "    except:\n",
    "        print(i)"
   ]
  },
  {
   "cell_type": "code",
   "execution_count": 29,
   "metadata": {},
   "outputs": [
    {
     "data": {
      "text/html": [
       "<div>\n",
       "<style scoped>\n",
       "    .dataframe tbody tr th:only-of-type {\n",
       "        vertical-align: middle;\n",
       "    }\n",
       "\n",
       "    .dataframe tbody tr th {\n",
       "        vertical-align: top;\n",
       "    }\n",
       "\n",
       "    .dataframe thead th {\n",
       "        text-align: right;\n",
       "    }\n",
       "</style>\n",
       "<table border=\"1\" class=\"dataframe\">\n",
       "  <thead>\n",
       "    <tr style=\"text-align: right;\">\n",
       "      <th></th>\n",
       "      <th>0</th>\n",
       "      <th>1</th>\n",
       "    </tr>\n",
       "  </thead>\n",
       "  <tbody>\n",
       "    <tr>\n",
       "      <th>0</th>\n",
       "      <td>3</td>\n",
       "      <td>years</td>\n",
       "    </tr>\n",
       "    <tr>\n",
       "      <th>1</th>\n",
       "      <td>3</td>\n",
       "      <td>years</td>\n",
       "    </tr>\n",
       "    <tr>\n",
       "      <th>2</th>\n",
       "      <td>36</td>\n",
       "      <td>months</td>\n",
       "    </tr>\n",
       "    <tr>\n",
       "      <th>3</th>\n",
       "      <td>36</td>\n",
       "      <td>months</td>\n",
       "    </tr>\n",
       "    <tr>\n",
       "      <th>4</th>\n",
       "      <td>4</td>\n",
       "      <td>years</td>\n",
       "    </tr>\n",
       "    <tr>\n",
       "      <th>5</th>\n",
       "      <td>7</td>\n",
       "      <td>semesters</td>\n",
       "    </tr>\n",
       "    <tr>\n",
       "      <th>6</th>\n",
       "      <td>36</td>\n",
       "      <td>months</td>\n",
       "    </tr>\n",
       "    <tr>\n",
       "      <th>7</th>\n",
       "      <td>3</td>\n",
       "      <td>years</td>\n",
       "    </tr>\n",
       "    <tr>\n",
       "      <th>8</th>\n",
       "      <td>4</td>\n",
       "      <td>years</td>\n",
       "    </tr>\n",
       "    <tr>\n",
       "      <th>9</th>\n",
       "      <td>7</td>\n",
       "      <td>semesters</td>\n",
       "    </tr>\n",
       "    <tr>\n",
       "      <th>10</th>\n",
       "      <td>3.5</td>\n",
       "      <td>years</td>\n",
       "    </tr>\n",
       "    <tr>\n",
       "      <th>11</th>\n",
       "      <td>4</td>\n",
       "      <td>years</td>\n",
       "    </tr>\n",
       "    <tr>\n",
       "      <th>12</th>\n",
       "      <td>6</td>\n",
       "      <td>semesters</td>\n",
       "    </tr>\n",
       "    <tr>\n",
       "      <th>13</th>\n",
       "      <td>3</td>\n",
       "      <td>years</td>\n",
       "    </tr>\n",
       "    <tr>\n",
       "      <th>14</th>\n",
       "      <td>3</td>\n",
       "      <td>years</td>\n",
       "    </tr>\n",
       "  </tbody>\n",
       "</table>\n",
       "</div>"
      ],
      "text/plain": [
       "      0          1\n",
       "0     3      years\n",
       "1     3      years\n",
       "2    36     months\n",
       "3    36     months\n",
       "4     4      years\n",
       "5     7  semesters\n",
       "6    36     months\n",
       "7     3      years\n",
       "8     4      years\n",
       "9     7  semesters\n",
       "10  3.5      years\n",
       "11    4      years\n",
       "12    6  semesters\n",
       "13    3      years\n",
       "14    3      years"
      ]
     },
     "execution_count": 29,
     "metadata": {},
     "output_type": "execute_result"
    }
   ],
   "source": [
    "length[:15]"
   ]
  },
  {
   "cell_type": "code",
   "execution_count": 30,
   "metadata": {
    "id": "lSEGFb647DTO",
    "outputId": "94442e11-db85-4b79-a39d-7a7290156a7b",
    "scrolled": true
   },
   "outputs": [
    {
     "data": {
      "text/plain": [
       "years        843\n",
       "semesters     91\n",
       "months        57\n",
       "hours          4\n",
       "weeks          2\n",
       "Name: 1, dtype: int64"
      ]
     },
     "execution_count": 30,
     "metadata": {},
     "output_type": "execute_result"
    }
   ],
   "source": [
    "length[1].value_counts()"
   ]
  },
  {
   "cell_type": "code",
   "execution_count": 31,
   "metadata": {
    "id": "wd0lOxRo7DTP"
   },
   "outputs": [],
   "source": [
    "for i in range(0,len(length)):\n",
    "    if length[1][i] == 'semesters':\n",
    "        try:\n",
    "            length[0][i] = int(length[0][i])/2\n",
    "            length[1][i] = 'years'\n",
    "        except:\n",
    "            print(i)\n",
    "            print(length[0][i])\n",
    "    if length[1][i] == 'months':\n",
    "        try:\n",
    "            length[0][i] = int(length[0][i])/12\n",
    "            length[1][i] = 'years'\n",
    "        except:\n",
    "            print(i)\n",
    "            print(length[0][i])\n",
    "    if length[1][i] == 'hours' or length[1][i] == 'weeks':\n",
    "        length[1][i] = np.nan\n",
    "        length[0][i] = np.nan"
   ]
  },
  {
   "cell_type": "code",
   "execution_count": 32,
   "metadata": {
    "id": "T9k7iKV-7DTQ"
   },
   "outputs": [],
   "source": [
    "df['Duration_years'] = length[0]"
   ]
  },
  {
   "cell_type": "code",
   "execution_count": 33,
   "metadata": {
    "id": "WeUKzSzi7DTR",
    "outputId": "d27aae36-94aa-4d3d-ba9c-e11f070cd1d7"
   },
   "outputs": [
    {
     "data": {
      "text/plain": [
       "4                     445\n",
       "3                     234\n",
       "3.5                    79\n",
       "4.5                    71\n",
       "4.0                    57\n",
       "3.0                    34\n",
       "5                      17\n",
       "2                      12\n",
       "1.5                     5\n",
       "6                       5\n",
       "2.5                     5\n",
       "5.0                     4\n",
       "5.5                     4\n",
       "2.0                     3\n",
       "1.0                     2\n",
       "6.0                     2\n",
       "3.3333333333333335      2\n",
       "1.6666666666666667      2\n",
       "8                       1\n",
       "4.25                    1\n",
       "0.5833333333333334      1\n",
       "11.0                    1\n",
       "1.75                    1\n",
       "2.6666666666666665      1\n",
       "2.4166666666666665      1\n",
       "0.75                    1\n",
       "Name: Duration_years, dtype: int64"
      ]
     },
     "execution_count": 33,
     "metadata": {},
     "output_type": "execute_result"
    }
   ],
   "source": [
    "df['Duration_years'].value_counts()"
   ]
  },
  {
   "cell_type": "code",
   "execution_count": 34,
   "metadata": {
    "id": "OlTOSDNa7DTS",
    "outputId": "f361358e-50e0-4eb9-889f-9b7d100dedae"
   },
   "outputs": [
    {
     "data": {
      "text/html": [
       "<div>\n",
       "<style scoped>\n",
       "    .dataframe tbody tr th:only-of-type {\n",
       "        vertical-align: middle;\n",
       "    }\n",
       "\n",
       "    .dataframe tbody tr th {\n",
       "        vertical-align: top;\n",
       "    }\n",
       "\n",
       "    .dataframe thead th {\n",
       "        text-align: right;\n",
       "    }\n",
       "</style>\n",
       "<table border=\"1\" class=\"dataframe\">\n",
       "  <thead>\n",
       "    <tr style=\"text-align: right;\">\n",
       "      <th></th>\n",
       "      <th>Duration</th>\n",
       "      <th>Duration_years</th>\n",
       "    </tr>\n",
       "  </thead>\n",
       "  <tbody>\n",
       "    <tr>\n",
       "      <th>0</th>\n",
       "      <td>3 years</td>\n",
       "      <td>3</td>\n",
       "    </tr>\n",
       "    <tr>\n",
       "      <th>1</th>\n",
       "      <td>3 years</td>\n",
       "      <td>3</td>\n",
       "    </tr>\n",
       "    <tr>\n",
       "      <th>2</th>\n",
       "      <td>36 months</td>\n",
       "      <td>3</td>\n",
       "    </tr>\n",
       "    <tr>\n",
       "      <th>3</th>\n",
       "      <td>36 months</td>\n",
       "      <td>3</td>\n",
       "    </tr>\n",
       "    <tr>\n",
       "      <th>4</th>\n",
       "      <td>4 years</td>\n",
       "      <td>4</td>\n",
       "    </tr>\n",
       "    <tr>\n",
       "      <th>5</th>\n",
       "      <td>7 semesters</td>\n",
       "      <td>3.5</td>\n",
       "    </tr>\n",
       "    <tr>\n",
       "      <th>6</th>\n",
       "      <td>36 months</td>\n",
       "      <td>3</td>\n",
       "    </tr>\n",
       "    <tr>\n",
       "      <th>7</th>\n",
       "      <td>3 years</td>\n",
       "      <td>3</td>\n",
       "    </tr>\n",
       "    <tr>\n",
       "      <th>8</th>\n",
       "      <td>4 years</td>\n",
       "      <td>4</td>\n",
       "    </tr>\n",
       "    <tr>\n",
       "      <th>9</th>\n",
       "      <td>7 semesters</td>\n",
       "      <td>3.5</td>\n",
       "    </tr>\n",
       "    <tr>\n",
       "      <th>10</th>\n",
       "      <td>3 - 4 years</td>\n",
       "      <td>3.5</td>\n",
       "    </tr>\n",
       "    <tr>\n",
       "      <th>11</th>\n",
       "      <td>4 years</td>\n",
       "      <td>4</td>\n",
       "    </tr>\n",
       "    <tr>\n",
       "      <th>12</th>\n",
       "      <td>6 semesters</td>\n",
       "      <td>3</td>\n",
       "    </tr>\n",
       "    <tr>\n",
       "      <th>13</th>\n",
       "      <td>3 years</td>\n",
       "      <td>3</td>\n",
       "    </tr>\n",
       "    <tr>\n",
       "      <th>14</th>\n",
       "      <td>3 years</td>\n",
       "      <td>3</td>\n",
       "    </tr>\n",
       "  </tbody>\n",
       "</table>\n",
       "</div>"
      ],
      "text/plain": [
       "       Duration Duration_years\n",
       "0       3 years              3\n",
       "1       3 years              3\n",
       "2     36 months              3\n",
       "3     36 months              3\n",
       "4       4 years              4\n",
       "5   7 semesters            3.5\n",
       "6     36 months              3\n",
       "7       3 years              3\n",
       "8       4 years              4\n",
       "9   7 semesters            3.5\n",
       "10  3 - 4 years            3.5\n",
       "11      4 years              4\n",
       "12  6 semesters              3\n",
       "13      3 years              3\n",
       "14      3 years              3"
      ]
     },
     "execution_count": 34,
     "metadata": {},
     "output_type": "execute_result"
    }
   ],
   "source": [
    "df[['Duration','Duration_years']].head(15)"
   ]
  },
  {
   "cell_type": "code",
   "execution_count": 35,
   "metadata": {
    "id": "ODMmB5hz7DTS",
    "outputId": "ae03414e-b818-4ba1-f790-581c50690923",
    "scrolled": true
   },
   "outputs": [
    {
     "data": {
      "text/plain": [
       "English            1198\n",
       "Russian              56\n",
       "Spanish              31\n",
       "Japanese             30\n",
       "Chinese              21\n",
       "                   ... \n",
       "English, Polish       1\n",
       "Catalan               1\n",
       "English, Hebrew       1\n",
       "Croatian              1\n",
       "Dutch, English        1\n",
       "Name: Language, Length: 79, dtype: int64"
      ]
     },
     "execution_count": 35,
     "metadata": {},
     "output_type": "execute_result"
    }
   ],
   "source": [
    "df['Language'].value_counts()"
   ]
  },
  {
   "cell_type": "code",
   "execution_count": 36,
   "metadata": {
    "id": "5fNegqfg7DTU",
    "outputId": "7799bcd3-e1bf-43e7-9131-8fc2fdd03c8d"
   },
   "outputs": [
    {
     "data": {
      "text/plain": [
       "0      80\n",
       "1    1516\n",
       "2    1643\n",
       "3    1658\n",
       "dtype: int64"
      ]
     },
     "execution_count": 36,
     "metadata": {},
     "output_type": "execute_result"
    }
   ],
   "source": [
    "langs = df['Language'].str.split(expand=True)\n",
    "langs.isna().sum()"
   ]
  },
  {
   "cell_type": "code",
   "execution_count": 37,
   "metadata": {},
   "outputs": [],
   "source": [
    "InEnglish = []\n",
    "for i in range(0,len(langs)):\n",
    "    try:\n",
    "        if langs[0][i].strip(',') == 'English' or langs[1][i].strip(',') == 'English' or langs[2][i].strip(',') == 'English' or langs[3][i].strip(',') == 'English':\n",
    "            InEnglish.append(True)\n",
    "        else:\n",
    "            InEnglish.append(False)\n",
    "    except:\n",
    "            InEnglish.append(False)"
   ]
  },
  {
   "cell_type": "code",
   "execution_count": 38,
   "metadata": {},
   "outputs": [],
   "source": [
    "df['InEnglish'] = InEnglish"
   ]
  },
  {
   "cell_type": "code",
   "execution_count": 39,
   "metadata": {},
   "outputs": [
    {
     "data": {
      "text/plain": [
       "True     1286\n",
       "False     376\n",
       "Name: InEnglish, dtype: int64"
      ]
     },
     "execution_count": 39,
     "metadata": {},
     "output_type": "execute_result"
    }
   ],
   "source": [
    "df['InEnglish'].value_counts()"
   ]
  },
  {
   "cell_type": "code",
   "execution_count": 40,
   "metadata": {
    "id": "Q5qexZuK7DTV",
    "outputId": "71728586-803f-4e30-8b40-416951d48784"
   },
   "outputs": [
    {
     "data": {
      "text/plain": [
       "1662"
      ]
     },
     "execution_count": 40,
     "metadata": {},
     "output_type": "execute_result"
    }
   ],
   "source": [
    "lang_prim = []\n",
    "for l in df['Language'].str.split(expand=True)[0]:\n",
    "    try:\n",
    "        lang_prim.append(l.strip(','))\n",
    "    except:\n",
    "        lang_prim.append(l)\n",
    "        \n",
    "len(lang_prim)"
   ]
  },
  {
   "cell_type": "code",
   "execution_count": 41,
   "metadata": {
    "id": "iccpraSn7DTW",
    "outputId": "36a16ed1-729e-4a6b-e7cb-4fd21d64d378"
   },
   "outputs": [
    {
     "data": {
      "text/plain": [
       "English         1266\n",
       "Spanish           65\n",
       "Russian           64\n",
       "Japanese          30\n",
       "Portuguese        27\n",
       "Chinese           23\n",
       "Polish            19\n",
       "German            13\n",
       "French            11\n",
       "Kazakh             8\n",
       "Bulgarian          6\n",
       "Turkish            6\n",
       "Rumenian           6\n",
       "Czech              4\n",
       "Greek              3\n",
       "Dutch              3\n",
       "Serbian            3\n",
       "Hebrew             3\n",
       "Thai               2\n",
       "Danish             2\n",
       "Vietnamesian       2\n",
       "Georgian           2\n",
       "Catalan            2\n",
       "Albanian           2\n",
       "Bosnian            2\n",
       "Ukrainian          2\n",
       "Finnish            1\n",
       "Croatian           1\n",
       "Korean             1\n",
       "Estonian           1\n",
       "Indonesian         1\n",
       "Italian            1\n",
       "Name: Lang_primary, dtype: int64"
      ]
     },
     "execution_count": 41,
     "metadata": {},
     "output_type": "execute_result"
    }
   ],
   "source": [
    "df['Lang_primary'] = lang_prim\n",
    "df['Lang_primary'].value_counts()"
   ]
  },
  {
   "cell_type": "code",
   "execution_count": 42,
   "metadata": {},
   "outputs": [],
   "source": [
    "lang_vals = df['Lang_primary'].value_counts()\n",
    "for i in lang_vals.index:\n",
    "    if lang_vals[i] < 10:\n",
    "        df['Lang_primary'].replace(i, 'Other', inplace = True)"
   ]
  },
  {
   "cell_type": "code",
   "execution_count": 43,
   "metadata": {},
   "outputs": [
    {
     "data": {
      "text/plain": [
       "English       1266\n",
       "Spanish         65\n",
       "Other           64\n",
       "Russian         64\n",
       "Japanese        30\n",
       "Portuguese      27\n",
       "Chinese         23\n",
       "Polish          19\n",
       "German          13\n",
       "French          11\n",
       "Name: Lang_primary, dtype: int64"
      ]
     },
     "execution_count": 43,
     "metadata": {},
     "output_type": "execute_result"
    }
   ],
   "source": [
    "df['Lang_primary'].value_counts()"
   ]
  },
  {
   "cell_type": "code",
   "execution_count": 44,
   "metadata": {
    "id": "PhcieqUq7DTX",
    "outputId": "f29b98c3-6738-4c54-8e1a-8ada1862700b"
   },
   "outputs": [
    {
     "data": {
      "text/plain": [
       "Campus                      1396\n",
       "Online                       106\n",
       "Online & Campus Combined      50\n",
       "Name: Mode, dtype: int64"
      ]
     },
     "execution_count": 44,
     "metadata": {},
     "output_type": "execute_result"
    }
   ],
   "source": [
    "df['Mode'].value_counts()"
   ]
  },
  {
   "cell_type": "code",
   "execution_count": 45,
   "metadata": {
    "id": "uMt_L_1e7DTY",
    "outputId": "876198f3-9a91-4ecb-e429-d4d25992daab"
   },
   "outputs": [
    {
     "data": {
      "text/html": [
       "<div>\n",
       "<style scoped>\n",
       "    .dataframe tbody tr th:only-of-type {\n",
       "        vertical-align: middle;\n",
       "    }\n",
       "\n",
       "    .dataframe tbody tr th {\n",
       "        vertical-align: top;\n",
       "    }\n",
       "\n",
       "    .dataframe thead th {\n",
       "        text-align: right;\n",
       "    }\n",
       "</style>\n",
       "<table border=\"1\" class=\"dataframe\">\n",
       "  <thead>\n",
       "    <tr style=\"text-align: right;\">\n",
       "      <th></th>\n",
       "      <th>Location</th>\n",
       "      <th>School</th>\n",
       "      <th>Course</th>\n",
       "      <th>Degree_type</th>\n",
       "      <th>Pace</th>\n",
       "      <th>Duration</th>\n",
       "      <th>Language</th>\n",
       "      <th>Mode</th>\n",
       "      <th>Description</th>\n",
       "      <th>Link</th>\n",
       "      <th>Country</th>\n",
       "      <th>City</th>\n",
       "      <th>Continent</th>\n",
       "      <th>Duration_years</th>\n",
       "      <th>InEnglish</th>\n",
       "      <th>Lang_primary</th>\n",
       "    </tr>\n",
       "  </thead>\n",
       "  <tbody>\n",
       "    <tr>\n",
       "      <th>0</th>\n",
       "      <td>Barcelona, Spain +1 More</td>\n",
       "      <td>Harbour.Space University</td>\n",
       "      <td>Bachelor of Computer Science</td>\n",
       "      <td>Bachelor</td>\n",
       "      <td>Full-time</td>\n",
       "      <td>3 years</td>\n",
       "      <td>English</td>\n",
       "      <td>Campus</td>\n",
       "      <td>Harbour.Space Computer Science Bachelor progra...</td>\n",
       "      <td>https://www.bachelorstudies.com/Bachelor-of-Co...</td>\n",
       "      <td>Spain</td>\n",
       "      <td>Barcelona</td>\n",
       "      <td>EU</td>\n",
       "      <td>3</td>\n",
       "      <td>True</td>\n",
       "      <td>English</td>\n",
       "    </tr>\n",
       "    <tr>\n",
       "      <th>1</th>\n",
       "      <td>Marbella, Spain</td>\n",
       "      <td>Schellhammer Business School</td>\n",
       "      <td>Bachelor in IT and Computing (Online)</td>\n",
       "      <td>Bachelor</td>\n",
       "      <td>Full-time</td>\n",
       "      <td>3 years</td>\n",
       "      <td>English</td>\n",
       "      <td>Online</td>\n",
       "      <td>This IT and Computing Undergraduate degree off...</td>\n",
       "      <td>https://www.onlinestudies.com/Bachelor-in-IT-a...</td>\n",
       "      <td>Spain</td>\n",
       "      <td>Marbella</td>\n",
       "      <td>EU</td>\n",
       "      <td>3</td>\n",
       "      <td>True</td>\n",
       "      <td>English</td>\n",
       "    </tr>\n",
       "    <tr>\n",
       "      <th>2</th>\n",
       "      <td>Berlin, Germany</td>\n",
       "      <td>IU International University of Applied Science...</td>\n",
       "      <td>B.Sc. Software Development</td>\n",
       "      <td>BSc</td>\n",
       "      <td>Full-time</td>\n",
       "      <td>36 months</td>\n",
       "      <td>English</td>\n",
       "      <td>Online</td>\n",
       "      <td>Learn the skills needed to be a successful sof...</td>\n",
       "      <td>https://www.onlinestudies.com/B.Sc.-Software-D...</td>\n",
       "      <td>Germany</td>\n",
       "      <td>Berlin</td>\n",
       "      <td>EU</td>\n",
       "      <td>3</td>\n",
       "      <td>True</td>\n",
       "      <td>English</td>\n",
       "    </tr>\n",
       "    <tr>\n",
       "      <th>3</th>\n",
       "      <td>Bad Honnef, Germany +1 More</td>\n",
       "      <td>IU International University of Applied Science...</td>\n",
       "      <td>B.Eng. Industrial Engineering and Management</td>\n",
       "      <td>Bachelor</td>\n",
       "      <td>Full-time</td>\n",
       "      <td>36 months</td>\n",
       "      <td>English</td>\n",
       "      <td>Online &amp; Campus Combined</td>\n",
       "      <td>Looking for a study programme that trains you ...</td>\n",
       "      <td>https://www.bachelorstudies.com//B.Eng.-Indust...</td>\n",
       "      <td>Germany</td>\n",
       "      <td>Bad Honnef</td>\n",
       "      <td>EU</td>\n",
       "      <td>3</td>\n",
       "      <td>True</td>\n",
       "      <td>English</td>\n",
       "    </tr>\n",
       "    <tr>\n",
       "      <th>4</th>\n",
       "      <td>Emmen, Netherlands</td>\n",
       "      <td>NHL Stenden University of Applied Sciences</td>\n",
       "      <td>Bachelor in Information Technology (IT)</td>\n",
       "      <td>Bachelor</td>\n",
       "      <td>Full-time</td>\n",
       "      <td>4 years</td>\n",
       "      <td>English</td>\n",
       "      <td>Campus</td>\n",
       "      <td>Work in a challenging and exciting field, whil...</td>\n",
       "      <td>https://www.bachelorstudies.com/Bachelor-in-In...</td>\n",
       "      <td>Netherlands</td>\n",
       "      <td>Emmen</td>\n",
       "      <td>EU</td>\n",
       "      <td>4</td>\n",
       "      <td>True</td>\n",
       "      <td>English</td>\n",
       "    </tr>\n",
       "  </tbody>\n",
       "</table>\n",
       "</div>"
      ],
      "text/plain": [
       "                      Location  \\\n",
       "0     Barcelona, Spain +1 More   \n",
       "1              Marbella, Spain   \n",
       "2              Berlin, Germany   \n",
       "3  Bad Honnef, Germany +1 More   \n",
       "4           Emmen, Netherlands   \n",
       "\n",
       "                                              School  \\\n",
       "0                           Harbour.Space University   \n",
       "1                       Schellhammer Business School   \n",
       "2  IU International University of Applied Science...   \n",
       "3  IU International University of Applied Science...   \n",
       "4         NHL Stenden University of Applied Sciences   \n",
       "\n",
       "                                         Course Degree_type       Pace  \\\n",
       "0                  Bachelor of Computer Science    Bachelor  Full-time   \n",
       "1         Bachelor in IT and Computing (Online)    Bachelor  Full-time   \n",
       "2                    B.Sc. Software Development         BSc  Full-time   \n",
       "3  B.Eng. Industrial Engineering and Management    Bachelor  Full-time   \n",
       "4       Bachelor in Information Technology (IT)    Bachelor  Full-time   \n",
       "\n",
       "    Duration Language                      Mode  \\\n",
       "0    3 years  English                    Campus   \n",
       "1    3 years  English                    Online   \n",
       "2  36 months  English                    Online   \n",
       "3  36 months  English  Online & Campus Combined   \n",
       "4    4 years  English                    Campus   \n",
       "\n",
       "                                         Description  \\\n",
       "0  Harbour.Space Computer Science Bachelor progra...   \n",
       "1  This IT and Computing Undergraduate degree off...   \n",
       "2  Learn the skills needed to be a successful sof...   \n",
       "3  Looking for a study programme that trains you ...   \n",
       "4  Work in a challenging and exciting field, whil...   \n",
       "\n",
       "                                                Link      Country        City  \\\n",
       "0  https://www.bachelorstudies.com/Bachelor-of-Co...        Spain   Barcelona   \n",
       "1  https://www.onlinestudies.com/Bachelor-in-IT-a...        Spain    Marbella   \n",
       "2  https://www.onlinestudies.com/B.Sc.-Software-D...      Germany      Berlin   \n",
       "3  https://www.bachelorstudies.com//B.Eng.-Indust...      Germany  Bad Honnef   \n",
       "4  https://www.bachelorstudies.com/Bachelor-in-In...  Netherlands       Emmen   \n",
       "\n",
       "  Continent Duration_years  InEnglish Lang_primary  \n",
       "0        EU              3       True      English  \n",
       "1        EU              3       True      English  \n",
       "2        EU              3       True      English  \n",
       "3        EU              3       True      English  \n",
       "4        EU              4       True      English  "
      ]
     },
     "execution_count": 45,
     "metadata": {},
     "output_type": "execute_result"
    }
   ],
   "source": [
    "df.head()"
   ]
  },
  {
   "cell_type": "code",
   "execution_count": 52,
   "metadata": {
    "id": "_Ev6dRXA7DTa",
    "outputId": "879c3488-db5c-4d1b-9caa-dedd7c889ce1"
   },
   "outputs": [
    {
     "data": {
      "text/plain": [
       "Location          0.009025\n",
       "School            0.000000\n",
       "Course            0.000000\n",
       "Degree_type       0.000000\n",
       "Pace              0.309266\n",
       "Duration          0.400120\n",
       "Language          0.048135\n",
       "Mode              0.066185\n",
       "Description       0.000000\n",
       "Link              0.007220\n",
       "Country           0.015644\n",
       "City              0.009025\n",
       "Continent         0.018652\n",
       "Duration_years    0.008424\n",
       "InEnglish         0.000000\n",
       "Lang_primary      0.048135\n",
       "dtype: float64"
      ]
     },
     "execution_count": 52,
     "metadata": {},
     "output_type": "execute_result"
    }
   ],
   "source": [
    "df.isna().sum()/len(df)"
   ]
  },
  {
   "cell_type": "code",
   "execution_count": 51,
   "metadata": {},
   "outputs": [
    {
     "name": "stdout",
     "output_type": "stream",
     "text": [
      "<class 'pandas.core.frame.DataFrame'>\n",
      "Int64Index: 1662 entries, 0 to 1661\n",
      "Data columns (total 16 columns):\n",
      " #   Column          Non-Null Count  Dtype  \n",
      "---  ------          --------------  -----  \n",
      " 0   Location        1647 non-null   object \n",
      " 1   School          1662 non-null   object \n",
      " 2   Course          1662 non-null   object \n",
      " 3   Degree_type     1662 non-null   object \n",
      " 4   Pace            1148 non-null   object \n",
      " 5   Duration        997 non-null    object \n",
      " 6   Language        1582 non-null   object \n",
      " 7   Mode            1552 non-null   object \n",
      " 8   Description     1662 non-null   object \n",
      " 9   Link            1650 non-null   object \n",
      " 10  Country         1636 non-null   object \n",
      " 11  City            1647 non-null   object \n",
      " 12  Continent       1631 non-null   object \n",
      " 13  Duration_years  1648 non-null   float64\n",
      " 14  InEnglish       1662 non-null   bool   \n",
      " 15  Lang_primary    1582 non-null   object \n",
      "dtypes: bool(1), float64(1), object(14)\n",
      "memory usage: 289.4+ KB\n"
     ]
    }
   ],
   "source": [
    "df.info()"
   ]
  },
  {
   "cell_type": "code",
   "execution_count": 48,
   "metadata": {
    "id": "snm8lii_7DTa"
   },
   "outputs": [],
   "source": [
    "df['Duration_years'] = df['Duration_years'].astype(float)"
   ]
  },
  {
   "cell_type": "code",
   "execution_count": 49,
   "metadata": {
    "id": "i2GQsQO47DTb"
   },
   "outputs": [],
   "source": [
    "df['Duration_years'] = df['Duration_years'].fillna(df.groupby('Country')['Duration_years'].transform('mean'))"
   ]
  },
  {
   "cell_type": "code",
   "execution_count": 50,
   "metadata": {
    "id": "-rTHUZfx7DTc"
   },
   "outputs": [],
   "source": [
    "df['Duration_years'] = df['Duration_years'].fillna(df.groupby('Continent')['Duration_years'].transform('mean'))"
   ]
  },
  {
   "cell_type": "code",
   "execution_count": 53,
   "metadata": {
    "id": "BNJD4jfu7DTc"
   },
   "outputs": [],
   "source": [
    "df['Pace'].replace(np.nan, 'Unknown', inplace=True)\n",
    "df['Mode'].replace(np.nan, 'Unknown', inplace=True)"
   ]
  },
  {
   "cell_type": "code",
   "execution_count": 54,
   "metadata": {
    "id": "m46vAnoD7DTd"
   },
   "outputs": [],
   "source": [
    "df.dropna(subset=[\"Country\"], axis=0, inplace=True)\n",
    "df.dropna(subset=[\"Continent\"], axis=0, inplace=True)\n",
    "df.dropna(subset=[\"Lang_primary\"], axis=0, inplace=True)"
   ]
  },
  {
   "cell_type": "code",
   "execution_count": 55,
   "metadata": {},
   "outputs": [
    {
     "data": {
      "text/plain": [
       "Location            0\n",
       "School              0\n",
       "Course              0\n",
       "Degree_type         0\n",
       "Pace                0\n",
       "Duration          606\n",
       "Language            0\n",
       "Mode                0\n",
       "Description         0\n",
       "Link               12\n",
       "Country             0\n",
       "City                0\n",
       "Continent           0\n",
       "Duration_years      0\n",
       "InEnglish           0\n",
       "Lang_primary        0\n",
       "dtype: int64"
      ]
     },
     "execution_count": 55,
     "metadata": {},
     "output_type": "execute_result"
    }
   ],
   "source": [
    "df.isna().sum()"
   ]
  },
  {
   "cell_type": "code",
   "execution_count": 56,
   "metadata": {},
   "outputs": [
    {
     "data": {
      "text/plain": [
       "EU    552\n",
       "NA    526\n",
       "AS    375\n",
       "OC     46\n",
       "AF     31\n",
       "SA     30\n",
       "Name: Continent, dtype: int64"
      ]
     },
     "execution_count": 56,
     "metadata": {},
     "output_type": "execute_result"
    }
   ],
   "source": [
    "df['Continent'].value_counts()"
   ]
  },
  {
   "cell_type": "code",
   "execution_count": 57,
   "metadata": {},
   "outputs": [],
   "source": [
    "cmap = {'EU':'Europe','NA':'North America','AS':'Asia','OC':'Oceania','AF':'Africa','SA':'South America'}\n",
    "df['Continent'] = df['Continent'].map(cmap)"
   ]
  },
  {
   "cell_type": "code",
   "execution_count": 58,
   "metadata": {},
   "outputs": [
    {
     "data": {
      "text/plain": [
       "Europe           552\n",
       "North America    526\n",
       "Asia             375\n",
       "Oceania           46\n",
       "Africa            31\n",
       "South America     30\n",
       "Name: Continent, dtype: int64"
      ]
     },
     "execution_count": 58,
     "metadata": {},
     "output_type": "execute_result"
    }
   ],
   "source": [
    "df['Continent'].value_counts()"
   ]
  },
  {
   "cell_type": "code",
   "execution_count": 59,
   "metadata": {},
   "outputs": [],
   "source": [
    "df.to_csv('unis-tech-cleaned.csv')"
   ]
  },
  {
   "cell_type": "code",
   "execution_count": 62,
   "metadata": {},
   "outputs": [],
   "source": [
    "df1 = df[['Continent','Country','City', 'School', 'Course', 'Degree_type', 'Pace', 'Duration_years','Mode', 'InEnglish', 'Lang_primary']]"
   ]
  },
  {
   "cell_type": "code",
   "execution_count": 63,
   "metadata": {
    "id": "D23p0l9B7DTk",
    "outputId": "10a7f7dd-17d8-467f-f12c-027dbb240f78"
   },
   "outputs": [
    {
     "data": {
      "text/html": [
       "<div>\n",
       "<style scoped>\n",
       "    .dataframe tbody tr th:only-of-type {\n",
       "        vertical-align: middle;\n",
       "    }\n",
       "\n",
       "    .dataframe tbody tr th {\n",
       "        vertical-align: top;\n",
       "    }\n",
       "\n",
       "    .dataframe thead th {\n",
       "        text-align: right;\n",
       "    }\n",
       "</style>\n",
       "<table border=\"1\" class=\"dataframe\">\n",
       "  <thead>\n",
       "    <tr style=\"text-align: right;\">\n",
       "      <th></th>\n",
       "      <th>Continent</th>\n",
       "      <th>Country</th>\n",
       "      <th>City</th>\n",
       "      <th>School</th>\n",
       "      <th>Course</th>\n",
       "      <th>Degree_type</th>\n",
       "      <th>Pace</th>\n",
       "      <th>Duration_years</th>\n",
       "      <th>Mode</th>\n",
       "      <th>InEnglish</th>\n",
       "      <th>Lang_primary</th>\n",
       "    </tr>\n",
       "  </thead>\n",
       "  <tbody>\n",
       "    <tr>\n",
       "      <th>0</th>\n",
       "      <td>Europe</td>\n",
       "      <td>Spain</td>\n",
       "      <td>Barcelona</td>\n",
       "      <td>Harbour.Space University</td>\n",
       "      <td>Bachelor of Computer Science</td>\n",
       "      <td>Bachelor</td>\n",
       "      <td>Full-time</td>\n",
       "      <td>3.0</td>\n",
       "      <td>Campus</td>\n",
       "      <td>True</td>\n",
       "      <td>English</td>\n",
       "    </tr>\n",
       "    <tr>\n",
       "      <th>1</th>\n",
       "      <td>Europe</td>\n",
       "      <td>Spain</td>\n",
       "      <td>Marbella</td>\n",
       "      <td>Schellhammer Business School</td>\n",
       "      <td>Bachelor in IT and Computing (Online)</td>\n",
       "      <td>Bachelor</td>\n",
       "      <td>Full-time</td>\n",
       "      <td>3.0</td>\n",
       "      <td>Online</td>\n",
       "      <td>True</td>\n",
       "      <td>English</td>\n",
       "    </tr>\n",
       "    <tr>\n",
       "      <th>2</th>\n",
       "      <td>Europe</td>\n",
       "      <td>Germany</td>\n",
       "      <td>Berlin</td>\n",
       "      <td>IU International University of Applied Science...</td>\n",
       "      <td>B.Sc. Software Development</td>\n",
       "      <td>BSc</td>\n",
       "      <td>Full-time</td>\n",
       "      <td>3.0</td>\n",
       "      <td>Online</td>\n",
       "      <td>True</td>\n",
       "      <td>English</td>\n",
       "    </tr>\n",
       "  </tbody>\n",
       "</table>\n",
       "</div>"
      ],
      "text/plain": [
       "  Continent  Country       City  \\\n",
       "0    Europe    Spain  Barcelona   \n",
       "1    Europe    Spain   Marbella   \n",
       "2    Europe  Germany     Berlin   \n",
       "\n",
       "                                              School  \\\n",
       "0                           Harbour.Space University   \n",
       "1                       Schellhammer Business School   \n",
       "2  IU International University of Applied Science...   \n",
       "\n",
       "                                  Course Degree_type       Pace  \\\n",
       "0           Bachelor of Computer Science    Bachelor  Full-time   \n",
       "1  Bachelor in IT and Computing (Online)    Bachelor  Full-time   \n",
       "2             B.Sc. Software Development         BSc  Full-time   \n",
       "\n",
       "   Duration_years    Mode  InEnglish Lang_primary  \n",
       "0             3.0  Campus       True      English  \n",
       "1             3.0  Online       True      English  \n",
       "2             3.0  Online       True      English  "
      ]
     },
     "execution_count": 63,
     "metadata": {},
     "output_type": "execute_result"
    }
   ],
   "source": [
    "df1.head(3)"
   ]
  },
  {
   "cell_type": "code",
   "execution_count": null,
   "metadata": {
    "id": "PLrUz61O7DT-"
   },
   "outputs": [],
   "source": []
  },
  {
   "cell_type": "code",
   "execution_count": null,
   "metadata": {
    "id": "MwAtsdKe7DT-"
   },
   "outputs": [],
   "source": []
  },
  {
   "cell_type": "code",
   "execution_count": null,
   "metadata": {
    "id": "_yNz0GJu7DT-"
   },
   "outputs": [],
   "source": []
  }
 ],
 "metadata": {
  "colab": {
   "name": "unis overview eda.ipynb",
   "provenance": []
  },
  "kernelspec": {
   "display_name": "Python 3",
   "language": "python",
   "name": "python3"
  },
  "language_info": {
   "codemirror_mode": {
    "name": "ipython",
    "version": 3
   },
   "file_extension": ".py",
   "mimetype": "text/x-python",
   "name": "python",
   "nbconvert_exporter": "python",
   "pygments_lexer": "ipython3",
   "version": "3.8.5"
  }
 },
 "nbformat": 4,
 "nbformat_minor": 1
}
