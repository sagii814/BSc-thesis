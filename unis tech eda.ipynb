{
 "cells": [
  {
   "cell_type": "code",
   "execution_count": 1,
   "metadata": {},
   "outputs": [],
   "source": [
    "import pandas as pd\n",
    "import numpy as np\n",
    "import matplotlib.pyplot as plt"
   ]
  },
  {
   "cell_type": "code",
   "execution_count": 2,
   "metadata": {},
   "outputs": [],
   "source": [
    "df_full = pd.read_csv('unis-tech-cleaned.csv', index_col=0)\n",
    "df = df_full[['Continent','Country','City', 'School', 'Course', 'Degree_type', 'Pace', 'Duration_years','Mode', 'InEnglish', 'Lang_primary']]"
   ]
  },
  {
   "cell_type": "code",
   "execution_count": 3,
   "metadata": {},
   "outputs": [
    {
     "data": {
      "text/html": [
       "<div>\n",
       "<style scoped>\n",
       "    .dataframe tbody tr th:only-of-type {\n",
       "        vertical-align: middle;\n",
       "    }\n",
       "\n",
       "    .dataframe tbody tr th {\n",
       "        vertical-align: top;\n",
       "    }\n",
       "\n",
       "    .dataframe thead th {\n",
       "        text-align: right;\n",
       "    }\n",
       "</style>\n",
       "<table border=\"1\" class=\"dataframe\">\n",
       "  <thead>\n",
       "    <tr style=\"text-align: right;\">\n",
       "      <th></th>\n",
       "      <th>Continent</th>\n",
       "      <th>Country</th>\n",
       "      <th>City</th>\n",
       "      <th>School</th>\n",
       "      <th>Course</th>\n",
       "      <th>Degree_type</th>\n",
       "      <th>Pace</th>\n",
       "      <th>Duration_years</th>\n",
       "      <th>Mode</th>\n",
       "      <th>InEnglish</th>\n",
       "      <th>Lang_primary</th>\n",
       "    </tr>\n",
       "  </thead>\n",
       "  <tbody>\n",
       "    <tr>\n",
       "      <th>0</th>\n",
       "      <td>Europe</td>\n",
       "      <td>Spain</td>\n",
       "      <td>Barcelona</td>\n",
       "      <td>Harbour.Space University</td>\n",
       "      <td>Bachelor of Computer Science</td>\n",
       "      <td>Bachelor</td>\n",
       "      <td>Full-time</td>\n",
       "      <td>3.0</td>\n",
       "      <td>Campus</td>\n",
       "      <td>True</td>\n",
       "      <td>English</td>\n",
       "    </tr>\n",
       "    <tr>\n",
       "      <th>1</th>\n",
       "      <td>Europe</td>\n",
       "      <td>Spain</td>\n",
       "      <td>Marbella</td>\n",
       "      <td>Schellhammer Business School</td>\n",
       "      <td>Bachelor in IT and Computing (Online)</td>\n",
       "      <td>Bachelor</td>\n",
       "      <td>Full-time</td>\n",
       "      <td>3.0</td>\n",
       "      <td>Online</td>\n",
       "      <td>True</td>\n",
       "      <td>English</td>\n",
       "    </tr>\n",
       "    <tr>\n",
       "      <th>2</th>\n",
       "      <td>Europe</td>\n",
       "      <td>Germany</td>\n",
       "      <td>Berlin</td>\n",
       "      <td>IU International University of Applied Science...</td>\n",
       "      <td>B.Sc. Software Development</td>\n",
       "      <td>BSc</td>\n",
       "      <td>Full-time</td>\n",
       "      <td>3.0</td>\n",
       "      <td>Online</td>\n",
       "      <td>True</td>\n",
       "      <td>English</td>\n",
       "    </tr>\n",
       "    <tr>\n",
       "      <th>3</th>\n",
       "      <td>Europe</td>\n",
       "      <td>Germany</td>\n",
       "      <td>Bad Honnef</td>\n",
       "      <td>IU International University of Applied Science...</td>\n",
       "      <td>B.Eng. Industrial Engineering and Management</td>\n",
       "      <td>Bachelor</td>\n",
       "      <td>Full-time</td>\n",
       "      <td>3.0</td>\n",
       "      <td>Online &amp; Campus Combined</td>\n",
       "      <td>True</td>\n",
       "      <td>English</td>\n",
       "    </tr>\n",
       "    <tr>\n",
       "      <th>4</th>\n",
       "      <td>Europe</td>\n",
       "      <td>Netherlands</td>\n",
       "      <td>Emmen</td>\n",
       "      <td>NHL Stenden University of Applied Sciences</td>\n",
       "      <td>Bachelor in Information Technology (IT)</td>\n",
       "      <td>Bachelor</td>\n",
       "      <td>Full-time</td>\n",
       "      <td>4.0</td>\n",
       "      <td>Campus</td>\n",
       "      <td>True</td>\n",
       "      <td>English</td>\n",
       "    </tr>\n",
       "  </tbody>\n",
       "</table>\n",
       "</div>"
      ],
      "text/plain": [
       "  Continent      Country        City  \\\n",
       "0    Europe        Spain   Barcelona   \n",
       "1    Europe        Spain    Marbella   \n",
       "2    Europe      Germany      Berlin   \n",
       "3    Europe      Germany  Bad Honnef   \n",
       "4    Europe  Netherlands       Emmen   \n",
       "\n",
       "                                              School  \\\n",
       "0                           Harbour.Space University   \n",
       "1                       Schellhammer Business School   \n",
       "2  IU International University of Applied Science...   \n",
       "3  IU International University of Applied Science...   \n",
       "4         NHL Stenden University of Applied Sciences   \n",
       "\n",
       "                                         Course Degree_type       Pace  \\\n",
       "0                  Bachelor of Computer Science    Bachelor  Full-time   \n",
       "1         Bachelor in IT and Computing (Online)    Bachelor  Full-time   \n",
       "2                    B.Sc. Software Development         BSc  Full-time   \n",
       "3  B.Eng. Industrial Engineering and Management    Bachelor  Full-time   \n",
       "4       Bachelor in Information Technology (IT)    Bachelor  Full-time   \n",
       "\n",
       "   Duration_years                      Mode  InEnglish Lang_primary  \n",
       "0             3.0                    Campus       True      English  \n",
       "1             3.0                    Online       True      English  \n",
       "2             3.0                    Online       True      English  \n",
       "3             3.0  Online & Campus Combined       True      English  \n",
       "4             4.0                    Campus       True      English  "
      ]
     },
     "execution_count": 3,
     "metadata": {},
     "output_type": "execute_result"
    }
   ],
   "source": [
    "df.head()"
   ]
  },
  {
   "cell_type": "code",
   "execution_count": 4,
   "metadata": {},
   "outputs": [
    {
     "name": "stdout",
     "output_type": "stream",
     "text": [
      "<class 'pandas.core.frame.DataFrame'>\n",
      "Int64Index: 1560 entries, 0 to 1661\n",
      "Data columns (total 11 columns):\n",
      " #   Column          Non-Null Count  Dtype  \n",
      "---  ------          --------------  -----  \n",
      " 0   Continent       1560 non-null   object \n",
      " 1   Country         1560 non-null   object \n",
      " 2   City            1560 non-null   object \n",
      " 3   School          1560 non-null   object \n",
      " 4   Course          1560 non-null   object \n",
      " 5   Degree_type     1560 non-null   object \n",
      " 6   Pace            1560 non-null   object \n",
      " 7   Duration_years  1560 non-null   float64\n",
      " 8   Mode            1560 non-null   object \n",
      " 9   InEnglish       1560 non-null   bool   \n",
      " 10  Lang_primary    1560 non-null   object \n",
      "dtypes: bool(1), float64(1), object(9)\n",
      "memory usage: 135.6+ KB\n"
     ]
    }
   ],
   "source": [
    "df.info()"
   ]
  },
  {
   "cell_type": "code",
   "execution_count": 5,
   "metadata": {},
   "outputs": [
    {
     "data": {
      "text/plain": [
       "Continent         0.0\n",
       "Country           0.0\n",
       "City              0.0\n",
       "School            0.0\n",
       "Course            0.0\n",
       "Degree_type       0.0\n",
       "Pace              0.0\n",
       "Duration_years    0.0\n",
       "Mode              0.0\n",
       "InEnglish         0.0\n",
       "Lang_primary      0.0\n",
       "dtype: float64"
      ]
     },
     "execution_count": 5,
     "metadata": {},
     "output_type": "execute_result"
    }
   ],
   "source": [
    "df.isna().sum()/len(df)"
   ]
  },
  {
   "cell_type": "code",
   "execution_count": 6,
   "metadata": {},
   "outputs": [
    {
     "data": {
      "text/plain": [
       "Europe           552\n",
       "North America    526\n",
       "Asia             375\n",
       "Oceania           46\n",
       "Africa            31\n",
       "South America     30\n",
       "Name: Continent, dtype: int64"
      ]
     },
     "execution_count": 6,
     "metadata": {},
     "output_type": "execute_result"
    }
   ],
   "source": [
    "df['Continent'].value_counts()"
   ]
  },
  {
   "cell_type": "code",
   "execution_count": 149,
   "metadata": {},
   "outputs": [],
   "source": [
    "from pylab import *"
   ]
  },
  {
   "cell_type": "code",
   "execution_count": 162,
   "metadata": {},
   "outputs": [
    {
     "data": {
      "image/png": "[encoded data removed]",
      "text/plain": [
       "<Figure size 432x288 with 1 Axes>"
      ]
     },
     "metadata": {},
     "output_type": "display_data"
    }
   ],
   "source": [
    "cmap = cm.get_cmap('Pastel2', 6)\n",
    "\n",
    "colors = []\n",
    "for i in range(cmap.N):\n",
    "    #if i%2 == 0:\n",
    "        rgba = cmap(i)\n",
    "        # rgb2hex accepts rgb or rgba\n",
    "        colors.append(matplotlib.colors.rgb2hex(rgba))\n",
    "        \n",
    "#colors.reverse()\n",
    "\n",
    "sizes = df['Pace'].value_counts()\n",
    "labels = df['Pace'].value_counts().index\n",
    "\n",
    "legend = []\n",
    "for i in range(0,3):\n",
    "    legend.append(f'{labels[i]} - {sizes[i]}')\n",
    "\n",
    "fig1, ax1 = plt.subplots()\n",
    "ax1.pie(sizes, autopct='%.0f%%', colors = colors, shadow=True, startangle=90, pctdistance=1.15)\n",
    "\n",
    "patches, texts = plt.pie(sizes, colors=colors, shadow=True, startangle=90)\n",
    "plt.legend(patches, legend, loc='lower right')\n",
    "\n",
    "ax1.axis('equal')  \n",
    "plt.tight_layout()\n",
    "\n",
    "plt.show()"
   ]
  },
  {
   "cell_type": "code",
   "execution_count": 110,
   "metadata": {
    "scrolled": false
   },
   "outputs": [
    {
     "data": {
      "text/html": [
       "<div>\n",
       "<style scoped>\n",
       "    .dataframe tbody tr th:only-of-type {\n",
       "        vertical-align: middle;\n",
       "    }\n",
       "\n",
       "    .dataframe tbody tr th {\n",
       "        vertical-align: top;\n",
       "    }\n",
       "\n",
       "    .dataframe thead th {\n",
       "        text-align: right;\n",
       "    }\n",
       "</style>\n",
       "<table border=\"1\" class=\"dataframe\">\n",
       "  <thead>\n",
       "    <tr style=\"text-align: right;\">\n",
       "      <th></th>\n",
       "      <th>Continent</th>\n",
       "      <th>Country</th>\n",
       "      <th>City</th>\n",
       "      <th>School</th>\n",
       "      <th>Course</th>\n",
       "      <th>Degree_type</th>\n",
       "      <th>Pace</th>\n",
       "      <th>Duration_years</th>\n",
       "      <th>Mode</th>\n",
       "      <th>InEnglish</th>\n",
       "      <th>Lang_primary</th>\n",
       "    </tr>\n",
       "  </thead>\n",
       "  <tbody>\n",
       "    <tr>\n",
       "      <th>count</th>\n",
       "      <td>1560</td>\n",
       "      <td>1560</td>\n",
       "      <td>1560</td>\n",
       "      <td>1560</td>\n",
       "      <td>1560</td>\n",
       "      <td>1560</td>\n",
       "      <td>1560</td>\n",
       "      <td>1560.000000</td>\n",
       "      <td>1560</td>\n",
       "      <td>1560</td>\n",
       "      <td>1560</td>\n",
       "    </tr>\n",
       "    <tr>\n",
       "      <th>unique</th>\n",
       "      <td>6</td>\n",
       "      <td>89</td>\n",
       "      <td>760</td>\n",
       "      <td>995</td>\n",
       "      <td>1151</td>\n",
       "      <td>4</td>\n",
       "      <td>3</td>\n",
       "      <td>NaN</td>\n",
       "      <td>4</td>\n",
       "      <td>2</td>\n",
       "      <td>10</td>\n",
       "    </tr>\n",
       "    <tr>\n",
       "      <th>top</th>\n",
       "      <td>Europe</td>\n",
       "      <td>USA</td>\n",
       "      <td>Kuala Lumpur</td>\n",
       "      <td>Asia Pacific University of Technology &amp; Innova...</td>\n",
       "      <td>Bachelor in Computer Science</td>\n",
       "      <td>Bachelor</td>\n",
       "      <td>Full-time</td>\n",
       "      <td>NaN</td>\n",
       "      <td>Campus</td>\n",
       "      <td>True</td>\n",
       "      <td>English</td>\n",
       "    </tr>\n",
       "    <tr>\n",
       "      <th>freq</th>\n",
       "      <td>552</td>\n",
       "      <td>460</td>\n",
       "      <td>27</td>\n",
       "      <td>19</td>\n",
       "      <td>41</td>\n",
       "      <td>767</td>\n",
       "      <td>1051</td>\n",
       "      <td>NaN</td>\n",
       "      <td>1303</td>\n",
       "      <td>1268</td>\n",
       "      <td>1248</td>\n",
       "    </tr>\n",
       "    <tr>\n",
       "      <th>mean</th>\n",
       "      <td>NaN</td>\n",
       "      <td>NaN</td>\n",
       "      <td>NaN</td>\n",
       "      <td>NaN</td>\n",
       "      <td>NaN</td>\n",
       "      <td>NaN</td>\n",
       "      <td>NaN</td>\n",
       "      <td>3.749150</td>\n",
       "      <td>NaN</td>\n",
       "      <td>NaN</td>\n",
       "      <td>NaN</td>\n",
       "    </tr>\n",
       "    <tr>\n",
       "      <th>std</th>\n",
       "      <td>NaN</td>\n",
       "      <td>NaN</td>\n",
       "      <td>NaN</td>\n",
       "      <td>NaN</td>\n",
       "      <td>NaN</td>\n",
       "      <td>NaN</td>\n",
       "      <td>NaN</td>\n",
       "      <td>0.576479</td>\n",
       "      <td>NaN</td>\n",
       "      <td>NaN</td>\n",
       "      <td>NaN</td>\n",
       "    </tr>\n",
       "    <tr>\n",
       "      <th>min</th>\n",
       "      <td>NaN</td>\n",
       "      <td>NaN</td>\n",
       "      <td>NaN</td>\n",
       "      <td>NaN</td>\n",
       "      <td>NaN</td>\n",
       "      <td>NaN</td>\n",
       "      <td>NaN</td>\n",
       "      <td>0.583333</td>\n",
       "      <td>NaN</td>\n",
       "      <td>NaN</td>\n",
       "      <td>NaN</td>\n",
       "    </tr>\n",
       "    <tr>\n",
       "      <th>25%</th>\n",
       "      <td>NaN</td>\n",
       "      <td>NaN</td>\n",
       "      <td>NaN</td>\n",
       "      <td>NaN</td>\n",
       "      <td>NaN</td>\n",
       "      <td>NaN</td>\n",
       "      <td>NaN</td>\n",
       "      <td>3.500000</td>\n",
       "      <td>NaN</td>\n",
       "      <td>NaN</td>\n",
       "      <td>NaN</td>\n",
       "    </tr>\n",
       "    <tr>\n",
       "      <th>50%</th>\n",
       "      <td>NaN</td>\n",
       "      <td>NaN</td>\n",
       "      <td>NaN</td>\n",
       "      <td>NaN</td>\n",
       "      <td>NaN</td>\n",
       "      <td>NaN</td>\n",
       "      <td>NaN</td>\n",
       "      <td>3.929167</td>\n",
       "      <td>NaN</td>\n",
       "      <td>NaN</td>\n",
       "      <td>NaN</td>\n",
       "    </tr>\n",
       "    <tr>\n",
       "      <th>75%</th>\n",
       "      <td>NaN</td>\n",
       "      <td>NaN</td>\n",
       "      <td>NaN</td>\n",
       "      <td>NaN</td>\n",
       "      <td>NaN</td>\n",
       "      <td>NaN</td>\n",
       "      <td>NaN</td>\n",
       "      <td>4.000000</td>\n",
       "      <td>NaN</td>\n",
       "      <td>NaN</td>\n",
       "      <td>NaN</td>\n",
       "    </tr>\n",
       "    <tr>\n",
       "      <th>max</th>\n",
       "      <td>NaN</td>\n",
       "      <td>NaN</td>\n",
       "      <td>NaN</td>\n",
       "      <td>NaN</td>\n",
       "      <td>NaN</td>\n",
       "      <td>NaN</td>\n",
       "      <td>NaN</td>\n",
       "      <td>11.000000</td>\n",
       "      <td>NaN</td>\n",
       "      <td>NaN</td>\n",
       "      <td>NaN</td>\n",
       "    </tr>\n",
       "  </tbody>\n",
       "</table>\n",
       "</div>"
      ],
      "text/plain": [
       "       Continent Country          City  \\\n",
       "count       1560    1560          1560   \n",
       "unique         6      89           760   \n",
       "top       Europe     USA  Kuala Lumpur   \n",
       "freq         552     460            27   \n",
       "mean         NaN     NaN           NaN   \n",
       "std          NaN     NaN           NaN   \n",
       "min          NaN     NaN           NaN   \n",
       "25%          NaN     NaN           NaN   \n",
       "50%          NaN     NaN           NaN   \n",
       "75%          NaN     NaN           NaN   \n",
       "max          NaN     NaN           NaN   \n",
       "\n",
       "                                                   School  \\\n",
       "count                                                1560   \n",
       "unique                                                995   \n",
       "top     Asia Pacific University of Technology & Innova...   \n",
       "freq                                                   19   \n",
       "mean                                                  NaN   \n",
       "std                                                   NaN   \n",
       "min                                                   NaN   \n",
       "25%                                                   NaN   \n",
       "50%                                                   NaN   \n",
       "75%                                                   NaN   \n",
       "max                                                   NaN   \n",
       "\n",
       "                              Course Degree_type       Pace  Duration_years  \\\n",
       "count                           1560        1560       1560     1560.000000   \n",
       "unique                          1151           4          3             NaN   \n",
       "top     Bachelor in Computer Science    Bachelor  Full-time             NaN   \n",
       "freq                              41         767       1051             NaN   \n",
       "mean                             NaN         NaN        NaN        3.749150   \n",
       "std                              NaN         NaN        NaN        0.576479   \n",
       "min                              NaN         NaN        NaN        0.583333   \n",
       "25%                              NaN         NaN        NaN        3.500000   \n",
       "50%                              NaN         NaN        NaN        3.929167   \n",
       "75%                              NaN         NaN        NaN        4.000000   \n",
       "max                              NaN         NaN        NaN       11.000000   \n",
       "\n",
       "          Mode InEnglish Lang_primary  \n",
       "count     1560      1560         1560  \n",
       "unique       4         2           10  \n",
       "top     Campus      True      English  \n",
       "freq      1303      1268         1248  \n",
       "mean       NaN       NaN          NaN  \n",
       "std        NaN       NaN          NaN  \n",
       "min        NaN       NaN          NaN  \n",
       "25%        NaN       NaN          NaN  \n",
       "50%        NaN       NaN          NaN  \n",
       "75%        NaN       NaN          NaN  \n",
       "max        NaN       NaN          NaN  "
      ]
     },
     "execution_count": 110,
     "metadata": {},
     "output_type": "execute_result"
    }
   ],
   "source": [
    "df.describe(include = 'all')"
   ]
  },
  {
   "cell_type": "code",
   "execution_count": 124,
   "metadata": {
    "scrolled": true
   },
   "outputs": [
    {
     "data": {
      "text/html": [
       "<div>\n",
       "<style scoped>\n",
       "    .dataframe tbody tr th:only-of-type {\n",
       "        vertical-align: middle;\n",
       "    }\n",
       "\n",
       "    .dataframe tbody tr th {\n",
       "        vertical-align: top;\n",
       "    }\n",
       "\n",
       "    .dataframe thead th {\n",
       "        text-align: right;\n",
       "    }\n",
       "</style>\n",
       "<table border=\"1\" class=\"dataframe\">\n",
       "  <thead>\n",
       "    <tr style=\"text-align: right;\">\n",
       "      <th></th>\n",
       "      <th>Continent</th>\n",
       "      <th>Country</th>\n",
       "      <th>City</th>\n",
       "      <th>School</th>\n",
       "      <th>Course</th>\n",
       "      <th>Degree_type</th>\n",
       "      <th>Pace</th>\n",
       "      <th>Duration_years</th>\n",
       "      <th>Mode</th>\n",
       "      <th>InEnglish</th>\n",
       "      <th>Lang_primary</th>\n",
       "    </tr>\n",
       "  </thead>\n",
       "  <tbody>\n",
       "    <tr>\n",
       "      <th>184</th>\n",
       "      <td>Asia</td>\n",
       "      <td>Malaysia</td>\n",
       "      <td>Kuala Lumpur</td>\n",
       "      <td>Asia Pacific University of Technology &amp; Innova...</td>\n",
       "      <td>Bachelor of Computer Science (Hons) (Intellige...</td>\n",
       "      <td>Bachelor</td>\n",
       "      <td>Full-time</td>\n",
       "      <td>3.0</td>\n",
       "      <td>Campus</td>\n",
       "      <td>True</td>\n",
       "      <td>English</td>\n",
       "    </tr>\n",
       "    <tr>\n",
       "      <th>185</th>\n",
       "      <td>Asia</td>\n",
       "      <td>Malaysia</td>\n",
       "      <td>Kuala Lumpur</td>\n",
       "      <td>Asia Pacific University of Technology &amp; Innova...</td>\n",
       "      <td>Bachelor of Engineering in Computer Engineerin...</td>\n",
       "      <td>Bachelor</td>\n",
       "      <td>Full-time</td>\n",
       "      <td>4.0</td>\n",
       "      <td>Campus</td>\n",
       "      <td>True</td>\n",
       "      <td>English</td>\n",
       "    </tr>\n",
       "    <tr>\n",
       "      <th>186</th>\n",
       "      <td>Asia</td>\n",
       "      <td>Malaysia</td>\n",
       "      <td>Kuala Lumpur</td>\n",
       "      <td>Asia Pacific University of Technology &amp; Innova...</td>\n",
       "      <td>Bachelor of Engineering in Electrical &amp; Electr...</td>\n",
       "      <td>Bachelor</td>\n",
       "      <td>Full-time</td>\n",
       "      <td>4.0</td>\n",
       "      <td>Campus</td>\n",
       "      <td>True</td>\n",
       "      <td>English</td>\n",
       "    </tr>\n",
       "    <tr>\n",
       "      <th>187</th>\n",
       "      <td>Asia</td>\n",
       "      <td>Malaysia</td>\n",
       "      <td>Kuala Lumpur</td>\n",
       "      <td>Asia Pacific University of Technology &amp; Innova...</td>\n",
       "      <td>BSc (Hons) in Computer Science</td>\n",
       "      <td>BSc</td>\n",
       "      <td>Full-time</td>\n",
       "      <td>3.0</td>\n",
       "      <td>Campus</td>\n",
       "      <td>True</td>\n",
       "      <td>English</td>\n",
       "    </tr>\n",
       "    <tr>\n",
       "      <th>188</th>\n",
       "      <td>Asia</td>\n",
       "      <td>Malaysia</td>\n",
       "      <td>Kuala Lumpur</td>\n",
       "      <td>Asia Pacific University of Technology &amp; Innova...</td>\n",
       "      <td>BSc (Hons) in Computer Science (Cyber Security)</td>\n",
       "      <td>BSc</td>\n",
       "      <td>Full-time</td>\n",
       "      <td>3.0</td>\n",
       "      <td>Campus</td>\n",
       "      <td>True</td>\n",
       "      <td>English</td>\n",
       "    </tr>\n",
       "    <tr>\n",
       "      <th>189</th>\n",
       "      <td>Asia</td>\n",
       "      <td>Malaysia</td>\n",
       "      <td>Kuala Lumpur</td>\n",
       "      <td>Asia Pacific University of Technology &amp; Innova...</td>\n",
       "      <td>BSc (Hons) in Computer Science - Data Analytic...</td>\n",
       "      <td>BSc</td>\n",
       "      <td>Full-time</td>\n",
       "      <td>3.0</td>\n",
       "      <td>Campus</td>\n",
       "      <td>True</td>\n",
       "      <td>English</td>\n",
       "    </tr>\n",
       "    <tr>\n",
       "      <th>190</th>\n",
       "      <td>Asia</td>\n",
       "      <td>Malaysia</td>\n",
       "      <td>Kuala Lumpur</td>\n",
       "      <td>Asia Pacific University of Technology &amp; Innova...</td>\n",
       "      <td>BSc (Hons) in Computer Science - Digital Foren...</td>\n",
       "      <td>BSc</td>\n",
       "      <td>Full-time</td>\n",
       "      <td>3.0</td>\n",
       "      <td>Campus</td>\n",
       "      <td>True</td>\n",
       "      <td>English</td>\n",
       "    </tr>\n",
       "    <tr>\n",
       "      <th>191</th>\n",
       "      <td>Asia</td>\n",
       "      <td>Malaysia</td>\n",
       "      <td>Kuala Lumpur</td>\n",
       "      <td>Asia Pacific University of Technology &amp; Innova...</td>\n",
       "      <td>BSc (Hons) in Information Technology</td>\n",
       "      <td>BSc</td>\n",
       "      <td>Full-time</td>\n",
       "      <td>3.0</td>\n",
       "      <td>Campus</td>\n",
       "      <td>True</td>\n",
       "      <td>English</td>\n",
       "    </tr>\n",
       "    <tr>\n",
       "      <th>192</th>\n",
       "      <td>Asia</td>\n",
       "      <td>Malaysia</td>\n",
       "      <td>Kuala Lumpur</td>\n",
       "      <td>Asia Pacific University of Technology &amp; Innova...</td>\n",
       "      <td>BSc (Hons) in Information Technology - Busines...</td>\n",
       "      <td>BSc</td>\n",
       "      <td>Full-time</td>\n",
       "      <td>3.0</td>\n",
       "      <td>Campus</td>\n",
       "      <td>True</td>\n",
       "      <td>English</td>\n",
       "    </tr>\n",
       "    <tr>\n",
       "      <th>193</th>\n",
       "      <td>Asia</td>\n",
       "      <td>Malaysia</td>\n",
       "      <td>Kuala Lumpur</td>\n",
       "      <td>Asia Pacific University of Technology &amp; Innova...</td>\n",
       "      <td>BSc (Hons) in Information Technology - Cloud C...</td>\n",
       "      <td>BSc</td>\n",
       "      <td>Full-time</td>\n",
       "      <td>3.0</td>\n",
       "      <td>Campus</td>\n",
       "      <td>True</td>\n",
       "      <td>English</td>\n",
       "    </tr>\n",
       "    <tr>\n",
       "      <th>194</th>\n",
       "      <td>Asia</td>\n",
       "      <td>Malaysia</td>\n",
       "      <td>Kuala Lumpur</td>\n",
       "      <td>Asia Pacific University of Technology &amp; Innova...</td>\n",
       "      <td>BSc (Hons) in Information Technology - Digital...</td>\n",
       "      <td>BSc</td>\n",
       "      <td>Full-time</td>\n",
       "      <td>3.0</td>\n",
       "      <td>Campus</td>\n",
       "      <td>True</td>\n",
       "      <td>English</td>\n",
       "    </tr>\n",
       "    <tr>\n",
       "      <th>195</th>\n",
       "      <td>Asia</td>\n",
       "      <td>Malaysia</td>\n",
       "      <td>Kuala Lumpur</td>\n",
       "      <td>Asia Pacific University of Technology &amp; Innova...</td>\n",
       "      <td>BSc (Hons) in Information Technology - Financi...</td>\n",
       "      <td>BSc</td>\n",
       "      <td>Full-time</td>\n",
       "      <td>3.0</td>\n",
       "      <td>Campus</td>\n",
       "      <td>True</td>\n",
       "      <td>English</td>\n",
       "    </tr>\n",
       "    <tr>\n",
       "      <th>196</th>\n",
       "      <td>Asia</td>\n",
       "      <td>Malaysia</td>\n",
       "      <td>Kuala Lumpur</td>\n",
       "      <td>Asia Pacific University of Technology &amp; Innova...</td>\n",
       "      <td>BSc (Hons) in Information Technology - Informa...</td>\n",
       "      <td>BSc</td>\n",
       "      <td>Full-time</td>\n",
       "      <td>3.0</td>\n",
       "      <td>Campus</td>\n",
       "      <td>True</td>\n",
       "      <td>English</td>\n",
       "    </tr>\n",
       "    <tr>\n",
       "      <th>197</th>\n",
       "      <td>Asia</td>\n",
       "      <td>Malaysia</td>\n",
       "      <td>Kuala Lumpur</td>\n",
       "      <td>Asia Pacific University of Technology &amp; Innova...</td>\n",
       "      <td>BSc (Hons) in Information Technology - Interne...</td>\n",
       "      <td>BSc</td>\n",
       "      <td>Full-time</td>\n",
       "      <td>3.0</td>\n",
       "      <td>Campus</td>\n",
       "      <td>True</td>\n",
       "      <td>English</td>\n",
       "    </tr>\n",
       "    <tr>\n",
       "      <th>198</th>\n",
       "      <td>Asia</td>\n",
       "      <td>Malaysia</td>\n",
       "      <td>Kuala Lumpur</td>\n",
       "      <td>Asia Pacific University of Technology &amp; Innova...</td>\n",
       "      <td>BSc (Hons) in Information Technology - Mobile ...</td>\n",
       "      <td>BSc</td>\n",
       "      <td>Full-time</td>\n",
       "      <td>3.0</td>\n",
       "      <td>Campus</td>\n",
       "      <td>True</td>\n",
       "      <td>English</td>\n",
       "    </tr>\n",
       "    <tr>\n",
       "      <th>199</th>\n",
       "      <td>Asia</td>\n",
       "      <td>Malaysia</td>\n",
       "      <td>Kuala Lumpur</td>\n",
       "      <td>Asia Pacific University of Technology &amp; Innova...</td>\n",
       "      <td>BSc (Hons) in Information Technology - Network...</td>\n",
       "      <td>BSc</td>\n",
       "      <td>Full-time</td>\n",
       "      <td>3.0</td>\n",
       "      <td>Campus</td>\n",
       "      <td>True</td>\n",
       "      <td>English</td>\n",
       "    </tr>\n",
       "    <tr>\n",
       "      <th>200</th>\n",
       "      <td>Asia</td>\n",
       "      <td>Malaysia</td>\n",
       "      <td>Kuala Lumpur</td>\n",
       "      <td>Asia Pacific University of Technology &amp; Innova...</td>\n",
       "      <td>BSc (Hons) in Multimedia Technology</td>\n",
       "      <td>BSc</td>\n",
       "      <td>Full-time</td>\n",
       "      <td>3.0</td>\n",
       "      <td>Campus</td>\n",
       "      <td>True</td>\n",
       "      <td>English</td>\n",
       "    </tr>\n",
       "    <tr>\n",
       "      <th>201</th>\n",
       "      <td>Asia</td>\n",
       "      <td>Malaysia</td>\n",
       "      <td>Kuala Lumpur</td>\n",
       "      <td>Asia Pacific University of Technology &amp; Innova...</td>\n",
       "      <td>BSc (Hons) in Multimedia Technology - VR/AR Sp...</td>\n",
       "      <td>BSc</td>\n",
       "      <td>Full-time</td>\n",
       "      <td>3.0</td>\n",
       "      <td>Campus</td>\n",
       "      <td>True</td>\n",
       "      <td>English</td>\n",
       "    </tr>\n",
       "    <tr>\n",
       "      <th>202</th>\n",
       "      <td>Asia</td>\n",
       "      <td>Malaysia</td>\n",
       "      <td>Kuala Lumpur</td>\n",
       "      <td>Asia Pacific University of Technology &amp; Innova...</td>\n",
       "      <td>BSc (Hons) in Software Engineering</td>\n",
       "      <td>BSc</td>\n",
       "      <td>Full-time</td>\n",
       "      <td>3.0</td>\n",
       "      <td>Campus</td>\n",
       "      <td>True</td>\n",
       "      <td>English</td>\n",
       "    </tr>\n",
       "  </tbody>\n",
       "</table>\n",
       "</div>"
      ],
      "text/plain": [
       "    Continent   Country          City  \\\n",
       "184      Asia  Malaysia  Kuala Lumpur   \n",
       "185      Asia  Malaysia  Kuala Lumpur   \n",
       "186      Asia  Malaysia  Kuala Lumpur   \n",
       "187      Asia  Malaysia  Kuala Lumpur   \n",
       "188      Asia  Malaysia  Kuala Lumpur   \n",
       "189      Asia  Malaysia  Kuala Lumpur   \n",
       "190      Asia  Malaysia  Kuala Lumpur   \n",
       "191      Asia  Malaysia  Kuala Lumpur   \n",
       "192      Asia  Malaysia  Kuala Lumpur   \n",
       "193      Asia  Malaysia  Kuala Lumpur   \n",
       "194      Asia  Malaysia  Kuala Lumpur   \n",
       "195      Asia  Malaysia  Kuala Lumpur   \n",
       "196      Asia  Malaysia  Kuala Lumpur   \n",
       "197      Asia  Malaysia  Kuala Lumpur   \n",
       "198      Asia  Malaysia  Kuala Lumpur   \n",
       "199      Asia  Malaysia  Kuala Lumpur   \n",
       "200      Asia  Malaysia  Kuala Lumpur   \n",
       "201      Asia  Malaysia  Kuala Lumpur   \n",
       "202      Asia  Malaysia  Kuala Lumpur   \n",
       "\n",
       "                                                School  \\\n",
       "184  Asia Pacific University of Technology & Innova...   \n",
       "185  Asia Pacific University of Technology & Innova...   \n",
       "186  Asia Pacific University of Technology & Innova...   \n",
       "187  Asia Pacific University of Technology & Innova...   \n",
       "188  Asia Pacific University of Technology & Innova...   \n",
       "189  Asia Pacific University of Technology & Innova...   \n",
       "190  Asia Pacific University of Technology & Innova...   \n",
       "191  Asia Pacific University of Technology & Innova...   \n",
       "192  Asia Pacific University of Technology & Innova...   \n",
       "193  Asia Pacific University of Technology & Innova...   \n",
       "194  Asia Pacific University of Technology & Innova...   \n",
       "195  Asia Pacific University of Technology & Innova...   \n",
       "196  Asia Pacific University of Technology & Innova...   \n",
       "197  Asia Pacific University of Technology & Innova...   \n",
       "198  Asia Pacific University of Technology & Innova...   \n",
       "199  Asia Pacific University of Technology & Innova...   \n",
       "200  Asia Pacific University of Technology & Innova...   \n",
       "201  Asia Pacific University of Technology & Innova...   \n",
       "202  Asia Pacific University of Technology & Innova...   \n",
       "\n",
       "                                                Course Degree_type       Pace  \\\n",
       "184  Bachelor of Computer Science (Hons) (Intellige...    Bachelor  Full-time   \n",
       "185  Bachelor of Engineering in Computer Engineerin...    Bachelor  Full-time   \n",
       "186  Bachelor of Engineering in Electrical & Electr...    Bachelor  Full-time   \n",
       "187                     BSc (Hons) in Computer Science         BSc  Full-time   \n",
       "188    BSc (Hons) in Computer Science (Cyber Security)         BSc  Full-time   \n",
       "189  BSc (Hons) in Computer Science - Data Analytic...         BSc  Full-time   \n",
       "190  BSc (Hons) in Computer Science - Digital Foren...         BSc  Full-time   \n",
       "191               BSc (Hons) in Information Technology         BSc  Full-time   \n",
       "192  BSc (Hons) in Information Technology - Busines...         BSc  Full-time   \n",
       "193  BSc (Hons) in Information Technology - Cloud C...         BSc  Full-time   \n",
       "194  BSc (Hons) in Information Technology - Digital...         BSc  Full-time   \n",
       "195  BSc (Hons) in Information Technology - Financi...         BSc  Full-time   \n",
       "196  BSc (Hons) in Information Technology - Informa...         BSc  Full-time   \n",
       "197  BSc (Hons) in Information Technology - Interne...         BSc  Full-time   \n",
       "198  BSc (Hons) in Information Technology - Mobile ...         BSc  Full-time   \n",
       "199  BSc (Hons) in Information Technology - Network...         BSc  Full-time   \n",
       "200                BSc (Hons) in Multimedia Technology         BSc  Full-time   \n",
       "201  BSc (Hons) in Multimedia Technology - VR/AR Sp...         BSc  Full-time   \n",
       "202                 BSc (Hons) in Software Engineering         BSc  Full-time   \n",
       "\n",
       "     Duration_years    Mode  InEnglish Lang_primary  \n",
       "184             3.0  Campus       True      English  \n",
       "185             4.0  Campus       True      English  \n",
       "186             4.0  Campus       True      English  \n",
       "187             3.0  Campus       True      English  \n",
       "188             3.0  Campus       True      English  \n",
       "189             3.0  Campus       True      English  \n",
       "190             3.0  Campus       True      English  \n",
       "191             3.0  Campus       True      English  \n",
       "192             3.0  Campus       True      English  \n",
       "193             3.0  Campus       True      English  \n",
       "194             3.0  Campus       True      English  \n",
       "195             3.0  Campus       True      English  \n",
       "196             3.0  Campus       True      English  \n",
       "197             3.0  Campus       True      English  \n",
       "198             3.0  Campus       True      English  \n",
       "199             3.0  Campus       True      English  \n",
       "200             3.0  Campus       True      English  \n",
       "201             3.0  Campus       True      English  \n",
       "202             3.0  Campus       True      English  "
      ]
     },
     "execution_count": 124,
     "metadata": {},
     "output_type": "execute_result"
    }
   ],
   "source": [
    "#df['School'].value_counts()\n",
    "df[df['School'] == 'Asia Pacific University of Technology & Innovation (APU)']"
   ]
  },
  {
   "cell_type": "code",
   "execution_count": 111,
   "metadata": {},
   "outputs": [
    {
     "data": {
      "text/plain": [
       "Asia Pacific University of Technology & Innovation (APU)            19\n",
       "Open University                                                     13\n",
       "Xi'an Jiaotong-Liverpool University                                 11\n",
       "Heriot-Watt University Dubai                                        10\n",
       "Utica University Online                                              8\n",
       "University of Alberta                                                8\n",
       "IU International University of Applied Sciences - Online Studies     8\n",
       "Nova Southeastern University Undergraduate Programs                  8\n",
       "IU International University of Applied Sciences – Online             8\n",
       "University of Johannesburg                                           7\n",
       "Name: School, dtype: int64"
      ]
     },
     "execution_count": 111,
     "metadata": {},
     "output_type": "execute_result"
    }
   ],
   "source": [
    "df['School'].value_counts()[:10]"
   ]
  },
  {
   "cell_type": "code",
   "execution_count": 9,
   "metadata": {},
   "outputs": [
    {
     "data": {
      "text/plain": [
       "Kuala Lumpur     27\n",
       "Dubai            26\n",
       "Moscow           16\n",
       "Berlin           15\n",
       "London           15\n",
       "Istanbul         15\n",
       "Milton Keynes    13\n",
       "Bad Honnef       13\n",
       "Shah Alam        12\n",
       "Melbourne        12\n",
       "Name: City, dtype: int64"
      ]
     },
     "execution_count": 9,
     "metadata": {},
     "output_type": "execute_result"
    }
   ],
   "source": [
    "df['City'].value_counts()[:10]"
   ]
  },
  {
   "cell_type": "code",
   "execution_count": 112,
   "metadata": {},
   "outputs": [
    {
     "data": {
      "text/plain": [
       "Bachelor    767\n",
       "BSc         696\n",
       "BA           75\n",
       "BBA          22\n",
       "Name: Degree_type, dtype: int64"
      ]
     },
     "execution_count": 112,
     "metadata": {},
     "output_type": "execute_result"
    }
   ],
   "source": [
    "df['Degree_type'].value_counts()"
   ]
  },
  {
   "cell_type": "code",
   "execution_count": 113,
   "metadata": {},
   "outputs": [
    {
     "data": {
      "text/plain": [
       "Full-time    1051\n",
       "Unknown       481\n",
       "Part-time      28\n",
       "Name: Pace, dtype: int64"
      ]
     },
     "execution_count": 113,
     "metadata": {},
     "output_type": "execute_result"
    }
   ],
   "source": [
    "df['Pace'].value_counts()"
   ]
  },
  {
   "cell_type": "code",
   "execution_count": 114,
   "metadata": {},
   "outputs": [
    {
     "data": {
      "text/plain": [
       "Campus                      1303\n",
       "Online                       105\n",
       "Unknown                      102\n",
       "Online & Campus Combined      50\n",
       "Name: Mode, dtype: int64"
      ]
     },
     "execution_count": 114,
     "metadata": {},
     "output_type": "execute_result"
    }
   ],
   "source": [
    "df['Mode'].value_counts()"
   ]
  },
  {
   "cell_type": "code",
   "execution_count": 123,
   "metadata": {},
   "outputs": [
    {
     "data": {
      "text/plain": [
       "Mode\n",
       "Campus                      831\n",
       "Online                       48\n",
       "Online & Campus Combined     37\n",
       "Unknown                      91\n",
       "Name: School, dtype: int64"
      ]
     },
     "execution_count": 123,
     "metadata": {},
     "output_type": "execute_result"
    }
   ],
   "source": [
    "df['School'].groupby(df['Mode']).nunique()"
   ]
  },
  {
   "cell_type": "code",
   "execution_count": 125,
   "metadata": {},
   "outputs": [
    {
     "data": {
      "text/html": [
       "<div>\n",
       "<style scoped>\n",
       "    .dataframe tbody tr th:only-of-type {\n",
       "        vertical-align: middle;\n",
       "    }\n",
       "\n",
       "    .dataframe tbody tr th {\n",
       "        vertical-align: top;\n",
       "    }\n",
       "\n",
       "    .dataframe thead th {\n",
       "        text-align: right;\n",
       "    }\n",
       "</style>\n",
       "<table border=\"1\" class=\"dataframe\">\n",
       "  <thead>\n",
       "    <tr style=\"text-align: right;\">\n",
       "      <th></th>\n",
       "      <th>Location</th>\n",
       "      <th>School</th>\n",
       "      <th>Course</th>\n",
       "      <th>Degree_type</th>\n",
       "      <th>Pace</th>\n",
       "      <th>Duration</th>\n",
       "      <th>Language</th>\n",
       "      <th>Mode</th>\n",
       "      <th>Description</th>\n",
       "      <th>Link</th>\n",
       "      <th>Country</th>\n",
       "      <th>City</th>\n",
       "      <th>Continent</th>\n",
       "      <th>Duration_years</th>\n",
       "      <th>InEnglish</th>\n",
       "      <th>Lang_primary</th>\n",
       "    </tr>\n",
       "  </thead>\n",
       "  <tbody>\n",
       "    <tr>\n",
       "      <th>823</th>\n",
       "      <td>Milton Keynes, United Kingdom</td>\n",
       "      <td>Open University</td>\n",
       "      <td>BSc (Honours) in Computing with Electronic Eng...</td>\n",
       "      <td>BSc</td>\n",
       "      <td>Part-time</td>\n",
       "      <td>6 - 16 years</td>\n",
       "      <td>English</td>\n",
       "      <td>Online</td>\n",
       "      <td>This combined degree develops your skills in a...</td>\n",
       "      <td>https://www.onlinestudies.com/BSc-(Honours)-in...</td>\n",
       "      <td>United Kingdom</td>\n",
       "      <td>Milton Keynes</td>\n",
       "      <td>Europe</td>\n",
       "      <td>11.0</td>\n",
       "      <td>True</td>\n",
       "      <td>English</td>\n",
       "    </tr>\n",
       "  </tbody>\n",
       "</table>\n",
       "</div>"
      ],
      "text/plain": [
       "                          Location           School  \\\n",
       "823  Milton Keynes, United Kingdom  Open University   \n",
       "\n",
       "                                                Course Degree_type       Pace  \\\n",
       "823  BSc (Honours) in Computing with Electronic Eng...         BSc  Part-time   \n",
       "\n",
       "         Duration Language    Mode  \\\n",
       "823  6 - 16 years  English  Online   \n",
       "\n",
       "                                           Description  \\\n",
       "823  This combined degree develops your skills in a...   \n",
       "\n",
       "                                                  Link         Country  \\\n",
       "823  https://www.onlinestudies.com/BSc-(Honours)-in...  United Kingdom   \n",
       "\n",
       "              City Continent  Duration_years  InEnglish Lang_primary  \n",
       "823  Milton Keynes    Europe            11.0       True      English  "
      ]
     },
     "execution_count": 125,
     "metadata": {},
     "output_type": "execute_result"
    }
   ],
   "source": [
    "df_full[df_full['Duration_years'] == df['Duration_years'].max()]"
   ]
  },
  {
   "cell_type": "code",
   "execution_count": 128,
   "metadata": {},
   "outputs": [
    {
     "data": {
      "text/html": [
       "<div>\n",
       "<style scoped>\n",
       "    .dataframe tbody tr th:only-of-type {\n",
       "        vertical-align: middle;\n",
       "    }\n",
       "\n",
       "    .dataframe tbody tr th {\n",
       "        vertical-align: top;\n",
       "    }\n",
       "\n",
       "    .dataframe thead th {\n",
       "        text-align: right;\n",
       "    }\n",
       "</style>\n",
       "<table border=\"1\" class=\"dataframe\">\n",
       "  <thead>\n",
       "    <tr style=\"text-align: right;\">\n",
       "      <th></th>\n",
       "      <th>Continent</th>\n",
       "      <th>Country</th>\n",
       "      <th>City</th>\n",
       "      <th>School</th>\n",
       "      <th>Course</th>\n",
       "      <th>Degree_type</th>\n",
       "      <th>Pace</th>\n",
       "      <th>Duration_years</th>\n",
       "      <th>Mode</th>\n",
       "      <th>InEnglish</th>\n",
       "      <th>Lang_primary</th>\n",
       "    </tr>\n",
       "  </thead>\n",
       "  <tbody>\n",
       "    <tr>\n",
       "      <th>887</th>\n",
       "      <td>Europe</td>\n",
       "      <td>Germany</td>\n",
       "      <td>Schwerin</td>\n",
       "      <td>Hochschule Stralsund – University of Applied S...</td>\n",
       "      <td>Ba it security and mobile systems</td>\n",
       "      <td>BA</td>\n",
       "      <td>Full-time</td>\n",
       "      <td>0.583333</td>\n",
       "      <td>Campus</td>\n",
       "      <td>False</td>\n",
       "      <td>German</td>\n",
       "    </tr>\n",
       "  </tbody>\n",
       "</table>\n",
       "</div>"
      ],
      "text/plain": [
       "    Continent  Country      City  \\\n",
       "887    Europe  Germany  Schwerin   \n",
       "\n",
       "                                                School  \\\n",
       "887  Hochschule Stralsund – University of Applied S...   \n",
       "\n",
       "                                Course Degree_type       Pace  Duration_years  \\\n",
       "887  Ba it security and mobile systems          BA  Full-time        0.583333   \n",
       "\n",
       "       Mode  InEnglish Lang_primary  \n",
       "887  Campus      False       German  "
      ]
     },
     "execution_count": 128,
     "metadata": {},
     "output_type": "execute_result"
    }
   ],
   "source": [
    "df[df['Duration_years'] == df['Duration_years'].min()]"
   ]
  },
  {
   "cell_type": "code",
   "execution_count": 149,
   "metadata": {},
   "outputs": [],
   "source": [
    "langs = set(df_full['Language'].str.split(expand = True)[0].str.strip(','))"
   ]
  },
  {
   "cell_type": "code",
   "execution_count": 152,
   "metadata": {},
   "outputs": [
    {
     "data": {
      "text/plain": [
       "31"
      ]
     },
     "execution_count": 152,
     "metadata": {},
     "output_type": "execute_result"
    }
   ],
   "source": [
    "len(langs)"
   ]
  },
  {
   "cell_type": "code",
   "execution_count": 154,
   "metadata": {},
   "outputs": [
    {
     "data": {
      "text/plain": [
       "Lang_primary\n",
       "Chinese         23\n",
       "English       1248\n",
       "French          11\n",
       "German          13\n",
       "Japanese        29\n",
       "Other           62\n",
       "Polish          19\n",
       "Portuguese      26\n",
       "Russian         64\n",
       "Spanish         65\n",
       "Name: Course, dtype: int64"
      ]
     },
     "execution_count": 154,
     "metadata": {},
     "output_type": "execute_result"
    }
   ],
   "source": [
    "df['Course'].groupby(df['Lang_primary']).count()"
   ]
  },
  {
   "cell_type": "code",
   "execution_count": 155,
   "metadata": {},
   "outputs": [
    {
     "data": {
      "text/plain": [
       "InEnglish\n",
       "False     292\n",
       "True     1268\n",
       "Name: Course, dtype: int64"
      ]
     },
     "execution_count": 155,
     "metadata": {},
     "output_type": "execute_result"
    }
   ],
   "source": [
    "df['Course'].groupby(df['InEnglish']).count()"
   ]
  },
  {
   "cell_type": "code",
   "execution_count": 12,
   "metadata": {},
   "outputs": [
    {
     "data": {
      "text/html": [
       "<div>\n",
       "<style scoped>\n",
       "    .dataframe tbody tr th:only-of-type {\n",
       "        vertical-align: middle;\n",
       "    }\n",
       "\n",
       "    .dataframe tbody tr th {\n",
       "        vertical-align: top;\n",
       "    }\n",
       "\n",
       "    .dataframe thead th {\n",
       "        text-align: right;\n",
       "    }\n",
       "</style>\n",
       "<table border=\"1\" class=\"dataframe\">\n",
       "  <thead>\n",
       "    <tr style=\"text-align: right;\">\n",
       "      <th>Continent</th>\n",
       "      <th>Africa</th>\n",
       "      <th>Asia</th>\n",
       "      <th>Europe</th>\n",
       "      <th>North America</th>\n",
       "      <th>Oceania</th>\n",
       "      <th>South America</th>\n",
       "    </tr>\n",
       "    <tr>\n",
       "      <th>Lang_primary</th>\n",
       "      <th></th>\n",
       "      <th></th>\n",
       "      <th></th>\n",
       "      <th></th>\n",
       "      <th></th>\n",
       "      <th></th>\n",
       "    </tr>\n",
       "  </thead>\n",
       "  <tbody>\n",
       "    <tr>\n",
       "      <th>Chinese</th>\n",
       "      <td>NaN</td>\n",
       "      <td>21.0</td>\n",
       "      <td>NaN</td>\n",
       "      <td>NaN</td>\n",
       "      <td>NaN</td>\n",
       "      <td>NaN</td>\n",
       "    </tr>\n",
       "    <tr>\n",
       "      <th>English</th>\n",
       "      <td>28.0</td>\n",
       "      <td>234.0</td>\n",
       "      <td>333.0</td>\n",
       "      <td>337.0</td>\n",
       "      <td>32.0</td>\n",
       "      <td>1.0</td>\n",
       "    </tr>\n",
       "    <tr>\n",
       "      <th>French</th>\n",
       "      <td>2.0</td>\n",
       "      <td>NaN</td>\n",
       "      <td>4.0</td>\n",
       "      <td>4.0</td>\n",
       "      <td>NaN</td>\n",
       "      <td>NaN</td>\n",
       "    </tr>\n",
       "    <tr>\n",
       "      <th>German</th>\n",
       "      <td>NaN</td>\n",
       "      <td>NaN</td>\n",
       "      <td>13.0</td>\n",
       "      <td>NaN</td>\n",
       "      <td>NaN</td>\n",
       "      <td>NaN</td>\n",
       "    </tr>\n",
       "    <tr>\n",
       "      <th>Japanese</th>\n",
       "      <td>NaN</td>\n",
       "      <td>28.0</td>\n",
       "      <td>NaN</td>\n",
       "      <td>NaN</td>\n",
       "      <td>NaN</td>\n",
       "      <td>NaN</td>\n",
       "    </tr>\n",
       "    <tr>\n",
       "      <th>Other</th>\n",
       "      <td>NaN</td>\n",
       "      <td>22.0</td>\n",
       "      <td>36.0</td>\n",
       "      <td>NaN</td>\n",
       "      <td>NaN</td>\n",
       "      <td>NaN</td>\n",
       "    </tr>\n",
       "    <tr>\n",
       "      <th>Polish</th>\n",
       "      <td>NaN</td>\n",
       "      <td>NaN</td>\n",
       "      <td>13.0</td>\n",
       "      <td>NaN</td>\n",
       "      <td>NaN</td>\n",
       "      <td>NaN</td>\n",
       "    </tr>\n",
       "    <tr>\n",
       "      <th>Portuguese</th>\n",
       "      <td>NaN</td>\n",
       "      <td>NaN</td>\n",
       "      <td>17.0</td>\n",
       "      <td>NaN</td>\n",
       "      <td>NaN</td>\n",
       "      <td>7.0</td>\n",
       "    </tr>\n",
       "    <tr>\n",
       "      <th>Russian</th>\n",
       "      <td>NaN</td>\n",
       "      <td>7.0</td>\n",
       "      <td>57.0</td>\n",
       "      <td>NaN</td>\n",
       "      <td>NaN</td>\n",
       "      <td>NaN</td>\n",
       "    </tr>\n",
       "    <tr>\n",
       "      <th>Spanish</th>\n",
       "      <td>NaN</td>\n",
       "      <td>NaN</td>\n",
       "      <td>21.0</td>\n",
       "      <td>20.0</td>\n",
       "      <td>NaN</td>\n",
       "      <td>21.0</td>\n",
       "    </tr>\n",
       "  </tbody>\n",
       "</table>\n",
       "</div>"
      ],
      "text/plain": [
       "Continent     Africa   Asia  Europe  North America  Oceania  South America\n",
       "Lang_primary                                                              \n",
       "Chinese          NaN   21.0     NaN            NaN      NaN            NaN\n",
       "English         28.0  234.0   333.0          337.0     32.0            1.0\n",
       "French           2.0    NaN     4.0            4.0      NaN            NaN\n",
       "German           NaN    NaN    13.0            NaN      NaN            NaN\n",
       "Japanese         NaN   28.0     NaN            NaN      NaN            NaN\n",
       "Other            NaN   22.0    36.0            NaN      NaN            NaN\n",
       "Polish           NaN    NaN    13.0            NaN      NaN            NaN\n",
       "Portuguese       NaN    NaN    17.0            NaN      NaN            7.0\n",
       "Russian          NaN    7.0    57.0            NaN      NaN            NaN\n",
       "Spanish          NaN    NaN    21.0           20.0      NaN           21.0"
      ]
     },
     "execution_count": 12,
     "metadata": {},
     "output_type": "execute_result"
    }
   ],
   "source": [
    "df.pivot_table(values = 'Course', index = 'Lang_primary', columns = 'Continent', aggfunc = pd.Series.nunique)"
   ]
  },
  {
   "cell_type": "code",
   "execution_count": 14,
   "metadata": {
    "scrolled": true
   },
   "outputs": [
    {
     "data": {
      "text/html": [
       "<div>\n",
       "<style scoped>\n",
       "    .dataframe tbody tr th:only-of-type {\n",
       "        vertical-align: middle;\n",
       "    }\n",
       "\n",
       "    .dataframe tbody tr th {\n",
       "        vertical-align: top;\n",
       "    }\n",
       "\n",
       "    .dataframe thead th {\n",
       "        text-align: right;\n",
       "    }\n",
       "</style>\n",
       "<table border=\"1\" class=\"dataframe\">\n",
       "  <thead>\n",
       "    <tr style=\"text-align: right;\">\n",
       "      <th>Degree_type</th>\n",
       "      <th>BA</th>\n",
       "      <th>BBA</th>\n",
       "      <th>BSc</th>\n",
       "      <th>Bachelor</th>\n",
       "    </tr>\n",
       "    <tr>\n",
       "      <th>Continent</th>\n",
       "      <th></th>\n",
       "      <th></th>\n",
       "      <th></th>\n",
       "      <th></th>\n",
       "    </tr>\n",
       "  </thead>\n",
       "  <tbody>\n",
       "    <tr>\n",
       "      <th>Africa</th>\n",
       "      <td>NaN</td>\n",
       "      <td>NaN</td>\n",
       "      <td>16.0</td>\n",
       "      <td>14.0</td>\n",
       "    </tr>\n",
       "    <tr>\n",
       "      <th>Asia</th>\n",
       "      <td>11.0</td>\n",
       "      <td>5.0</td>\n",
       "      <td>104.0</td>\n",
       "      <td>184.0</td>\n",
       "    </tr>\n",
       "    <tr>\n",
       "      <th>Europe</th>\n",
       "      <td>33.0</td>\n",
       "      <td>5.0</td>\n",
       "      <td>190.0</td>\n",
       "      <td>259.0</td>\n",
       "    </tr>\n",
       "    <tr>\n",
       "      <th>North America</th>\n",
       "      <td>23.0</td>\n",
       "      <td>12.0</td>\n",
       "      <td>205.0</td>\n",
       "      <td>135.0</td>\n",
       "    </tr>\n",
       "    <tr>\n",
       "      <th>Oceania</th>\n",
       "      <td>NaN</td>\n",
       "      <td>NaN</td>\n",
       "      <td>6.0</td>\n",
       "      <td>26.0</td>\n",
       "    </tr>\n",
       "    <tr>\n",
       "      <th>South America</th>\n",
       "      <td>NaN</td>\n",
       "      <td>NaN</td>\n",
       "      <td>1.0</td>\n",
       "      <td>27.0</td>\n",
       "    </tr>\n",
       "  </tbody>\n",
       "</table>\n",
       "</div>"
      ],
      "text/plain": [
       "Degree_type      BA   BBA    BSc  Bachelor\n",
       "Continent                                 \n",
       "Africa          NaN   NaN   16.0      14.0\n",
       "Asia           11.0   5.0  104.0     184.0\n",
       "Europe         33.0   5.0  190.0     259.0\n",
       "North America  23.0  12.0  205.0     135.0\n",
       "Oceania         NaN   NaN    6.0      26.0\n",
       "South America   NaN   NaN    1.0      27.0"
      ]
     },
     "execution_count": 14,
     "metadata": {},
     "output_type": "execute_result"
    }
   ],
   "source": [
    "df.pivot_table(values = 'Course', index = 'Continent', columns = 'Degree_type', aggfunc = pd.Series.nunique)"
   ]
  },
  {
   "cell_type": "code",
   "execution_count": 163,
   "metadata": {},
   "outputs": [
    {
     "data": {
      "text/plain": [
       "Degree_type\n",
       "BA           75\n",
       "BBA          22\n",
       "BSc         696\n",
       "Bachelor    767\n",
       "Name: Course, dtype: int64"
      ]
     },
     "execution_count": 163,
     "metadata": {},
     "output_type": "execute_result"
    }
   ],
   "source": [
    "df['Course'].groupby(df['Degree_type']).count()"
   ]
  },
  {
   "cell_type": "code",
   "execution_count": 16,
   "metadata": {},
   "outputs": [
    {
     "data": {
      "text/html": [
       "<div>\n",
       "<style scoped>\n",
       "    .dataframe tbody tr th:only-of-type {\n",
       "        vertical-align: middle;\n",
       "    }\n",
       "\n",
       "    .dataframe tbody tr th {\n",
       "        vertical-align: top;\n",
       "    }\n",
       "\n",
       "    .dataframe thead th {\n",
       "        text-align: right;\n",
       "    }\n",
       "</style>\n",
       "<table border=\"1\" class=\"dataframe\">\n",
       "  <thead>\n",
       "    <tr style=\"text-align: right;\">\n",
       "      <th>Mode</th>\n",
       "      <th>Campus</th>\n",
       "      <th>Online</th>\n",
       "      <th>Online &amp; Campus Combined</th>\n",
       "      <th>Unknown</th>\n",
       "    </tr>\n",
       "    <tr>\n",
       "      <th>Continent</th>\n",
       "      <th></th>\n",
       "      <th></th>\n",
       "      <th></th>\n",
       "      <th></th>\n",
       "    </tr>\n",
       "  </thead>\n",
       "  <tbody>\n",
       "    <tr>\n",
       "      <th>Africa</th>\n",
       "      <td>23.0</td>\n",
       "      <td>1.0</td>\n",
       "      <td>2.0</td>\n",
       "      <td>4.0</td>\n",
       "    </tr>\n",
       "    <tr>\n",
       "      <th>Asia</th>\n",
       "      <td>277.0</td>\n",
       "      <td>NaN</td>\n",
       "      <td>5.0</td>\n",
       "      <td>27.0</td>\n",
       "    </tr>\n",
       "    <tr>\n",
       "      <th>Europe</th>\n",
       "      <td>402.0</td>\n",
       "      <td>54.0</td>\n",
       "      <td>27.0</td>\n",
       "      <td>11.0</td>\n",
       "    </tr>\n",
       "    <tr>\n",
       "      <th>North America</th>\n",
       "      <td>278.0</td>\n",
       "      <td>41.0</td>\n",
       "      <td>13.0</td>\n",
       "      <td>49.0</td>\n",
       "    </tr>\n",
       "    <tr>\n",
       "      <th>Oceania</th>\n",
       "      <td>26.0</td>\n",
       "      <td>5.0</td>\n",
       "      <td>3.0</td>\n",
       "      <td>1.0</td>\n",
       "    </tr>\n",
       "    <tr>\n",
       "      <th>South America</th>\n",
       "      <td>26.0</td>\n",
       "      <td>1.0</td>\n",
       "      <td>NaN</td>\n",
       "      <td>1.0</td>\n",
       "    </tr>\n",
       "  </tbody>\n",
       "</table>\n",
       "</div>"
      ],
      "text/plain": [
       "Mode           Campus  Online  Online & Campus Combined  Unknown\n",
       "Continent                                                       \n",
       "Africa           23.0     1.0                       2.0      4.0\n",
       "Asia            277.0     NaN                       5.0     27.0\n",
       "Europe          402.0    54.0                      27.0     11.0\n",
       "North America   278.0    41.0                      13.0     49.0\n",
       "Oceania          26.0     5.0                       3.0      1.0\n",
       "South America    26.0     1.0                       NaN      1.0"
      ]
     },
     "execution_count": 16,
     "metadata": {},
     "output_type": "execute_result"
    }
   ],
   "source": [
    "df.pivot_table(values = 'Course', index = 'Continent', columns = 'Mode', aggfunc = pd.Series.nunique)"
   ]
  },
  {
   "cell_type": "code",
   "execution_count": 17,
   "metadata": {},
   "outputs": [
    {
     "data": {
      "text/plain": [
       "<AxesSubplot:ylabel='Europe'>"
      ]
     },
     "execution_count": 17,
     "metadata": {},
     "output_type": "execute_result"
    },
    {
     "data": {
      "image/png": "[encoded data removed]",
      "text/plain": [
       "<Figure size 432x288 with 1 Axes>"
      ]
     },
     "metadata": {},
     "output_type": "display_data"
    }
   ],
   "source": [
    "df.pivot_table(values = 'Course', index = 'Mode', columns = 'Continent', aggfunc = pd.Series.nunique)['Europe'].plot.pie()"
   ]
  },
  {
   "cell_type": "code",
   "execution_count": 164,
   "metadata": {},
   "outputs": [
    {
     "data": {
      "text/html": [
       "<div>\n",
       "<style scoped>\n",
       "    .dataframe tbody tr th:only-of-type {\n",
       "        vertical-align: middle;\n",
       "    }\n",
       "\n",
       "    .dataframe tbody tr th {\n",
       "        vertical-align: top;\n",
       "    }\n",
       "\n",
       "    .dataframe thead th {\n",
       "        text-align: right;\n",
       "    }\n",
       "</style>\n",
       "<table border=\"1\" class=\"dataframe\">\n",
       "  <thead>\n",
       "    <tr style=\"text-align: right;\">\n",
       "      <th>Pace</th>\n",
       "      <th>Full-time</th>\n",
       "      <th>Part-time</th>\n",
       "      <th>Unknown</th>\n",
       "    </tr>\n",
       "    <tr>\n",
       "      <th>Continent</th>\n",
       "      <th></th>\n",
       "      <th></th>\n",
       "      <th></th>\n",
       "    </tr>\n",
       "  </thead>\n",
       "  <tbody>\n",
       "    <tr>\n",
       "      <th>Africa</th>\n",
       "      <td>4.029461</td>\n",
       "      <td>NaN</td>\n",
       "      <td>4.246914</td>\n",
       "    </tr>\n",
       "    <tr>\n",
       "      <th>Asia</th>\n",
       "      <td>3.802960</td>\n",
       "      <td>NaN</td>\n",
       "      <td>3.941273</td>\n",
       "    </tr>\n",
       "    <tr>\n",
       "      <th>Europe</th>\n",
       "      <td>3.589776</td>\n",
       "      <td>4.277778</td>\n",
       "      <td>3.433199</td>\n",
       "    </tr>\n",
       "    <tr>\n",
       "      <th>North America</th>\n",
       "      <td>3.913719</td>\n",
       "      <td>2.601613</td>\n",
       "      <td>3.830915</td>\n",
       "    </tr>\n",
       "    <tr>\n",
       "      <th>Oceania</th>\n",
       "      <td>3.485294</td>\n",
       "      <td>NaN</td>\n",
       "      <td>3.541667</td>\n",
       "    </tr>\n",
       "    <tr>\n",
       "      <th>South America</th>\n",
       "      <td>4.250000</td>\n",
       "      <td>4.000000</td>\n",
       "      <td>4.260870</td>\n",
       "    </tr>\n",
       "  </tbody>\n",
       "</table>\n",
       "</div>"
      ],
      "text/plain": [
       "Pace           Full-time  Part-time   Unknown\n",
       "Continent                                    \n",
       "Africa          4.029461        NaN  4.246914\n",
       "Asia            3.802960        NaN  3.941273\n",
       "Europe          3.589776   4.277778  3.433199\n",
       "North America   3.913719   2.601613  3.830915\n",
       "Oceania         3.485294        NaN  3.541667\n",
       "South America   4.250000   4.000000  4.260870"
      ]
     },
     "execution_count": 164,
     "metadata": {},
     "output_type": "execute_result"
    }
   ],
   "source": [
    "df.pivot_table(values = 'Duration_years', index = 'Continent', columns = 'Pace', aggfunc = np.mean)"
   ]
  },
  {
   "cell_type": "code",
   "execution_count": 19,
   "metadata": {},
   "outputs": [
    {
     "data": {
      "text/plain": [
       "<AxesSubplot:ylabel='Europe'>"
      ]
     },
     "execution_count": 19,
     "metadata": {},
     "output_type": "execute_result"
    },
    {
     "data": {
      "image/png": "[encoded data removed]",
      "text/plain": [
       "<Figure size 432x288 with 1 Axes>"
      ]
     },
     "metadata": {},
     "output_type": "display_data"
    }
   ],
   "source": [
    "df.pivot_table(values = 'Course', index = 'Pace', columns = 'Continent', aggfunc = pd.Series.nunique)['Europe'].plot.pie()"
   ]
  },
  {
   "cell_type": "code",
   "execution_count": 140,
   "metadata": {},
   "outputs": [
    {
     "data": {
      "text/plain": [
       "<AxesSubplot:xlabel='Degree_type'>"
      ]
     },
     "execution_count": 140,
     "metadata": {},
     "output_type": "execute_result"
    },
    {
     "data": {
      "image/png": "[encoded data removed]",
      "text/plain": [
       "<Figure size 432x288 with 1 Axes>"
      ]
     },
     "metadata": {
      "needs_background": "light"
     },
     "output_type": "display_data"
    }
   ],
   "source": [
    "df[['Duration_years']].groupby(df['Degree_type']).mean().plot.bar()"
   ]
  },
  {
   "cell_type": "code",
   "execution_count": 48,
   "metadata": {},
   "outputs": [
    {
     "data": {
      "text/html": [
       "<div>\n",
       "<style scoped>\n",
       "    .dataframe tbody tr th:only-of-type {\n",
       "        vertical-align: middle;\n",
       "    }\n",
       "\n",
       "    .dataframe tbody tr th {\n",
       "        vertical-align: top;\n",
       "    }\n",
       "\n",
       "    .dataframe thead th {\n",
       "        text-align: right;\n",
       "    }\n",
       "</style>\n",
       "<table border=\"1\" class=\"dataframe\">\n",
       "  <thead>\n",
       "    <tr style=\"text-align: right;\">\n",
       "      <th>Continent</th>\n",
       "      <th>Africa</th>\n",
       "      <th>Asia</th>\n",
       "      <th>Europe</th>\n",
       "      <th>North America</th>\n",
       "      <th>Oceania</th>\n",
       "      <th>South America</th>\n",
       "    </tr>\n",
       "    <tr>\n",
       "      <th>Degree_type</th>\n",
       "      <th></th>\n",
       "      <th></th>\n",
       "      <th></th>\n",
       "      <th></th>\n",
       "      <th></th>\n",
       "      <th></th>\n",
       "    </tr>\n",
       "  </thead>\n",
       "  <tbody>\n",
       "    <tr>\n",
       "      <th>BA</th>\n",
       "      <td>0.000000</td>\n",
       "      <td>3.966308</td>\n",
       "      <td>3.257189</td>\n",
       "      <td>3.869354</td>\n",
       "      <td>0.000000</td>\n",
       "      <td>0.000000</td>\n",
       "    </tr>\n",
       "    <tr>\n",
       "      <th>BBA</th>\n",
       "      <td>0.000000</td>\n",
       "      <td>3.745098</td>\n",
       "      <td>3.300000</td>\n",
       "      <td>3.825672</td>\n",
       "      <td>0.000000</td>\n",
       "      <td>0.000000</td>\n",
       "    </tr>\n",
       "    <tr>\n",
       "      <th>BSc</th>\n",
       "      <td>4.160880</td>\n",
       "      <td>3.757616</td>\n",
       "      <td>3.597148</td>\n",
       "      <td>3.772060</td>\n",
       "      <td>3.166667</td>\n",
       "      <td>3.750000</td>\n",
       "    </tr>\n",
       "    <tr>\n",
       "      <th>Bachelor</th>\n",
       "      <td>4.019753</td>\n",
       "      <td>3.894009</td>\n",
       "      <td>3.606117</td>\n",
       "      <td>3.935643</td>\n",
       "      <td>3.550000</td>\n",
       "      <td>4.267241</td>\n",
       "    </tr>\n",
       "  </tbody>\n",
       "</table>\n",
       "</div>"
      ],
      "text/plain": [
       "Continent      Africa      Asia    Europe  North America   Oceania  \\\n",
       "Degree_type                                                          \n",
       "BA           0.000000  3.966308  3.257189       3.869354  0.000000   \n",
       "BBA          0.000000  3.745098  3.300000       3.825672  0.000000   \n",
       "BSc          4.160880  3.757616  3.597148       3.772060  3.166667   \n",
       "Bachelor     4.019753  3.894009  3.606117       3.935643  3.550000   \n",
       "\n",
       "Continent    South America  \n",
       "Degree_type                 \n",
       "BA                0.000000  \n",
       "BBA               0.000000  \n",
       "BSc               3.750000  \n",
       "Bachelor          4.267241  "
      ]
     },
     "execution_count": 48,
     "metadata": {},
     "output_type": "execute_result"
    }
   ],
   "source": [
    "durations = df.pivot_table(values = 'Duration_years', index = 'Degree_type', columns = 'Continent', aggfunc = np.mean, fill_value = 0)\n",
    "durations"
   ]
  },
  {
   "cell_type": "code",
   "execution_count": 92,
   "metadata": {},
   "outputs": [
    {
     "data": {
      "text/plain": [
       "<matplotlib.legend.Legend at 0x26c79073940>"
      ]
     },
     "execution_count": 92,
     "metadata": {},
     "output_type": "execute_result"
    },
    {
     "data": {
      "image/png": "[encoded data removed]",
      "text/plain": [
       "<Figure size 432x288 with 1 Axes>"
      ]
     },
     "metadata": {
      "needs_background": "light"
     },
     "output_type": "display_data"
    }
   ],
   "source": [
    "durations.plot(kind = 'bar', width = 0.8, colormap = 'Set2')\n",
    "plt.legend(bbox_to_anchor=(1.05, 1), loc='upper left', borderaxespad=0.)"
   ]
  },
  {
   "cell_type": "code",
   "execution_count": 99,
   "metadata": {},
   "outputs": [
    {
     "data": {
      "text/plain": [
       "<matplotlib.legend.Legend at 0x26c798f7460>"
      ]
     },
     "execution_count": 99,
     "metadata": {},
     "output_type": "execute_result"
    },
    {
     "data": {
      "image/png": "[encoded data removed]",
      "text/plain": [
       "<Figure size 432x288 with 1 Axes>"
      ]
     },
     "metadata": {
      "needs_background": "light"
     },
     "output_type": "display_data"
    }
   ],
   "source": [
    "durations.transpose().plot(kind = 'bar', width = 0.8, colormap = 'Set3')\n",
    "plt.legend(bbox_to_anchor=(1.05, 1), loc='upper left', borderaxespad=0.)"
   ]
  },
  {
   "cell_type": "code",
   "execution_count": 169,
   "metadata": {},
   "outputs": [
    {
     "data": {
      "image/png": "[encoded data removed]",
      "text/plain": [
       "<Figure size 432x288 with 1 Axes>"
      ]
     },
     "metadata": {
      "needs_background": "light"
     },
     "output_type": "display_data"
    }
   ],
   "source": [
    "table = df[['Duration_years']].groupby(df['Pace']).mean()\n",
    "labels = list(table.index)\n",
    "values = list(round(table['Duration_years'],2))\n",
    "table.plot.bar(colormap = 'Set3')\n",
    "plt.legend(loc = 'center left', bbox_to_anchor = (1.0,0.5))\n",
    "for i in range(len(labels)):\n",
    "        plt.text(i-0.09,values[i]+0.01,values[i])"
   ]
  },
  {
   "cell_type": "code",
   "execution_count": 135,
   "metadata": {},
   "outputs": [
    {
     "data": {
      "text/html": [
       "<div>\n",
       "<style scoped>\n",
       "    .dataframe tbody tr th:only-of-type {\n",
       "        vertical-align: middle;\n",
       "    }\n",
       "\n",
       "    .dataframe tbody tr th {\n",
       "        vertical-align: top;\n",
       "    }\n",
       "\n",
       "    .dataframe thead th {\n",
       "        text-align: right;\n",
       "    }\n",
       "</style>\n",
       "<table border=\"1\" class=\"dataframe\">\n",
       "  <thead>\n",
       "    <tr style=\"text-align: right;\">\n",
       "      <th>Degree_type</th>\n",
       "      <th>BA</th>\n",
       "      <th>BBA</th>\n",
       "      <th>BSc</th>\n",
       "      <th>Bachelor</th>\n",
       "    </tr>\n",
       "    <tr>\n",
       "      <th>Pace</th>\n",
       "      <th></th>\n",
       "      <th></th>\n",
       "      <th></th>\n",
       "      <th></th>\n",
       "    </tr>\n",
       "  </thead>\n",
       "  <tbody>\n",
       "    <tr>\n",
       "      <th>Full-time</th>\n",
       "      <td>7.0</td>\n",
       "      <td>5.0</td>\n",
       "      <td>19.0</td>\n",
       "      <td>24.0</td>\n",
       "    </tr>\n",
       "    <tr>\n",
       "      <th>Part-time</th>\n",
       "      <td>NaN</td>\n",
       "      <td>1.0</td>\n",
       "      <td>9.0</td>\n",
       "      <td>2.0</td>\n",
       "    </tr>\n",
       "    <tr>\n",
       "      <th>Unknown</th>\n",
       "      <td>6.0</td>\n",
       "      <td>2.0</td>\n",
       "      <td>18.0</td>\n",
       "      <td>26.0</td>\n",
       "    </tr>\n",
       "  </tbody>\n",
       "</table>\n",
       "</div>"
      ],
      "text/plain": [
       "Degree_type   BA  BBA   BSc  Bachelor\n",
       "Pace                                 \n",
       "Full-time    7.0  5.0  19.0      24.0\n",
       "Part-time    NaN  1.0   9.0       2.0\n",
       "Unknown      6.0  2.0  18.0      26.0"
      ]
     },
     "execution_count": 135,
     "metadata": {},
     "output_type": "execute_result"
    }
   ],
   "source": [
    "df.pivot_table(values = 'Duration_years', index = 'Pace', columns = 'Degree_type', aggfunc = pd.Series.nunique)"
   ]
  },
  {
   "cell_type": "code",
   "execution_count": 132,
   "metadata": {},
   "outputs": [
    {
     "data": {
      "text/html": [
       "<div>\n",
       "<style scoped>\n",
       "    .dataframe tbody tr th:only-of-type {\n",
       "        vertical-align: middle;\n",
       "    }\n",
       "\n",
       "    .dataframe tbody tr th {\n",
       "        vertical-align: top;\n",
       "    }\n",
       "\n",
       "    .dataframe thead th {\n",
       "        text-align: right;\n",
       "    }\n",
       "</style>\n",
       "<table border=\"1\" class=\"dataframe\">\n",
       "  <thead>\n",
       "    <tr style=\"text-align: right;\">\n",
       "      <th>Degree_type</th>\n",
       "      <th>BA</th>\n",
       "      <th>BBA</th>\n",
       "      <th>BSc</th>\n",
       "      <th>Bachelor</th>\n",
       "    </tr>\n",
       "    <tr>\n",
       "      <th>Pace</th>\n",
       "      <th></th>\n",
       "      <th></th>\n",
       "      <th></th>\n",
       "      <th></th>\n",
       "    </tr>\n",
       "  </thead>\n",
       "  <tbody>\n",
       "    <tr>\n",
       "      <th>Full-time</th>\n",
       "      <td>3.534603</td>\n",
       "      <td>3.752470</td>\n",
       "      <td>3.729069</td>\n",
       "      <td>3.763159</td>\n",
       "    </tr>\n",
       "    <tr>\n",
       "      <th>Part-time</th>\n",
       "      <td>NaN</td>\n",
       "      <td>3.000000</td>\n",
       "      <td>3.141581</td>\n",
       "      <td>3.894757</td>\n",
       "    </tr>\n",
       "    <tr>\n",
       "      <th>Unknown</th>\n",
       "      <td>3.760653</td>\n",
       "      <td>3.618807</td>\n",
       "      <td>3.754057</td>\n",
       "      <td>3.859760</td>\n",
       "    </tr>\n",
       "  </tbody>\n",
       "</table>\n",
       "</div>"
      ],
      "text/plain": [
       "Degree_type        BA       BBA       BSc  Bachelor\n",
       "Pace                                               \n",
       "Full-time    3.534603  3.752470  3.729069  3.763159\n",
       "Part-time         NaN  3.000000  3.141581  3.894757\n",
       "Unknown      3.760653  3.618807  3.754057  3.859760"
      ]
     },
     "execution_count": 132,
     "metadata": {},
     "output_type": "execute_result"
    }
   ],
   "source": [
    "df.pivot_table(values = 'Duration_years', index = 'Pace', columns = 'Degree_type', aggfunc = np.mean)"
   ]
  },
  {
   "cell_type": "code",
   "execution_count": 136,
   "metadata": {},
   "outputs": [
    {
     "data": {
      "text/html": [
       "<div>\n",
       "<style scoped>\n",
       "    .dataframe tbody tr th:only-of-type {\n",
       "        vertical-align: middle;\n",
       "    }\n",
       "\n",
       "    .dataframe tbody tr th {\n",
       "        vertical-align: top;\n",
       "    }\n",
       "\n",
       "    .dataframe thead th {\n",
       "        text-align: right;\n",
       "    }\n",
       "</style>\n",
       "<table border=\"1\" class=\"dataframe\">\n",
       "  <thead>\n",
       "    <tr style=\"text-align: right;\">\n",
       "      <th></th>\n",
       "      <th>Duration_years</th>\n",
       "    </tr>\n",
       "    <tr>\n",
       "      <th>Continent</th>\n",
       "      <th></th>\n",
       "    </tr>\n",
       "  </thead>\n",
       "  <tbody>\n",
       "    <tr>\n",
       "      <th>Africa</th>\n",
       "      <td>31</td>\n",
       "    </tr>\n",
       "    <tr>\n",
       "      <th>Asia</th>\n",
       "      <td>375</td>\n",
       "    </tr>\n",
       "    <tr>\n",
       "      <th>Europe</th>\n",
       "      <td>552</td>\n",
       "    </tr>\n",
       "    <tr>\n",
       "      <th>North America</th>\n",
       "      <td>526</td>\n",
       "    </tr>\n",
       "    <tr>\n",
       "      <th>Oceania</th>\n",
       "      <td>46</td>\n",
       "    </tr>\n",
       "    <tr>\n",
       "      <th>South America</th>\n",
       "      <td>30</td>\n",
       "    </tr>\n",
       "  </tbody>\n",
       "</table>\n",
       "</div>"
      ],
      "text/plain": [
       "               Duration_years\n",
       "Continent                    \n",
       "Africa                     31\n",
       "Asia                      375\n",
       "Europe                    552\n",
       "North America             526\n",
       "Oceania                    46\n",
       "South America              30"
      ]
     },
     "execution_count": 136,
     "metadata": {},
     "output_type": "execute_result"
    }
   ],
   "source": [
    "df[['Duration_years']].groupby(df['Continent']).count()"
   ]
  },
  {
   "cell_type": "code",
   "execution_count": 121,
   "metadata": {},
   "outputs": [
    {
     "data": {
      "text/html": [
       "<div>\n",
       "<style scoped>\n",
       "    .dataframe tbody tr th:only-of-type {\n",
       "        vertical-align: middle;\n",
       "    }\n",
       "\n",
       "    .dataframe tbody tr th {\n",
       "        vertical-align: top;\n",
       "    }\n",
       "\n",
       "    .dataframe thead th {\n",
       "        text-align: right;\n",
       "    }\n",
       "</style>\n",
       "<table border=\"1\" class=\"dataframe\">\n",
       "  <thead>\n",
       "    <tr style=\"text-align: right;\">\n",
       "      <th></th>\n",
       "      <th>Duration_years</th>\n",
       "    </tr>\n",
       "    <tr>\n",
       "      <th>Continent</th>\n",
       "      <th></th>\n",
       "    </tr>\n",
       "  </thead>\n",
       "  <tbody>\n",
       "    <tr>\n",
       "      <th>Africa</th>\n",
       "      <td>4.092593</td>\n",
       "    </tr>\n",
       "    <tr>\n",
       "      <th>Asia</th>\n",
       "      <td>3.847589</td>\n",
       "    </tr>\n",
       "    <tr>\n",
       "      <th>Europe</th>\n",
       "      <td>3.577450</td>\n",
       "    </tr>\n",
       "    <tr>\n",
       "      <th>North America</th>\n",
       "      <td>3.832139</td>\n",
       "    </tr>\n",
       "    <tr>\n",
       "      <th>Oceania</th>\n",
       "      <td>3.500000</td>\n",
       "    </tr>\n",
       "    <tr>\n",
       "      <th>South America</th>\n",
       "      <td>4.250000</td>\n",
       "    </tr>\n",
       "  </tbody>\n",
       "</table>\n",
       "</div>"
      ],
      "text/plain": [
       "               Duration_years\n",
       "Continent                    \n",
       "Africa               4.092593\n",
       "Asia                 3.847589\n",
       "Europe               3.577450\n",
       "North America        3.832139\n",
       "Oceania              3.500000\n",
       "South America        4.250000"
      ]
     },
     "execution_count": 121,
     "metadata": {},
     "output_type": "execute_result"
    }
   ],
   "source": [
    "df[['Duration_years']].groupby(df['Continent']).mean()"
   ]
  },
  {
   "cell_type": "code",
   "execution_count": 138,
   "metadata": {},
   "outputs": [
    {
     "data": {
      "image/png": "[encoded data removed]",
      "text/plain": [
       "<Figure size 432x288 with 1 Axes>"
      ]
     },
     "metadata": {
      "needs_background": "light"
     },
     "output_type": "display_data"
    }
   ],
   "source": [
    "table = df[['Duration_years']].groupby(df['Continent']).mean()\n",
    "labels = list(table.index)\n",
    "values = list(round(table['Duration_years'],2))\n",
    "table.plot.bar(colormap = 'Set3')\n",
    "plt.legend(loc = 'center left', bbox_to_anchor = (1.0,0.5))\n",
    "for i in range(len(labels)):\n",
    "        plt.text(i-0.18,values[i]+0.01,values[i])"
   ]
  },
  {
   "cell_type": "code",
   "execution_count": 128,
   "metadata": {},
   "outputs": [
    {
     "name": "stdout",
     "output_type": "stream",
     "text": [
      "0 4.09 4.09\n",
      "1 3.85 3.85\n",
      "2 3.58 3.58\n",
      "3 3.83 3.83\n",
      "4 3.5 3.5\n",
      "5 4.25 4.25\n"
     ]
    }
   ],
   "source": [
    "for i in range(len(labels)):\n",
    "        print(i,values[i],values[i])"
   ]
  },
  {
   "cell_type": "code",
   "execution_count": 138,
   "metadata": {},
   "outputs": [
    {
     "data": {
      "text/html": [
       "<div>\n",
       "<style scoped>\n",
       "    .dataframe tbody tr th:only-of-type {\n",
       "        vertical-align: middle;\n",
       "    }\n",
       "\n",
       "    .dataframe tbody tr th {\n",
       "        vertical-align: top;\n",
       "    }\n",
       "\n",
       "    .dataframe thead th {\n",
       "        text-align: right;\n",
       "    }\n",
       "</style>\n",
       "<table border=\"1\" class=\"dataframe\">\n",
       "  <thead>\n",
       "    <tr style=\"text-align: right;\">\n",
       "      <th>Degree_type</th>\n",
       "      <th>BA</th>\n",
       "      <th>BBA</th>\n",
       "      <th>BSc</th>\n",
       "      <th>Bachelor</th>\n",
       "    </tr>\n",
       "    <tr>\n",
       "      <th>Continent</th>\n",
       "      <th></th>\n",
       "      <th></th>\n",
       "      <th></th>\n",
       "      <th></th>\n",
       "    </tr>\n",
       "  </thead>\n",
       "  <tbody>\n",
       "    <tr>\n",
       "      <th>Africa</th>\n",
       "      <td>NaN</td>\n",
       "      <td>NaN</td>\n",
       "      <td>7.0</td>\n",
       "      <td>5.0</td>\n",
       "    </tr>\n",
       "    <tr>\n",
       "      <th>Asia</th>\n",
       "      <td>3.0</td>\n",
       "      <td>2.0</td>\n",
       "      <td>9.0</td>\n",
       "      <td>12.0</td>\n",
       "    </tr>\n",
       "    <tr>\n",
       "      <th>Europe</th>\n",
       "      <td>7.0</td>\n",
       "      <td>3.0</td>\n",
       "      <td>16.0</td>\n",
       "      <td>23.0</td>\n",
       "    </tr>\n",
       "    <tr>\n",
       "      <th>North America</th>\n",
       "      <td>2.0</td>\n",
       "      <td>5.0</td>\n",
       "      <td>15.0</td>\n",
       "      <td>11.0</td>\n",
       "    </tr>\n",
       "    <tr>\n",
       "      <th>Oceania</th>\n",
       "      <td>NaN</td>\n",
       "      <td>NaN</td>\n",
       "      <td>2.0</td>\n",
       "      <td>5.0</td>\n",
       "    </tr>\n",
       "    <tr>\n",
       "      <th>South America</th>\n",
       "      <td>NaN</td>\n",
       "      <td>NaN</td>\n",
       "      <td>1.0</td>\n",
       "      <td>5.0</td>\n",
       "    </tr>\n",
       "  </tbody>\n",
       "</table>\n",
       "</div>"
      ],
      "text/plain": [
       "Degree_type     BA  BBA   BSc  Bachelor\n",
       "Continent                              \n",
       "Africa         NaN  NaN   7.0       5.0\n",
       "Asia           3.0  2.0   9.0      12.0\n",
       "Europe         7.0  3.0  16.0      23.0\n",
       "North America  2.0  5.0  15.0      11.0\n",
       "Oceania        NaN  NaN   2.0       5.0\n",
       "South America  NaN  NaN   1.0       5.0"
      ]
     },
     "execution_count": 138,
     "metadata": {},
     "output_type": "execute_result"
    }
   ],
   "source": [
    "df.pivot_table(values = 'Duration_years', index = 'Continent', columns = 'Degree_type', aggfunc = pd.Series.nunique)"
   ]
  },
  {
   "cell_type": "code",
   "execution_count": 31,
   "metadata": {},
   "outputs": [
    {
     "data": {
      "text/plain": [
       "147"
      ]
     },
     "execution_count": 31,
     "metadata": {},
     "output_type": "execute_result"
    }
   ],
   "source": [
    "keywords = ['Data','Analytics', 'Intelligence']\n",
    "courses = []\n",
    "for name in df['Course']:\n",
    "    for kw in keywords:\n",
    "        if kw in name:\n",
    "            courses.append(name)\n",
    "len(courses)"
   ]
  },
  {
   "cell_type": "code",
   "execution_count": 30,
   "metadata": {},
   "outputs": [
    {
     "data": {
      "text/plain": [
       "358"
      ]
     },
     "execution_count": 30,
     "metadata": {},
     "output_type": "execute_result"
    }
   ],
   "source": [
    "keywords = ['Computer Science']\n",
    "courses = []\n",
    "for name in df['Course']:\n",
    "    for kw in keywords:\n",
    "        if kw in name:\n",
    "            courses.append(name)\n",
    "len(courses)"
   ]
  },
  {
   "cell_type": "code",
   "execution_count": 25,
   "metadata": {},
   "outputs": [
    {
     "data": {
      "text/plain": [
       "137"
      ]
     },
     "execution_count": 25,
     "metadata": {},
     "output_type": "execute_result"
    }
   ],
   "source": [
    "keywords = ['Cybersecurity', 'Security']\n",
    "courses = []\n",
    "for name in df['Course']:\n",
    "    for kw in keywords:\n",
    "        if kw in name:\n",
    "            courses.append(name)\n",
    "len(courses)"
   ]
  },
  {
   "cell_type": "code",
   "execution_count": 26,
   "metadata": {},
   "outputs": [
    {
     "data": {
      "text/plain": [
       "141"
      ]
     },
     "execution_count": 26,
     "metadata": {},
     "output_type": "execute_result"
    }
   ],
   "source": [
    "keywords = ['Software', 'Develop']\n",
    "courses = []\n",
    "for name in df['Course']:\n",
    "    for kw in keywords:\n",
    "        if kw in name:\n",
    "            courses.append(name)\n",
    "len(courses)"
   ]
  },
  {
   "cell_type": "code",
   "execution_count": 27,
   "metadata": {},
   "outputs": [
    {
     "data": {
      "text/plain": [
       "['B.Sc. Software Development',\n",
       " 'B.Sc. Software Development',\n",
       " 'Bachelor in Front-end Development',\n",
       " 'Bachelor of Science in Game Development',\n",
       " 'Bachelor in Software Engineering',\n",
       " 'Software Development and Entrepreneurship (Professional Higher Education)',\n",
       " 'Software Development and Entrepreneurship (Professional Higher Education)',\n",
       " 'Professional Bachelor in Information Technologies for Sustainable Development',\n",
       " 'B.Eng. Software Engineering Top Up',\n",
       " 'Bachelor in Software Development',\n",
       " 'Bachelor in Software Development',\n",
       " 'Bachelor in Software Engineering',\n",
       " 'B.Sc. Web Development',\n",
       " 'Bachelor in Game Development and Digital Animation (joint study programme with Dongseo University, South Korea)',\n",
       " 'Bachelor of Science in Software Development',\n",
       " 'Bachelor of Science in Software Development',\n",
       " 'BSc (Hons) Games Development',\n",
       " 'BSc (Hons) Computing and Web Development',\n",
       " 'BSc (Hons) Software Engineering',\n",
       " 'BSc (Hons) in Computer Game Development',\n",
       " 'Bachelor of Science in Software Engineering',\n",
       " 'Bachelor of Software Engineering (BSE)',\n",
       " 'BA(Hons) in Game Development',\n",
       " 'Bachelor of Science in Computer Software Technology',\n",
       " 'Bachelor in Software Engineering and Business Informatics',\n",
       " 'Bachelor in Software Engineering',\n",
       " 'Grado en Ingeniería del Software',\n",
       " 'BSc (Hons) in Computer Games (Software Development)',\n",
       " 'BSc (Hons) in Computer Games (Software Development)',\n",
       " 'BSc (Hons) Software Development for Business',\n",
       " 'BSc (Hons) Software Development for Business',\n",
       " 'BSc (Hons) in Software Engineering',\n",
       " 'BSc (Hons) Software Development with Cyber Security',\n",
       " 'BSc (Hons) Software Development with Cyber Security',\n",
       " 'BSc (Hons) in Software Engineering',\n",
       " 'BA in Development Studies and Data Analytics',\n",
       " 'BSc (Hons) Software Engineering',\n",
       " 'Bachelor in Software Engineering',\n",
       " 'BSc (Hons) Software Engineering',\n",
       " 'BSc (Hons) Software Engineering',\n",
       " 'BSc (Hons) in Software Engineering with Foundation Year',\n",
       " 'BEng (Hons) Software Engineering - 18 months (Bolton)',\n",
       " 'Bachelor in Software Engineering',\n",
       " 'Bachelor of Technology in Information Technology: Application Software Development',\n",
       " 'Bachelor of Technology in Information Technology: Application Software Development',\n",
       " 'Bachelor of Science in Game Development',\n",
       " 'BEng in Software Engineering',\n",
       " 'BSc in Computing Web Development',\n",
       " 'BSc in Software Engineering',\n",
       " 'Bachelor in Software Engineering',\n",
       " 'Bachelor of Applied Science in Software Development',\n",
       " 'Bachelor of Applied Science in Software Development',\n",
       " 'BS in Software Engineering',\n",
       " 'Bachelor in Software Engineering',\n",
       " 'Bachelor of Science in Software Engineering',\n",
       " 'BA In Game Development',\n",
       " \"Bachelor's Progamme in Software and Systems Engineering (Double Degree)\",\n",
       " \"Bachelor's Programme in Technology, Sustainable Urban Development\",\n",
       " 'Bachelor of Software Engineering (Hons)',\n",
       " 'BSc (Hons) in Computer Science (Software Engineering)',\n",
       " 'Bachelor of Science in Software Engineering',\n",
       " 'Bachelor of Science in Software Technology',\n",
       " 'Bachelor of Science in Computer Engineering Software Option Co-operative',\n",
       " 'Software Engineering',\n",
       " 'BSc (Hons) in Applied Software Development',\n",
       " 'BSc (Hons) in Applied Software Development',\n",
       " 'Bachelor In Software Engineering',\n",
       " 'Software Engineering BEng Honours',\n",
       " 'Computer Games Development BSc Honours',\n",
       " 'Bachelor in Games Development',\n",
       " 'Bachelor of Computer Science (Software Engineering)',\n",
       " 'Bachelor of Games Development',\n",
       " 'Bachelor of Engineering in Software Engineering',\n",
       " 'BSc (Hons) Software Engineering',\n",
       " 'Bachelor in Software and Data Engineering',\n",
       " 'Bachelor in Software Systems and Technologies',\n",
       " 'Bachelor in Software Development Technologies',\n",
       " 'Bachelor in Software Development Technologies',\n",
       " 'Bachelor of Science in Software Engineering',\n",
       " 'Bachelor in Software Technology Engineering',\n",
       " 'Training as media informatics VR / AR Development - Option: Bachelor',\n",
       " 'Training as Media Informatics Game Development - Option: Bachelor',\n",
       " 'Bachelor in Software Engineering',\n",
       " 'BSc In Software Engineering',\n",
       " 'Bachelor of Science in Software Engineering',\n",
       " 'Bachelor in Web Development',\n",
       " 'B.S. in Software Engineering',\n",
       " 'BSc in Software Engineering',\n",
       " 'Degree in Computer Software Engineering',\n",
       " 'Bachelor Software Development (BSc)',\n",
       " 'Bachelor Software Development (BSc)',\n",
       " 'BSc (Honours) in Computing and IT (Communications and Software)',\n",
       " 'BSc (Honours) in Computing and IT (Software)',\n",
       " 'Bachelor in Software Engineering',\n",
       " 'Software Engineering',\n",
       " 'Bachelor of Science in Software Engineering',\n",
       " 'Software Engineering Bachelor of Science (BS)',\n",
       " 'BS in Computing with Software Development',\n",
       " 'BS in Computing with Software Development',\n",
       " 'Software Development',\n",
       " 'Software Development',\n",
       " 'Bachelor in Software Engineering',\n",
       " \"Product Development and Integrative Technology, top-up Bachelor's\",\n",
       " 'Software and administration of information systems, \"Programming technologies\", Bachelor',\n",
       " \"Online Bachelor's Degree Program in Web Design & Development\",\n",
       " \"The Bachelor's of Applied Science in Information Technology: Application Development (BAS-IT:AD)\",\n",
       " 'Bachelor of Science in Game Design & Development',\n",
       " 'Bachelor of Applied Science Degree in Software Applications',\n",
       " 'Computer Science, specialization Software Engineering (Eng)',\n",
       " 'BS in Computer Software Development',\n",
       " 'BS in Computer Software Development',\n",
       " 'Faculty of Software and Information Science',\n",
       " 'BSc (Hons) Software Development with Cyber Security',\n",
       " 'BSc (Hons) Software Development with Cyber Security',\n",
       " 'Bachelor in Secure Software Development',\n",
       " 'Bachelor in Secure Software Development',\n",
       " 'BS in Web Design & Development',\n",
       " 'Bachelor of Science in Software Engineering',\n",
       " 'Bachelor in Computer Science (Software Engineering) (Hons)',\n",
       " 'Bachelor of Science in Software Engineering',\n",
       " 'Bachelor of Science in Software Engineering',\n",
       " 'Bachelor of Science in Software Development',\n",
       " 'Bachelor of Science in Software Development',\n",
       " 'Bachelor of Software Engineering',\n",
       " 'Software Engineering, Software Team Development Technology, BSc',\n",
       " 'Software Engineering, Software Team Development Technology, BSc',\n",
       " \"Computer Science and Software, Bachelor's Degree\",\n",
       " 'Bachelor in Software Engineering',\n",
       " 'Bachelor of Science - Game Design and Development',\n",
       " 'SOFTWARE ENGINEERING, Development of software and information systems, bachelor',\n",
       " 'BS in Software Engineering',\n",
       " 'Software Development Engineering (IDS)',\n",
       " 'Software Development Engineering (IDS)',\n",
       " 'Software Development',\n",
       " 'Software Development',\n",
       " 'Application Development - Bachelor of Applied Science',\n",
       " 'Bachelor of Software Engineering',\n",
       " 'Bachelor of Software Engineering',\n",
       " 'Mobile Application Development',\n",
       " 'Bachelor of Software Engineering',\n",
       " 'Bachelor of Computer Science: Multimedia and Game Development']"
      ]
     },
     "execution_count": 27,
     "metadata": {},
     "output_type": "execute_result"
    }
   ],
   "source": [
    "courses"
   ]
  },
  {
   "cell_type": "code",
   "execution_count": null,
   "metadata": {},
   "outputs": [],
   "source": []
  },
  {
   "cell_type": "code",
   "execution_count": null,
   "metadata": {},
   "outputs": [],
   "source": []
  }
 ],
 "metadata": {
  "kernelspec": {
   "display_name": "Python 3",
   "language": "python",
   "name": "python3"
  },
  "language_info": {
   "codemirror_mode": {
    "name": "ipython",
    "version": 3
   },
   "file_extension": ".py",
   "mimetype": "text/x-python",
   "name": "python",
   "nbconvert_exporter": "python",
   "pygments_lexer": "ipython3",
   "version": "3.8.5"
  }
 },
 "nbformat": 4,
 "nbformat_minor": 4
}
